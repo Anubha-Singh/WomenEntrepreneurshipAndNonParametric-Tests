{
 "cells": [
  {
   "cell_type": "code",
   "execution_count": 1,
   "metadata": {
    "_cell_guid": "b1076dfc-b9ad-4769-8c92-a6c4dae69d19",
    "_uuid": "8f2839f25d086af736a60e9eeb907d3b93b6e0e5",
    "execution": {
     "iopub.execute_input": "2021-01-07T14:44:34.988764Z",
     "iopub.status.busy": "2021-01-07T14:44:34.987903Z",
     "iopub.status.idle": "2021-01-07T14:44:35.005544Z",
     "shell.execute_reply": "2021-01-07T14:44:35.003286Z"
    },
    "papermill": {
     "duration": 0.051443,
     "end_time": "2021-01-07T14:44:35.005802",
     "exception": false,
     "start_time": "2021-01-07T14:44:34.954359",
     "status": "completed"
    },
    "tags": []
   },
   "outputs": [
    {
     "name": "stdout",
     "output_type": "stream",
     "text": [
      "/kaggle/input/women-entrepreneurship-and-labor-force/Dataset3.csv\n"
     ]
    }
   ],
   "source": [
    "# This Python 3 environment comes with many helpful analytics libraries installed\n",
    "# It is defined by the kaggle/python Docker image: https://github.com/kaggle/docker-python\n",
    "# For example, here's several helpful packages to load\n",
    "\n",
    "import numpy as np # linear algebra\n",
    "import pandas as pd # data processing, CSV file I/O (e.g. pd.read_csv)\n",
    "\n",
    "# Input data files are available in the read-only \"../input/\" directory\n",
    "# For example, running this (by clicking run or pressing Shift+Enter) will list all files under the input directory\n",
    "\n",
    "import os\n",
    "for dirname, _, filenames in os.walk('/kaggle/input'):\n",
    "    for filename in filenames:\n",
    "        print(os.path.join(dirname, filename))\n",
    "\n",
    "# You can write up to 20GB to the current directory (/kaggle/working/) that gets preserved as output when you create a version using \"Save & Run All\" \n",
    "# You can also write temporary files to /kaggle/temp/, but they won't be saved outside of the current session"
   ]
  },
  {
   "cell_type": "code",
   "execution_count": 2,
   "metadata": {
    "execution": {
     "iopub.execute_input": "2021-01-07T14:44:35.067553Z",
     "iopub.status.busy": "2021-01-07T14:44:35.066865Z",
     "iopub.status.idle": "2021-01-07T14:44:35.424100Z",
     "shell.execute_reply": "2021-01-07T14:44:35.424694Z"
    },
    "papermill": {
     "duration": 0.392338,
     "end_time": "2021-01-07T14:44:35.424992",
     "exception": false,
     "start_time": "2021-01-07T14:44:35.032654",
     "status": "completed"
    },
    "tags": []
   },
   "outputs": [
    {
     "data": {
      "text/html": [
       "<style  type=\"text/css\" >\n",
       "#T_dc49ca30_50f6_11eb_96b2_0242ac130202row0_col0{\n",
       "            background-color:  #f8fcc9;\n",
       "            color:  #000000;\n",
       "        }#T_dc49ca30_50f6_11eb_96b2_0242ac130202row0_col5{\n",
       "            background-color:  #2498c1;\n",
       "            color:  #000000;\n",
       "        }#T_dc49ca30_50f6_11eb_96b2_0242ac130202row0_col6{\n",
       "            background-color:  #225aa6;\n",
       "            color:  #f1f1f1;\n",
       "        }#T_dc49ca30_50f6_11eb_96b2_0242ac130202row0_col7,#T_dc49ca30_50f6_11eb_96b2_0242ac130202row42_col6{\n",
       "            background-color:  #eff9b6;\n",
       "            color:  #000000;\n",
       "        }#T_dc49ca30_50f6_11eb_96b2_0242ac130202row0_col8,#T_dc49ca30_50f6_11eb_96b2_0242ac130202row45_col0{\n",
       "            background-color:  #2354a3;\n",
       "            color:  #f1f1f1;\n",
       "        }#T_dc49ca30_50f6_11eb_96b2_0242ac130202row1_col0,#T_dc49ca30_50f6_11eb_96b2_0242ac130202row9_col7{\n",
       "            background-color:  #f3fabf;\n",
       "            color:  #000000;\n",
       "        }#T_dc49ca30_50f6_11eb_96b2_0242ac130202row1_col5,#T_dc49ca30_50f6_11eb_96b2_0242ac130202row3_col6,#T_dc49ca30_50f6_11eb_96b2_0242ac130202row5_col5,#T_dc49ca30_50f6_11eb_96b2_0242ac130202row20_col8,#T_dc49ca30_50f6_11eb_96b2_0242ac130202row25_col5{\n",
       "            background-color:  #2355a4;\n",
       "            color:  #f1f1f1;\n",
       "        }#T_dc49ca30_50f6_11eb_96b2_0242ac130202row1_col6,#T_dc49ca30_50f6_11eb_96b2_0242ac130202row9_col8,#T_dc49ca30_50f6_11eb_96b2_0242ac130202row10_col8,#T_dc49ca30_50f6_11eb_96b2_0242ac130202row23_col6{\n",
       "            background-color:  #2356a4;\n",
       "            color:  #f1f1f1;\n",
       "        }#T_dc49ca30_50f6_11eb_96b2_0242ac130202row1_col7,#T_dc49ca30_50f6_11eb_96b2_0242ac130202row11_col7{\n",
       "            background-color:  #f1faba;\n",
       "            color:  #000000;\n",
       "        }#T_dc49ca30_50f6_11eb_96b2_0242ac130202row1_col8{\n",
       "            background-color:  #1e86bb;\n",
       "            color:  #000000;\n",
       "        }#T_dc49ca30_50f6_11eb_96b2_0242ac130202row2_col0{\n",
       "            background-color:  #bbe4b5;\n",
       "            color:  #000000;\n",
       "        }#T_dc49ca30_50f6_11eb_96b2_0242ac130202row2_col5,#T_dc49ca30_50f6_11eb_96b2_0242ac130202row26_col8{\n",
       "            background-color:  #2296c1;\n",
       "            color:  #000000;\n",
       "        }#T_dc49ca30_50f6_11eb_96b2_0242ac130202row2_col6,#T_dc49ca30_50f6_11eb_96b2_0242ac130202row7_col8,#T_dc49ca30_50f6_11eb_96b2_0242ac130202row10_col5,#T_dc49ca30_50f6_11eb_96b2_0242ac130202row33_col8{\n",
       "            background-color:  #1f7eb7;\n",
       "            color:  #000000;\n",
       "        }#T_dc49ca30_50f6_11eb_96b2_0242ac130202row2_col7,#T_dc49ca30_50f6_11eb_96b2_0242ac130202row10_col7,#T_dc49ca30_50f6_11eb_96b2_0242ac130202row18_col7,#T_dc49ca30_50f6_11eb_96b2_0242ac130202row35_col5,#T_dc49ca30_50f6_11eb_96b2_0242ac130202row47_col7{\n",
       "            background-color:  #f8fcca;\n",
       "            color:  #000000;\n",
       "        }#T_dc49ca30_50f6_11eb_96b2_0242ac130202row2_col8{\n",
       "            background-color:  #234c9f;\n",
       "            color:  #f1f1f1;\n",
       "        }#T_dc49ca30_50f6_11eb_96b2_0242ac130202row3_col0,#T_dc49ca30_50f6_11eb_96b2_0242ac130202row41_col6{\n",
       "            background-color:  #b2e1b6;\n",
       "            color:  #000000;\n",
       "        }#T_dc49ca30_50f6_11eb_96b2_0242ac130202row3_col5,#T_dc49ca30_50f6_11eb_96b2_0242ac130202row12_col0,#T_dc49ca30_50f6_11eb_96b2_0242ac130202row23_col5,#T_dc49ca30_50f6_11eb_96b2_0242ac130202row25_col6{\n",
       "            background-color:  #24439b;\n",
       "            color:  #f1f1f1;\n",
       "        }#T_dc49ca30_50f6_11eb_96b2_0242ac130202row3_col7,#T_dc49ca30_50f6_11eb_96b2_0242ac130202row27_col8{\n",
       "            background-color:  #f5fbc2;\n",
       "            color:  #000000;\n",
       "        }#T_dc49ca30_50f6_11eb_96b2_0242ac130202row3_col8,#T_dc49ca30_50f6_11eb_96b2_0242ac130202row11_col6,#T_dc49ca30_50f6_11eb_96b2_0242ac130202row43_col8{\n",
       "            background-color:  #2350a1;\n",
       "            color:  #f1f1f1;\n",
       "        }#T_dc49ca30_50f6_11eb_96b2_0242ac130202row4_col0{\n",
       "            background-color:  #a7dcb7;\n",
       "            color:  #000000;\n",
       "        }#T_dc49ca30_50f6_11eb_96b2_0242ac130202row4_col5{\n",
       "            background-color:  #243392;\n",
       "            color:  #f1f1f1;\n",
       "        }#T_dc49ca30_50f6_11eb_96b2_0242ac130202row4_col6,#T_dc49ca30_50f6_11eb_96b2_0242ac130202row5_col6{\n",
       "            background-color:  #234b9f;\n",
       "            color:  #f1f1f1;\n",
       "        }#T_dc49ca30_50f6_11eb_96b2_0242ac130202row4_col7,#T_dc49ca30_50f6_11eb_96b2_0242ac130202row8_col7,#T_dc49ca30_50f6_11eb_96b2_0242ac130202row19_col7,#T_dc49ca30_50f6_11eb_96b2_0242ac130202row43_col7{\n",
       "            background-color:  #f4fbc0;\n",
       "            color:  #000000;\n",
       "        }#T_dc49ca30_50f6_11eb_96b2_0242ac130202row4_col8,#T_dc49ca30_50f6_11eb_96b2_0242ac130202row15_col8{\n",
       "            background-color:  #1f78b4;\n",
       "            color:  #000000;\n",
       "        }#T_dc49ca30_50f6_11eb_96b2_0242ac130202row5_col0,#T_dc49ca30_50f6_11eb_96b2_0242ac130202row40_col5{\n",
       "            background-color:  #9ed9b8;\n",
       "            color:  #000000;\n",
       "        }#T_dc49ca30_50f6_11eb_96b2_0242ac130202row5_col7,#T_dc49ca30_50f6_11eb_96b2_0242ac130202row16_col7{\n",
       "            background-color:  #f1fabb;\n",
       "            color:  #000000;\n",
       "        }#T_dc49ca30_50f6_11eb_96b2_0242ac130202row5_col8{\n",
       "            background-color:  #24459c;\n",
       "            color:  #f1f1f1;\n",
       "        }#T_dc49ca30_50f6_11eb_96b2_0242ac130202row6_col0,#T_dc49ca30_50f6_11eb_96b2_0242ac130202row6_col5,#T_dc49ca30_50f6_11eb_96b2_0242ac130202row39_col8{\n",
       "            background-color:  #89d1ba;\n",
       "            color:  #000000;\n",
       "        }#T_dc49ca30_50f6_11eb_96b2_0242ac130202row6_col6{\n",
       "            background-color:  #9cd8b8;\n",
       "            color:  #000000;\n",
       "        }#T_dc49ca30_50f6_11eb_96b2_0242ac130202row6_col7,#T_dc49ca30_50f6_11eb_96b2_0242ac130202row28_col0,#T_dc49ca30_50f6_11eb_96b2_0242ac130202row31_col6{\n",
       "            background-color:  #fdfed4;\n",
       "            color:  #000000;\n",
       "        }#T_dc49ca30_50f6_11eb_96b2_0242ac130202row6_col8,#T_dc49ca30_50f6_11eb_96b2_0242ac130202row38_col0{\n",
       "            background-color:  #67c4be;\n",
       "            color:  #000000;\n",
       "        }#T_dc49ca30_50f6_11eb_96b2_0242ac130202row7_col0,#T_dc49ca30_50f6_11eb_96b2_0242ac130202row35_col7,#T_dc49ca30_50f6_11eb_96b2_0242ac130202row42_col8{\n",
       "            background-color:  #55bec1;\n",
       "            color:  #000000;\n",
       "        }#T_dc49ca30_50f6_11eb_96b2_0242ac130202row7_col5{\n",
       "            background-color:  #2351a2;\n",
       "            color:  #f1f1f1;\n",
       "        }#T_dc49ca30_50f6_11eb_96b2_0242ac130202row7_col6{\n",
       "            background-color:  #2258a5;\n",
       "            color:  #f1f1f1;\n",
       "        }#T_dc49ca30_50f6_11eb_96b2_0242ac130202row7_col7,#T_dc49ca30_50f6_11eb_96b2_0242ac130202row12_col7{\n",
       "            background-color:  #f5fbc4;\n",
       "            color:  #000000;\n",
       "        }#T_dc49ca30_50f6_11eb_96b2_0242ac130202row8_col0{\n",
       "            background-color:  #46b8c3;\n",
       "            color:  #000000;\n",
       "        }#T_dc49ca30_50f6_11eb_96b2_0242ac130202row8_col5,#T_dc49ca30_50f6_11eb_96b2_0242ac130202row22_col0{\n",
       "            background-color:  #3aaec3;\n",
       "            color:  #000000;\n",
       "        }#T_dc49ca30_50f6_11eb_96b2_0242ac130202row8_col6{\n",
       "            background-color:  #a5dcb7;\n",
       "            color:  #000000;\n",
       "        }#T_dc49ca30_50f6_11eb_96b2_0242ac130202row8_col8,#T_dc49ca30_50f6_11eb_96b2_0242ac130202row28_col8{\n",
       "            background-color:  #44b7c4;\n",
       "            color:  #000000;\n",
       "        }#T_dc49ca30_50f6_11eb_96b2_0242ac130202row9_col0,#T_dc49ca30_50f6_11eb_96b2_0242ac130202row30_col8{\n",
       "            background-color:  #2fa4c2;\n",
       "            color:  #000000;\n",
       "        }#T_dc49ca30_50f6_11eb_96b2_0242ac130202row9_col5,#T_dc49ca30_50f6_11eb_96b2_0242ac130202row18_col8{\n",
       "            background-color:  #1d8ebf;\n",
       "            color:  #000000;\n",
       "        }#T_dc49ca30_50f6_11eb_96b2_0242ac130202row9_col6,#T_dc49ca30_50f6_11eb_96b2_0242ac130202row10_col6,#T_dc49ca30_50f6_11eb_96b2_0242ac130202row49_col6{\n",
       "            background-color:  #2ea3c2;\n",
       "            color:  #000000;\n",
       "        }#T_dc49ca30_50f6_11eb_96b2_0242ac130202row10_col0{\n",
       "            background-color:  #2b9fc2;\n",
       "            color:  #000000;\n",
       "        }#T_dc49ca30_50f6_11eb_96b2_0242ac130202row11_col0{\n",
       "            background-color:  #1e8abd;\n",
       "            color:  #000000;\n",
       "        }#T_dc49ca30_50f6_11eb_96b2_0242ac130202row11_col5,#T_dc49ca30_50f6_11eb_96b2_0242ac130202row19_col6,#T_dc49ca30_50f6_11eb_96b2_0242ac130202row25_col8{\n",
       "            background-color:  #21318d;\n",
       "            color:  #f1f1f1;\n",
       "        }#T_dc49ca30_50f6_11eb_96b2_0242ac130202row11_col8,#T_dc49ca30_50f6_11eb_96b2_0242ac130202row23_col8{\n",
       "            background-color:  #23499e;\n",
       "            color:  #f1f1f1;\n",
       "        }#T_dc49ca30_50f6_11eb_96b2_0242ac130202row12_col5{\n",
       "            background-color:  #259ac1;\n",
       "            color:  #000000;\n",
       "        }#T_dc49ca30_50f6_11eb_96b2_0242ac130202row12_col6,#T_dc49ca30_50f6_11eb_96b2_0242ac130202row17_col0,#T_dc49ca30_50f6_11eb_96b2_0242ac130202row50_col5{\n",
       "            background-color:  #78cbbc;\n",
       "            color:  #000000;\n",
       "        }#T_dc49ca30_50f6_11eb_96b2_0242ac130202row12_col8,#T_dc49ca30_50f6_11eb_96b2_0242ac130202row13_col5,#T_dc49ca30_50f6_11eb_96b2_0242ac130202row31_col8,#T_dc49ca30_50f6_11eb_96b2_0242ac130202row45_col7{\n",
       "            background-color:  #1f93c0;\n",
       "            color:  #000000;\n",
       "        }#T_dc49ca30_50f6_11eb_96b2_0242ac130202row13_col0{\n",
       "            background-color:  #243d98;\n",
       "            color:  #f1f1f1;\n",
       "        }#T_dc49ca30_50f6_11eb_96b2_0242ac130202row13_col6{\n",
       "            background-color:  #36abc3;\n",
       "            color:  #000000;\n",
       "        }#T_dc49ca30_50f6_11eb_96b2_0242ac130202row13_col7,#T_dc49ca30_50f6_11eb_96b2_0242ac130202row14_col7,#T_dc49ca30_50f6_11eb_96b2_0242ac130202row15_col7,#T_dc49ca30_50f6_11eb_96b2_0242ac130202row24_col7,#T_dc49ca30_50f6_11eb_96b2_0242ac130202row29_col6,#T_dc49ca30_50f6_11eb_96b2_0242ac130202row34_col7{\n",
       "            background-color:  #f7fcc6;\n",
       "            color:  #000000;\n",
       "        }#T_dc49ca30_50f6_11eb_96b2_0242ac130202row13_col8,#T_dc49ca30_50f6_11eb_96b2_0242ac130202row38_col8,#T_dc49ca30_50f6_11eb_96b2_0242ac130202row43_col0{\n",
       "            background-color:  #2075b3;\n",
       "            color:  #f1f1f1;\n",
       "        }#T_dc49ca30_50f6_11eb_96b2_0242ac130202row14_col0,#T_dc49ca30_50f6_11eb_96b2_0242ac130202row16_col6,#T_dc49ca30_50f6_11eb_96b2_0242ac130202row19_col8{\n",
       "            background-color:  #233390;\n",
       "            color:  #f1f1f1;\n",
       "        }#T_dc49ca30_50f6_11eb_96b2_0242ac130202row14_col5{\n",
       "            background-color:  #33a7c2;\n",
       "            color:  #000000;\n",
       "        }#T_dc49ca30_50f6_11eb_96b2_0242ac130202row14_col6,#T_dc49ca30_50f6_11eb_96b2_0242ac130202row46_col6{\n",
       "            background-color:  #50bbc2;\n",
       "            color:  #000000;\n",
       "        }#T_dc49ca30_50f6_11eb_96b2_0242ac130202row14_col8,#T_dc49ca30_50f6_11eb_96b2_0242ac130202row17_col5{\n",
       "            background-color:  #2ca1c2;\n",
       "            color:  #000000;\n",
       "        }#T_dc49ca30_50f6_11eb_96b2_0242ac130202row15_col0{\n",
       "            background-color:  #dbf1b2;\n",
       "            color:  #000000;\n",
       "        }#T_dc49ca30_50f6_11eb_96b2_0242ac130202row15_col5{\n",
       "            background-color:  #42b6c4;\n",
       "            color:  #000000;\n",
       "        }#T_dc49ca30_50f6_11eb_96b2_0242ac130202row15_col6,#T_dc49ca30_50f6_11eb_96b2_0242ac130202row22_col5{\n",
       "            background-color:  #abdeb7;\n",
       "            color:  #000000;\n",
       "        }#T_dc49ca30_50f6_11eb_96b2_0242ac130202row16_col0,#T_dc49ca30_50f6_11eb_96b2_0242ac130202row39_col7,#T_dc49ca30_50f6_11eb_96b2_0242ac130202row40_col7{\n",
       "            background-color:  #d5efb3;\n",
       "            color:  #000000;\n",
       "        }#T_dc49ca30_50f6_11eb_96b2_0242ac130202row16_col5,#T_dc49ca30_50f6_11eb_96b2_0242ac130202row19_col0{\n",
       "            background-color:  #203089;\n",
       "            color:  #f1f1f1;\n",
       "        }#T_dc49ca30_50f6_11eb_96b2_0242ac130202row16_col8{\n",
       "            background-color:  #24449c;\n",
       "            color:  #f1f1f1;\n",
       "        }#T_dc49ca30_50f6_11eb_96b2_0242ac130202row17_col6,#T_dc49ca30_50f6_11eb_96b2_0242ac130202row37_col0{\n",
       "            background-color:  #95d5b9;\n",
       "            color:  #000000;\n",
       "        }#T_dc49ca30_50f6_11eb_96b2_0242ac130202row17_col7,#T_dc49ca30_50f6_11eb_96b2_0242ac130202row30_col6{\n",
       "            background-color:  #f4fbc1;\n",
       "            color:  #000000;\n",
       "        }#T_dc49ca30_50f6_11eb_96b2_0242ac130202row17_col8{\n",
       "            background-color:  #1e88bc;\n",
       "            color:  #000000;\n",
       "        }#T_dc49ca30_50f6_11eb_96b2_0242ac130202row18_col0,#T_dc49ca30_50f6_11eb_96b2_0242ac130202row34_col8,#T_dc49ca30_50f6_11eb_96b2_0242ac130202row44_col8{\n",
       "            background-color:  #2166ac;\n",
       "            color:  #f1f1f1;\n",
       "        }#T_dc49ca30_50f6_11eb_96b2_0242ac130202row18_col5{\n",
       "            background-color:  #1e85ba;\n",
       "            color:  #000000;\n",
       "        }#T_dc49ca30_50f6_11eb_96b2_0242ac130202row18_col6{\n",
       "            background-color:  #65c3bf;\n",
       "            color:  #000000;\n",
       "        }#T_dc49ca30_50f6_11eb_96b2_0242ac130202row19_col5,#T_dc49ca30_50f6_11eb_96b2_0242ac130202row26_col6{\n",
       "            background-color:  #24409a;\n",
       "            color:  #f1f1f1;\n",
       "        }#T_dc49ca30_50f6_11eb_96b2_0242ac130202row20_col0{\n",
       "            background-color:  #fafdcf;\n",
       "            color:  #000000;\n",
       "        }#T_dc49ca30_50f6_11eb_96b2_0242ac130202row20_col5,#T_dc49ca30_50f6_11eb_96b2_0242ac130202row20_col6,#T_dc49ca30_50f6_11eb_96b2_0242ac130202row21_col8,#T_dc49ca30_50f6_11eb_96b2_0242ac130202row28_col7,#T_dc49ca30_50f6_11eb_96b2_0242ac130202row50_col0{\n",
       "            background-color:  #081d58;\n",
       "            color:  #f1f1f1;\n",
       "        }#T_dc49ca30_50f6_11eb_96b2_0242ac130202row20_col7,#T_dc49ca30_50f6_11eb_96b2_0242ac130202row45_col6{\n",
       "            background-color:  #ecf7b1;\n",
       "            color:  #000000;\n",
       "        }#T_dc49ca30_50f6_11eb_96b2_0242ac130202row21_col0{\n",
       "            background-color:  #6fc7bd;\n",
       "            color:  #000000;\n",
       "        }#T_dc49ca30_50f6_11eb_96b2_0242ac130202row21_col5{\n",
       "            background-color:  #253896;\n",
       "            color:  #f1f1f1;\n",
       "        }#T_dc49ca30_50f6_11eb_96b2_0242ac130202row21_col6,#T_dc49ca30_50f6_11eb_96b2_0242ac130202row40_col8{\n",
       "            background-color:  #253795;\n",
       "            color:  #f1f1f1;\n",
       "        }#T_dc49ca30_50f6_11eb_96b2_0242ac130202row21_col7,#T_dc49ca30_50f6_11eb_96b2_0242ac130202row31_col0{\n",
       "            background-color:  #eaf7b1;\n",
       "            color:  #000000;\n",
       "        }#T_dc49ca30_50f6_11eb_96b2_0242ac130202row22_col6{\n",
       "            background-color:  #52bcc2;\n",
       "            color:  #000000;\n",
       "        }#T_dc49ca30_50f6_11eb_96b2_0242ac130202row22_col7,#T_dc49ca30_50f6_11eb_96b2_0242ac130202row33_col7,#T_dc49ca30_50f6_11eb_96b2_0242ac130202row48_col5{\n",
       "            background-color:  #f0f9b7;\n",
       "            color:  #000000;\n",
       "        }#T_dc49ca30_50f6_11eb_96b2_0242ac130202row22_col8,#T_dc49ca30_50f6_11eb_96b2_0242ac130202row35_col8{\n",
       "            background-color:  #2260a9;\n",
       "            color:  #f1f1f1;\n",
       "        }#T_dc49ca30_50f6_11eb_96b2_0242ac130202row23_col0{\n",
       "            background-color:  #1f82b9;\n",
       "            color:  #000000;\n",
       "        }#T_dc49ca30_50f6_11eb_96b2_0242ac130202row23_col7,#T_dc49ca30_50f6_11eb_96b2_0242ac130202row32_col0{\n",
       "            background-color:  #e5f5b2;\n",
       "            color:  #000000;\n",
       "        }#T_dc49ca30_50f6_11eb_96b2_0242ac130202row24_col0,#T_dc49ca30_50f6_11eb_96b2_0242ac130202row29_col8{\n",
       "            background-color:  #24489d;\n",
       "            color:  #f1f1f1;\n",
       "        }#T_dc49ca30_50f6_11eb_96b2_0242ac130202row24_col5{\n",
       "            background-color:  #2073b2;\n",
       "            color:  #f1f1f1;\n",
       "        }#T_dc49ca30_50f6_11eb_96b2_0242ac130202row24_col6{\n",
       "            background-color:  #24479d;\n",
       "            color:  #f1f1f1;\n",
       "        }#T_dc49ca30_50f6_11eb_96b2_0242ac130202row24_col8{\n",
       "            background-color:  #1f80b8;\n",
       "            color:  #000000;\n",
       "        }#T_dc49ca30_50f6_11eb_96b2_0242ac130202row25_col0{\n",
       "            background-color:  #1b2c80;\n",
       "            color:  #f1f1f1;\n",
       "        }#T_dc49ca30_50f6_11eb_96b2_0242ac130202row25_col7,#T_dc49ca30_50f6_11eb_96b2_0242ac130202row27_col5{\n",
       "            background-color:  #f9fdcc;\n",
       "            color:  #000000;\n",
       "        }#T_dc49ca30_50f6_11eb_96b2_0242ac130202row26_col0{\n",
       "            background-color:  #172978;\n",
       "            color:  #f1f1f1;\n",
       "        }#T_dc49ca30_50f6_11eb_96b2_0242ac130202row26_col5{\n",
       "            background-color:  #2da2c2;\n",
       "            color:  #000000;\n",
       "        }#T_dc49ca30_50f6_11eb_96b2_0242ac130202row26_col7{\n",
       "            background-color:  #f7fcc7;\n",
       "            color:  #000000;\n",
       "        }#T_dc49ca30_50f6_11eb_96b2_0242ac130202row27_col0,#T_dc49ca30_50f6_11eb_96b2_0242ac130202row36_col7,#T_dc49ca30_50f6_11eb_96b2_0242ac130202row37_col6,#T_dc49ca30_50f6_11eb_96b2_0242ac130202row38_col5,#T_dc49ca30_50f6_11eb_96b2_0242ac130202row46_col8{\n",
       "            background-color:  #ffffd9;\n",
       "            color:  #000000;\n",
       "        }#T_dc49ca30_50f6_11eb_96b2_0242ac130202row27_col6,#T_dc49ca30_50f6_11eb_96b2_0242ac130202row29_col0{\n",
       "            background-color:  #f0f9b8;\n",
       "            color:  #000000;\n",
       "        }#T_dc49ca30_50f6_11eb_96b2_0242ac130202row27_col7,#T_dc49ca30_50f6_11eb_96b2_0242ac130202row33_col6,#T_dc49ca30_50f6_11eb_96b2_0242ac130202row48_col7{\n",
       "            background-color:  #c9eab4;\n",
       "            color:  #000000;\n",
       "        }#T_dc49ca30_50f6_11eb_96b2_0242ac130202row28_col5,#T_dc49ca30_50f6_11eb_96b2_0242ac130202row45_col5{\n",
       "            background-color:  #d4eeb3;\n",
       "            color:  #000000;\n",
       "        }#T_dc49ca30_50f6_11eb_96b2_0242ac130202row28_col6,#T_dc49ca30_50f6_11eb_96b2_0242ac130202row35_col0,#T_dc49ca30_50f6_11eb_96b2_0242ac130202row46_col5{\n",
       "            background-color:  #cbebb4;\n",
       "            color:  #000000;\n",
       "        }#T_dc49ca30_50f6_11eb_96b2_0242ac130202row29_col5{\n",
       "            background-color:  #f3fabd;\n",
       "            color:  #000000;\n",
       "        }#T_dc49ca30_50f6_11eb_96b2_0242ac130202row29_col7,#T_dc49ca30_50f6_11eb_96b2_0242ac130202row32_col6,#T_dc49ca30_50f6_11eb_96b2_0242ac130202row34_col0{\n",
       "            background-color:  #d0edb3;\n",
       "            color:  #000000;\n",
       "        }#T_dc49ca30_50f6_11eb_96b2_0242ac130202row30_col0,#T_dc49ca30_50f6_11eb_96b2_0242ac130202row46_col7{\n",
       "            background-color:  #eef8b3;\n",
       "            color:  #000000;\n",
       "        }#T_dc49ca30_50f6_11eb_96b2_0242ac130202row30_col5,#T_dc49ca30_50f6_11eb_96b2_0242ac130202row32_col7{\n",
       "            background-color:  #edf8b1;\n",
       "            color:  #000000;\n",
       "        }#T_dc49ca30_50f6_11eb_96b2_0242ac130202row30_col7,#T_dc49ca30_50f6_11eb_96b2_0242ac130202row39_col6{\n",
       "            background-color:  #f9fdcb;\n",
       "            color:  #000000;\n",
       "        }#T_dc49ca30_50f6_11eb_96b2_0242ac130202row31_col5,#T_dc49ca30_50f6_11eb_96b2_0242ac130202row44_col6{\n",
       "            background-color:  #eff9b5;\n",
       "            color:  #000000;\n",
       "        }#T_dc49ca30_50f6_11eb_96b2_0242ac130202row31_col7{\n",
       "            background-color:  #59bfc0;\n",
       "            color:  #000000;\n",
       "        }#T_dc49ca30_50f6_11eb_96b2_0242ac130202row32_col5{\n",
       "            background-color:  #c0e6b5;\n",
       "            color:  #000000;\n",
       "        }#T_dc49ca30_50f6_11eb_96b2_0242ac130202row32_col8,#T_dc49ca30_50f6_11eb_96b2_0242ac130202row44_col0{\n",
       "            background-color:  #216daf;\n",
       "            color:  #f1f1f1;\n",
       "        }#T_dc49ca30_50f6_11eb_96b2_0242ac130202row33_col0{\n",
       "            background-color:  #e0f3b2;\n",
       "            color:  #000000;\n",
       "        }#T_dc49ca30_50f6_11eb_96b2_0242ac130202row33_col5{\n",
       "            background-color:  #d1edb3;\n",
       "            color:  #000000;\n",
       "        }#T_dc49ca30_50f6_11eb_96b2_0242ac130202row34_col5{\n",
       "            background-color:  #e8f6b1;\n",
       "            color:  #000000;\n",
       "        }#T_dc49ca30_50f6_11eb_96b2_0242ac130202row34_col6,#T_dc49ca30_50f6_11eb_96b2_0242ac130202row35_col6{\n",
       "            background-color:  #f6fbc5;\n",
       "            color:  #000000;\n",
       "        }#T_dc49ca30_50f6_11eb_96b2_0242ac130202row36_col0{\n",
       "            background-color:  #c4e8b4;\n",
       "            color:  #000000;\n",
       "        }#T_dc49ca30_50f6_11eb_96b2_0242ac130202row36_col5,#T_dc49ca30_50f6_11eb_96b2_0242ac130202row36_col6{\n",
       "            background-color:  #f2fabc;\n",
       "            color:  #000000;\n",
       "        }#T_dc49ca30_50f6_11eb_96b2_0242ac130202row36_col8{\n",
       "            background-color:  #2094c0;\n",
       "            color:  #000000;\n",
       "        }#T_dc49ca30_50f6_11eb_96b2_0242ac130202row37_col5,#T_dc49ca30_50f6_11eb_96b2_0242ac130202row38_col6{\n",
       "            background-color:  #feffd6;\n",
       "            color:  #000000;\n",
       "        }#T_dc49ca30_50f6_11eb_96b2_0242ac130202row37_col7{\n",
       "            background-color:  #1f7bb6;\n",
       "            color:  #000000;\n",
       "        }#T_dc49ca30_50f6_11eb_96b2_0242ac130202row37_col8{\n",
       "            background-color:  #2076b3;\n",
       "            color:  #000000;\n",
       "        }#T_dc49ca30_50f6_11eb_96b2_0242ac130202row38_col7,#T_dc49ca30_50f6_11eb_96b2_0242ac130202row49_col5{\n",
       "            background-color:  #b4e2b6;\n",
       "            color:  #000000;\n",
       "        }#T_dc49ca30_50f6_11eb_96b2_0242ac130202row39_col0{\n",
       "            background-color:  #3eb3c4;\n",
       "            color:  #000000;\n",
       "        }#T_dc49ca30_50f6_11eb_96b2_0242ac130202row39_col5{\n",
       "            background-color:  #bde5b5;\n",
       "            color:  #000000;\n",
       "        }#T_dc49ca30_50f6_11eb_96b2_0242ac130202row40_col0{\n",
       "            background-color:  #269bc1;\n",
       "            color:  #000000;\n",
       "        }#T_dc49ca30_50f6_11eb_96b2_0242ac130202row40_col6,#T_dc49ca30_50f6_11eb_96b2_0242ac130202row43_col5{\n",
       "            background-color:  #cdebb4;\n",
       "            color:  #000000;\n",
       "        }#T_dc49ca30_50f6_11eb_96b2_0242ac130202row41_col0{\n",
       "            background-color:  #2195c0;\n",
       "            color:  #000000;\n",
       "        }#T_dc49ca30_50f6_11eb_96b2_0242ac130202row41_col5{\n",
       "            background-color:  #b7e3b6;\n",
       "            color:  #000000;\n",
       "        }#T_dc49ca30_50f6_11eb_96b2_0242ac130202row41_col7{\n",
       "            background-color:  #e3f4b2;\n",
       "            color:  #000000;\n",
       "        }#T_dc49ca30_50f6_11eb_96b2_0242ac130202row41_col8{\n",
       "            background-color:  #1e83ba;\n",
       "            color:  #000000;\n",
       "        }#T_dc49ca30_50f6_11eb_96b2_0242ac130202row42_col0{\n",
       "            background-color:  #1d90c0;\n",
       "            color:  #000000;\n",
       "        }#T_dc49ca30_50f6_11eb_96b2_0242ac130202row42_col5{\n",
       "            background-color:  #8cd2ba;\n",
       "            color:  #000000;\n",
       "        }#T_dc49ca30_50f6_11eb_96b2_0242ac130202row42_col7{\n",
       "            background-color:  #dff2b2;\n",
       "            color:  #000000;\n",
       "        }#T_dc49ca30_50f6_11eb_96b2_0242ac130202row43_col6,#T_dc49ca30_50f6_11eb_96b2_0242ac130202row47_col6{\n",
       "            background-color:  #e9f7b1;\n",
       "            color:  #000000;\n",
       "        }#T_dc49ca30_50f6_11eb_96b2_0242ac130202row44_col5{\n",
       "            background-color:  #83cebb;\n",
       "            color:  #000000;\n",
       "        }#T_dc49ca30_50f6_11eb_96b2_0242ac130202row44_col7,#T_dc49ca30_50f6_11eb_96b2_0242ac130202row48_col6{\n",
       "            background-color:  #d6efb3;\n",
       "            color:  #000000;\n",
       "        }#T_dc49ca30_50f6_11eb_96b2_0242ac130202row45_col8{\n",
       "            background-color:  #225da8;\n",
       "            color:  #f1f1f1;\n",
       "        }#T_dc49ca30_50f6_11eb_96b2_0242ac130202row46_col0,#T_dc49ca30_50f6_11eb_96b2_0242ac130202row50_col8{\n",
       "            background-color:  #234fa1;\n",
       "            color:  #f1f1f1;\n",
       "        }#T_dc49ca30_50f6_11eb_96b2_0242ac130202row47_col0{\n",
       "            background-color:  #142670;\n",
       "            color:  #f1f1f1;\n",
       "        }#T_dc49ca30_50f6_11eb_96b2_0242ac130202row47_col5{\n",
       "            background-color:  #ceecb3;\n",
       "            color:  #000000;\n",
       "        }#T_dc49ca30_50f6_11eb_96b2_0242ac130202row47_col8{\n",
       "            background-color:  #206eb0;\n",
       "            color:  #f1f1f1;\n",
       "        }#T_dc49ca30_50f6_11eb_96b2_0242ac130202row48_col0{\n",
       "            background-color:  #0f2367;\n",
       "            color:  #f1f1f1;\n",
       "        }#T_dc49ca30_50f6_11eb_96b2_0242ac130202row48_col8{\n",
       "            background-color:  #ddf2b2;\n",
       "            color:  #000000;\n",
       "        }#T_dc49ca30_50f6_11eb_96b2_0242ac130202row49_col0{\n",
       "            background-color:  #0c2060;\n",
       "            color:  #f1f1f1;\n",
       "        }#T_dc49ca30_50f6_11eb_96b2_0242ac130202row49_col7{\n",
       "            background-color:  #90d4b9;\n",
       "            color:  #000000;\n",
       "        }#T_dc49ca30_50f6_11eb_96b2_0242ac130202row49_col8{\n",
       "            background-color:  #c6e9b4;\n",
       "            color:  #000000;\n",
       "        }#T_dc49ca30_50f6_11eb_96b2_0242ac130202row50_col6{\n",
       "            background-color:  #a2dbb8;\n",
       "            color:  #000000;\n",
       "        }#T_dc49ca30_50f6_11eb_96b2_0242ac130202row50_col7{\n",
       "            background-color:  #7cccbb;\n",
       "            color:  #000000;\n",
       "        }</style><table id=\"T_dc49ca30_50f6_11eb_96b2_0242ac130202\" ><thead>    <tr>        <th class=\"blank level0\" ></th>        <th class=\"col_heading level0 col0\" >No</th>        <th class=\"col_heading level0 col1\" >Country</th>        <th class=\"col_heading level0 col2\" >Level of development</th>        <th class=\"col_heading level0 col3\" >European Union Membership</th>        <th class=\"col_heading level0 col4\" >Currency</th>        <th class=\"col_heading level0 col5\" >Women Entrepreneurship Index</th>        <th class=\"col_heading level0 col6\" >Entrepreneurship Index</th>        <th class=\"col_heading level0 col7\" >Inflation rate</th>        <th class=\"col_heading level0 col8\" >Female Labor Force Participation Rate</th>    </tr></thead><tbody>\n",
       "                <tr>\n",
       "                        <th id=\"T_dc49ca30_50f6_11eb_96b2_0242ac130202level0_row0\" class=\"row_heading level0 row0\" >0</th>\n",
       "                        <td id=\"T_dc49ca30_50f6_11eb_96b2_0242ac130202row0_col0\" class=\"data row0 col0\" >4</td>\n",
       "                        <td id=\"T_dc49ca30_50f6_11eb_96b2_0242ac130202row0_col1\" class=\"data row0 col1\" >Austria</td>\n",
       "                        <td id=\"T_dc49ca30_50f6_11eb_96b2_0242ac130202row0_col2\" class=\"data row0 col2\" >Developed</td>\n",
       "                        <td id=\"T_dc49ca30_50f6_11eb_96b2_0242ac130202row0_col3\" class=\"data row0 col3\" >Member</td>\n",
       "                        <td id=\"T_dc49ca30_50f6_11eb_96b2_0242ac130202row0_col4\" class=\"data row0 col4\" >Euro</td>\n",
       "                        <td id=\"T_dc49ca30_50f6_11eb_96b2_0242ac130202row0_col5\" class=\"data row0 col5\" >54.900000</td>\n",
       "                        <td id=\"T_dc49ca30_50f6_11eb_96b2_0242ac130202row0_col6\" class=\"data row0 col6\" >64.900000</td>\n",
       "                        <td id=\"T_dc49ca30_50f6_11eb_96b2_0242ac130202row0_col7\" class=\"data row0 col7\" >0.900000</td>\n",
       "                        <td id=\"T_dc49ca30_50f6_11eb_96b2_0242ac130202row0_col8\" class=\"data row0 col8\" >67.100000</td>\n",
       "            </tr>\n",
       "            <tr>\n",
       "                        <th id=\"T_dc49ca30_50f6_11eb_96b2_0242ac130202level0_row1\" class=\"row_heading level0 row1\" >1</th>\n",
       "                        <td id=\"T_dc49ca30_50f6_11eb_96b2_0242ac130202row1_col0\" class=\"data row1 col0\" >6</td>\n",
       "                        <td id=\"T_dc49ca30_50f6_11eb_96b2_0242ac130202row1_col1\" class=\"data row1 col1\" >Belgium</td>\n",
       "                        <td id=\"T_dc49ca30_50f6_11eb_96b2_0242ac130202row1_col2\" class=\"data row1 col2\" >Developed</td>\n",
       "                        <td id=\"T_dc49ca30_50f6_11eb_96b2_0242ac130202row1_col3\" class=\"data row1 col3\" >Member</td>\n",
       "                        <td id=\"T_dc49ca30_50f6_11eb_96b2_0242ac130202row1_col4\" class=\"data row1 col4\" >Euro</td>\n",
       "                        <td id=\"T_dc49ca30_50f6_11eb_96b2_0242ac130202row1_col5\" class=\"data row1 col5\" >63.600000</td>\n",
       "                        <td id=\"T_dc49ca30_50f6_11eb_96b2_0242ac130202row1_col6\" class=\"data row1 col6\" >65.500000</td>\n",
       "                        <td id=\"T_dc49ca30_50f6_11eb_96b2_0242ac130202row1_col7\" class=\"data row1 col7\" >0.600000</td>\n",
       "                        <td id=\"T_dc49ca30_50f6_11eb_96b2_0242ac130202row1_col8\" class=\"data row1 col8\" >58.000000</td>\n",
       "            </tr>\n",
       "            <tr>\n",
       "                        <th id=\"T_dc49ca30_50f6_11eb_96b2_0242ac130202level0_row2\" class=\"row_heading level0 row2\" >2</th>\n",
       "                        <td id=\"T_dc49ca30_50f6_11eb_96b2_0242ac130202row2_col0\" class=\"data row2 col0\" >17</td>\n",
       "                        <td id=\"T_dc49ca30_50f6_11eb_96b2_0242ac130202row2_col1\" class=\"data row2 col1\" >Estonia</td>\n",
       "                        <td id=\"T_dc49ca30_50f6_11eb_96b2_0242ac130202row2_col2\" class=\"data row2 col2\" >Developed</td>\n",
       "                        <td id=\"T_dc49ca30_50f6_11eb_96b2_0242ac130202row2_col3\" class=\"data row2 col3\" >Member</td>\n",
       "                        <td id=\"T_dc49ca30_50f6_11eb_96b2_0242ac130202row2_col4\" class=\"data row2 col4\" >Euro</td>\n",
       "                        <td id=\"T_dc49ca30_50f6_11eb_96b2_0242ac130202row2_col5\" class=\"data row2 col5\" >55.400000</td>\n",
       "                        <td id=\"T_dc49ca30_50f6_11eb_96b2_0242ac130202row2_col6\" class=\"data row2 col6\" >60.200000</td>\n",
       "                        <td id=\"T_dc49ca30_50f6_11eb_96b2_0242ac130202row2_col7\" class=\"data row2 col7\" >-0.880000</td>\n",
       "                        <td id=\"T_dc49ca30_50f6_11eb_96b2_0242ac130202row2_col8\" class=\"data row2 col8\" >68.500000</td>\n",
       "            </tr>\n",
       "            <tr>\n",
       "                        <th id=\"T_dc49ca30_50f6_11eb_96b2_0242ac130202level0_row3\" class=\"row_heading level0 row3\" >3</th>\n",
       "                        <td id=\"T_dc49ca30_50f6_11eb_96b2_0242ac130202row3_col0\" class=\"data row3 col0\" >18</td>\n",
       "                        <td id=\"T_dc49ca30_50f6_11eb_96b2_0242ac130202row3_col1\" class=\"data row3 col1\" >Finland</td>\n",
       "                        <td id=\"T_dc49ca30_50f6_11eb_96b2_0242ac130202row3_col2\" class=\"data row3 col2\" >Developed</td>\n",
       "                        <td id=\"T_dc49ca30_50f6_11eb_96b2_0242ac130202row3_col3\" class=\"data row3 col3\" >Member</td>\n",
       "                        <td id=\"T_dc49ca30_50f6_11eb_96b2_0242ac130202row3_col4\" class=\"data row3 col4\" >Euro</td>\n",
       "                        <td id=\"T_dc49ca30_50f6_11eb_96b2_0242ac130202row3_col5\" class=\"data row3 col5\" >66.400000</td>\n",
       "                        <td id=\"T_dc49ca30_50f6_11eb_96b2_0242ac130202row3_col6\" class=\"data row3 col6\" >65.700000</td>\n",
       "                        <td id=\"T_dc49ca30_50f6_11eb_96b2_0242ac130202row3_col7\" class=\"data row3 col7\" >-0.200000</td>\n",
       "                        <td id=\"T_dc49ca30_50f6_11eb_96b2_0242ac130202row3_col8\" class=\"data row3 col8\" >67.700000</td>\n",
       "            </tr>\n",
       "            <tr>\n",
       "                        <th id=\"T_dc49ca30_50f6_11eb_96b2_0242ac130202level0_row4\" class=\"row_heading level0 row4\" >4</th>\n",
       "                        <td id=\"T_dc49ca30_50f6_11eb_96b2_0242ac130202row4_col0\" class=\"data row4 col0\" >19</td>\n",
       "                        <td id=\"T_dc49ca30_50f6_11eb_96b2_0242ac130202row4_col1\" class=\"data row4 col1\" >France</td>\n",
       "                        <td id=\"T_dc49ca30_50f6_11eb_96b2_0242ac130202row4_col2\" class=\"data row4 col2\" >Developed</td>\n",
       "                        <td id=\"T_dc49ca30_50f6_11eb_96b2_0242ac130202row4_col3\" class=\"data row4 col3\" >Member</td>\n",
       "                        <td id=\"T_dc49ca30_50f6_11eb_96b2_0242ac130202row4_col4\" class=\"data row4 col4\" >Euro</td>\n",
       "                        <td id=\"T_dc49ca30_50f6_11eb_96b2_0242ac130202row4_col5\" class=\"data row4 col5\" >68.800000</td>\n",
       "                        <td id=\"T_dc49ca30_50f6_11eb_96b2_0242ac130202row4_col6\" class=\"data row4 col6\" >67.300000</td>\n",
       "                        <td id=\"T_dc49ca30_50f6_11eb_96b2_0242ac130202row4_col7\" class=\"data row4 col7\" >0.000000</td>\n",
       "                        <td id=\"T_dc49ca30_50f6_11eb_96b2_0242ac130202row4_col8\" class=\"data row4 col8\" >60.600000</td>\n",
       "            </tr>\n",
       "            <tr>\n",
       "                        <th id=\"T_dc49ca30_50f6_11eb_96b2_0242ac130202level0_row5\" class=\"row_heading level0 row5\" >5</th>\n",
       "                        <td id=\"T_dc49ca30_50f6_11eb_96b2_0242ac130202row5_col0\" class=\"data row5 col0\" >20</td>\n",
       "                        <td id=\"T_dc49ca30_50f6_11eb_96b2_0242ac130202row5_col1\" class=\"data row5 col1\" >Germany</td>\n",
       "                        <td id=\"T_dc49ca30_50f6_11eb_96b2_0242ac130202row5_col2\" class=\"data row5 col2\" >Developed</td>\n",
       "                        <td id=\"T_dc49ca30_50f6_11eb_96b2_0242ac130202row5_col3\" class=\"data row5 col3\" >Member</td>\n",
       "                        <td id=\"T_dc49ca30_50f6_11eb_96b2_0242ac130202row5_col4\" class=\"data row5 col4\" >Euro</td>\n",
       "                        <td id=\"T_dc49ca30_50f6_11eb_96b2_0242ac130202row5_col5\" class=\"data row5 col5\" >63.600000</td>\n",
       "                        <td id=\"T_dc49ca30_50f6_11eb_96b2_0242ac130202row5_col6\" class=\"data row5 col6\" >67.400000</td>\n",
       "                        <td id=\"T_dc49ca30_50f6_11eb_96b2_0242ac130202row5_col7\" class=\"data row5 col7\" >0.500000</td>\n",
       "                        <td id=\"T_dc49ca30_50f6_11eb_96b2_0242ac130202row5_col8\" class=\"data row5 col8\" >69.900000</td>\n",
       "            </tr>\n",
       "            <tr>\n",
       "                        <th id=\"T_dc49ca30_50f6_11eb_96b2_0242ac130202level0_row6\" class=\"row_heading level0 row6\" >6</th>\n",
       "                        <td id=\"T_dc49ca30_50f6_11eb_96b2_0242ac130202row6_col0\" class=\"data row6 col0\" >22</td>\n",
       "                        <td id=\"T_dc49ca30_50f6_11eb_96b2_0242ac130202row6_col1\" class=\"data row6 col1\" >Greece</td>\n",
       "                        <td id=\"T_dc49ca30_50f6_11eb_96b2_0242ac130202row6_col2\" class=\"data row6 col2\" >Developed</td>\n",
       "                        <td id=\"T_dc49ca30_50f6_11eb_96b2_0242ac130202row6_col3\" class=\"data row6 col3\" >Member</td>\n",
       "                        <td id=\"T_dc49ca30_50f6_11eb_96b2_0242ac130202row6_col4\" class=\"data row6 col4\" >Euro</td>\n",
       "                        <td id=\"T_dc49ca30_50f6_11eb_96b2_0242ac130202row6_col5\" class=\"data row6 col5\" >43.000000</td>\n",
       "                        <td id=\"T_dc49ca30_50f6_11eb_96b2_0242ac130202row6_col6\" class=\"data row6 col6\" >42.000000</td>\n",
       "                        <td id=\"T_dc49ca30_50f6_11eb_96b2_0242ac130202row6_col7\" class=\"data row6 col7\" >-1.700000</td>\n",
       "                        <td id=\"T_dc49ca30_50f6_11eb_96b2_0242ac130202row6_col8\" class=\"data row6 col8\" >42.500000</td>\n",
       "            </tr>\n",
       "            <tr>\n",
       "                        <th id=\"T_dc49ca30_50f6_11eb_96b2_0242ac130202level0_row7\" class=\"row_heading level0 row7\" >7</th>\n",
       "                        <td id=\"T_dc49ca30_50f6_11eb_96b2_0242ac130202row7_col0\" class=\"data row7 col0\" >28</td>\n",
       "                        <td id=\"T_dc49ca30_50f6_11eb_96b2_0242ac130202row7_col1\" class=\"data row7 col1\" >Ireland</td>\n",
       "                        <td id=\"T_dc49ca30_50f6_11eb_96b2_0242ac130202row7_col2\" class=\"data row7 col2\" >Developed</td>\n",
       "                        <td id=\"T_dc49ca30_50f6_11eb_96b2_0242ac130202row7_col3\" class=\"data row7 col3\" >Member</td>\n",
       "                        <td id=\"T_dc49ca30_50f6_11eb_96b2_0242ac130202row7_col4\" class=\"data row7 col4\" >Euro</td>\n",
       "                        <td id=\"T_dc49ca30_50f6_11eb_96b2_0242ac130202row7_col5\" class=\"data row7 col5\" >64.300000</td>\n",
       "                        <td id=\"T_dc49ca30_50f6_11eb_96b2_0242ac130202row7_col6\" class=\"data row7 col6\" >65.300000</td>\n",
       "                        <td id=\"T_dc49ca30_50f6_11eb_96b2_0242ac130202row7_col7\" class=\"data row7 col7\" >-0.300000</td>\n",
       "                        <td id=\"T_dc49ca30_50f6_11eb_96b2_0242ac130202row7_col8\" class=\"data row7 col8\" >59.400000</td>\n",
       "            </tr>\n",
       "            <tr>\n",
       "                        <th id=\"T_dc49ca30_50f6_11eb_96b2_0242ac130202level0_row8\" class=\"row_heading level0 row8\" >8</th>\n",
       "                        <td id=\"T_dc49ca30_50f6_11eb_96b2_0242ac130202row8_col0\" class=\"data row8 col0\" >30</td>\n",
       "                        <td id=\"T_dc49ca30_50f6_11eb_96b2_0242ac130202row8_col1\" class=\"data row8 col1\" >Italy</td>\n",
       "                        <td id=\"T_dc49ca30_50f6_11eb_96b2_0242ac130202row8_col2\" class=\"data row8 col2\" >Developed</td>\n",
       "                        <td id=\"T_dc49ca30_50f6_11eb_96b2_0242ac130202row8_col3\" class=\"data row8 col3\" >Member</td>\n",
       "                        <td id=\"T_dc49ca30_50f6_11eb_96b2_0242ac130202row8_col4\" class=\"data row8 col4\" >Euro</td>\n",
       "                        <td id=\"T_dc49ca30_50f6_11eb_96b2_0242ac130202row8_col5\" class=\"data row8 col5\" >51.400000</td>\n",
       "                        <td id=\"T_dc49ca30_50f6_11eb_96b2_0242ac130202row8_col6\" class=\"data row8 col6\" >41.300000</td>\n",
       "                        <td id=\"T_dc49ca30_50f6_11eb_96b2_0242ac130202row8_col7\" class=\"data row8 col7\" >0.000000</td>\n",
       "                        <td id=\"T_dc49ca30_50f6_11eb_96b2_0242ac130202row8_col8\" class=\"data row8 col8\" >47.200000</td>\n",
       "            </tr>\n",
       "            <tr>\n",
       "                        <th id=\"T_dc49ca30_50f6_11eb_96b2_0242ac130202level0_row9\" class=\"row_heading level0 row9\" >9</th>\n",
       "                        <td id=\"T_dc49ca30_50f6_11eb_96b2_0242ac130202row9_col0\" class=\"data row9 col0\" >34</td>\n",
       "                        <td id=\"T_dc49ca30_50f6_11eb_96b2_0242ac130202row9_col1\" class=\"data row9 col1\" >Latvia</td>\n",
       "                        <td id=\"T_dc49ca30_50f6_11eb_96b2_0242ac130202row9_col2\" class=\"data row9 col2\" >Developed</td>\n",
       "                        <td id=\"T_dc49ca30_50f6_11eb_96b2_0242ac130202row9_col3\" class=\"data row9 col3\" >Member</td>\n",
       "                        <td id=\"T_dc49ca30_50f6_11eb_96b2_0242ac130202row9_col4\" class=\"data row9 col4\" >Euro</td>\n",
       "                        <td id=\"T_dc49ca30_50f6_11eb_96b2_0242ac130202row9_col5\" class=\"data row9 col5\" >56.600000</td>\n",
       "                        <td id=\"T_dc49ca30_50f6_11eb_96b2_0242ac130202row9_col6\" class=\"data row9 col6\" >54.500000</td>\n",
       "                        <td id=\"T_dc49ca30_50f6_11eb_96b2_0242ac130202row9_col7\" class=\"data row9 col7\" >0.200000</td>\n",
       "                        <td id=\"T_dc49ca30_50f6_11eb_96b2_0242ac130202row9_col8\" class=\"data row9 col8\" >66.400000</td>\n",
       "            </tr>\n",
       "            <tr>\n",
       "                        <th id=\"T_dc49ca30_50f6_11eb_96b2_0242ac130202level0_row10\" class=\"row_heading level0 row10\" >10</th>\n",
       "                        <td id=\"T_dc49ca30_50f6_11eb_96b2_0242ac130202row10_col0\" class=\"data row10 col0\" >35</td>\n",
       "                        <td id=\"T_dc49ca30_50f6_11eb_96b2_0242ac130202row10_col1\" class=\"data row10 col1\" >Lithuania</td>\n",
       "                        <td id=\"T_dc49ca30_50f6_11eb_96b2_0242ac130202row10_col2\" class=\"data row10 col2\" >Developed</td>\n",
       "                        <td id=\"T_dc49ca30_50f6_11eb_96b2_0242ac130202row10_col3\" class=\"data row10 col3\" >Member</td>\n",
       "                        <td id=\"T_dc49ca30_50f6_11eb_96b2_0242ac130202row10_col4\" class=\"data row10 col4\" >Euro</td>\n",
       "                        <td id=\"T_dc49ca30_50f6_11eb_96b2_0242ac130202row10_col5\" class=\"data row10 col5\" >58.500000</td>\n",
       "                        <td id=\"T_dc49ca30_50f6_11eb_96b2_0242ac130202row10_col6\" class=\"data row10 col6\" >54.600000</td>\n",
       "                        <td id=\"T_dc49ca30_50f6_11eb_96b2_0242ac130202row10_col7\" class=\"data row10 col7\" >-0.900000</td>\n",
       "                        <td id=\"T_dc49ca30_50f6_11eb_96b2_0242ac130202row10_col8\" class=\"data row10 col8\" >66.500000</td>\n",
       "            </tr>\n",
       "            <tr>\n",
       "                        <th id=\"T_dc49ca30_50f6_11eb_96b2_0242ac130202level0_row11\" class=\"row_heading level0 row11\" >11</th>\n",
       "                        <td id=\"T_dc49ca30_50f6_11eb_96b2_0242ac130202row11_col0\" class=\"data row11 col0\" >39</td>\n",
       "                        <td id=\"T_dc49ca30_50f6_11eb_96b2_0242ac130202row11_col1\" class=\"data row11 col1\" >Netherlands</td>\n",
       "                        <td id=\"T_dc49ca30_50f6_11eb_96b2_0242ac130202row11_col2\" class=\"data row11 col2\" >Developed</td>\n",
       "                        <td id=\"T_dc49ca30_50f6_11eb_96b2_0242ac130202row11_col3\" class=\"data row11 col3\" >Member</td>\n",
       "                        <td id=\"T_dc49ca30_50f6_11eb_96b2_0242ac130202row11_col4\" class=\"data row11 col4\" >Euro</td>\n",
       "                        <td id=\"T_dc49ca30_50f6_11eb_96b2_0242ac130202row11_col5\" class=\"data row11 col5\" >69.300000</td>\n",
       "                        <td id=\"T_dc49ca30_50f6_11eb_96b2_0242ac130202row11_col6\" class=\"data row11 col6\" >66.500000</td>\n",
       "                        <td id=\"T_dc49ca30_50f6_11eb_96b2_0242ac130202row11_col7\" class=\"data row11 col7\" >0.600000</td>\n",
       "                        <td id=\"T_dc49ca30_50f6_11eb_96b2_0242ac130202row11_col8\" class=\"data row11 col8\" >69.200000</td>\n",
       "            </tr>\n",
       "            <tr>\n",
       "                        <th id=\"T_dc49ca30_50f6_11eb_96b2_0242ac130202level0_row12\" class=\"row_heading level0 row12\" >12</th>\n",
       "                        <td id=\"T_dc49ca30_50f6_11eb_96b2_0242ac130202row12_col0\" class=\"data row12 col0\" >50</td>\n",
       "                        <td id=\"T_dc49ca30_50f6_11eb_96b2_0242ac130202row12_col1\" class=\"data row12 col1\" >Slovakia</td>\n",
       "                        <td id=\"T_dc49ca30_50f6_11eb_96b2_0242ac130202row12_col2\" class=\"data row12 col2\" >Developed</td>\n",
       "                        <td id=\"T_dc49ca30_50f6_11eb_96b2_0242ac130202row12_col3\" class=\"data row12 col3\" >Member</td>\n",
       "                        <td id=\"T_dc49ca30_50f6_11eb_96b2_0242ac130202row12_col4\" class=\"data row12 col4\" >Euro</td>\n",
       "                        <td id=\"T_dc49ca30_50f6_11eb_96b2_0242ac130202row12_col5\" class=\"data row12 col5\" >54.800000</td>\n",
       "                        <td id=\"T_dc49ca30_50f6_11eb_96b2_0242ac130202row12_col6\" class=\"data row12 col6\" >45.400000</td>\n",
       "                        <td id=\"T_dc49ca30_50f6_11eb_96b2_0242ac130202row12_col7\" class=\"data row12 col7\" >-0.300000</td>\n",
       "                        <td id=\"T_dc49ca30_50f6_11eb_96b2_0242ac130202row12_col8\" class=\"data row12 col8\" >55.900000</td>\n",
       "            </tr>\n",
       "            <tr>\n",
       "                        <th id=\"T_dc49ca30_50f6_11eb_96b2_0242ac130202level0_row13\" class=\"row_heading level0 row13\" >13</th>\n",
       "                        <td id=\"T_dc49ca30_50f6_11eb_96b2_0242ac130202row13_col0\" class=\"data row13 col0\" >51</td>\n",
       "                        <td id=\"T_dc49ca30_50f6_11eb_96b2_0242ac130202row13_col1\" class=\"data row13 col1\" >Slovenia</td>\n",
       "                        <td id=\"T_dc49ca30_50f6_11eb_96b2_0242ac130202row13_col2\" class=\"data row13 col2\" >Developed</td>\n",
       "                        <td id=\"T_dc49ca30_50f6_11eb_96b2_0242ac130202row13_col3\" class=\"data row13 col3\" >Member</td>\n",
       "                        <td id=\"T_dc49ca30_50f6_11eb_96b2_0242ac130202row13_col4\" class=\"data row13 col4\" >Euro</td>\n",
       "                        <td id=\"T_dc49ca30_50f6_11eb_96b2_0242ac130202row13_col5\" class=\"data row13 col5\" >55.900000</td>\n",
       "                        <td id=\"T_dc49ca30_50f6_11eb_96b2_0242ac130202row13_col6\" class=\"data row13 col6\" >53.100000</td>\n",
       "                        <td id=\"T_dc49ca30_50f6_11eb_96b2_0242ac130202row13_col7\" class=\"data row13 col7\" >-0.500000</td>\n",
       "                        <td id=\"T_dc49ca30_50f6_11eb_96b2_0242ac130202row13_col8\" class=\"data row13 col8\" >61.000000</td>\n",
       "            </tr>\n",
       "            <tr>\n",
       "                        <th id=\"T_dc49ca30_50f6_11eb_96b2_0242ac130202level0_row14\" class=\"row_heading level0 row14\" >14</th>\n",
       "                        <td id=\"T_dc49ca30_50f6_11eb_96b2_0242ac130202row14_col0\" class=\"data row14 col0\" >53</td>\n",
       "                        <td id=\"T_dc49ca30_50f6_11eb_96b2_0242ac130202row14_col1\" class=\"data row14 col1\" >Spain</td>\n",
       "                        <td id=\"T_dc49ca30_50f6_11eb_96b2_0242ac130202row14_col2\" class=\"data row14 col2\" >Developed</td>\n",
       "                        <td id=\"T_dc49ca30_50f6_11eb_96b2_0242ac130202row14_col3\" class=\"data row14 col3\" >Member</td>\n",
       "                        <td id=\"T_dc49ca30_50f6_11eb_96b2_0242ac130202row14_col4\" class=\"data row14 col4\" >Euro</td>\n",
       "                        <td id=\"T_dc49ca30_50f6_11eb_96b2_0242ac130202row14_col5\" class=\"data row14 col5\" >52.500000</td>\n",
       "                        <td id=\"T_dc49ca30_50f6_11eb_96b2_0242ac130202row14_col6\" class=\"data row14 col6\" >49.600000</td>\n",
       "                        <td id=\"T_dc49ca30_50f6_11eb_96b2_0242ac130202row14_col7\" class=\"data row14 col7\" >-0.500000</td>\n",
       "                        <td id=\"T_dc49ca30_50f6_11eb_96b2_0242ac130202row14_col8\" class=\"data row14 col8\" >52.700000</td>\n",
       "            </tr>\n",
       "            <tr>\n",
       "                        <th id=\"T_dc49ca30_50f6_11eb_96b2_0242ac130202level0_row15\" class=\"row_heading level0 row15\" >15</th>\n",
       "                        <td id=\"T_dc49ca30_50f6_11eb_96b2_0242ac130202row15_col0\" class=\"data row15 col0\" >12</td>\n",
       "                        <td id=\"T_dc49ca30_50f6_11eb_96b2_0242ac130202row15_col1\" class=\"data row15 col1\" >Croatia</td>\n",
       "                        <td id=\"T_dc49ca30_50f6_11eb_96b2_0242ac130202row15_col2\" class=\"data row15 col2\" >Developed</td>\n",
       "                        <td id=\"T_dc49ca30_50f6_11eb_96b2_0242ac130202row15_col3\" class=\"data row15 col3\" >Member</td>\n",
       "                        <td id=\"T_dc49ca30_50f6_11eb_96b2_0242ac130202row15_col4\" class=\"data row15 col4\" >National Currency</td>\n",
       "                        <td id=\"T_dc49ca30_50f6_11eb_96b2_0242ac130202row15_col5\" class=\"data row15 col5\" >49.900000</td>\n",
       "                        <td id=\"T_dc49ca30_50f6_11eb_96b2_0242ac130202row15_col6\" class=\"data row15 col6\" >40.600000</td>\n",
       "                        <td id=\"T_dc49ca30_50f6_11eb_96b2_0242ac130202row15_col7\" class=\"data row15 col7\" >-0.500000</td>\n",
       "                        <td id=\"T_dc49ca30_50f6_11eb_96b2_0242ac130202row15_col8\" class=\"data row15 col8\" >60.400000</td>\n",
       "            </tr>\n",
       "            <tr>\n",
       "                        <th id=\"T_dc49ca30_50f6_11eb_96b2_0242ac130202level0_row16\" class=\"row_heading level0 row16\" >16</th>\n",
       "                        <td id=\"T_dc49ca30_50f6_11eb_96b2_0242ac130202row16_col0\" class=\"data row16 col0\" >13</td>\n",
       "                        <td id=\"T_dc49ca30_50f6_11eb_96b2_0242ac130202row16_col1\" class=\"data row16 col1\" >Denmark</td>\n",
       "                        <td id=\"T_dc49ca30_50f6_11eb_96b2_0242ac130202row16_col2\" class=\"data row16 col2\" >Developed</td>\n",
       "                        <td id=\"T_dc49ca30_50f6_11eb_96b2_0242ac130202row16_col3\" class=\"data row16 col3\" >Member</td>\n",
       "                        <td id=\"T_dc49ca30_50f6_11eb_96b2_0242ac130202row16_col4\" class=\"data row16 col4\" >National Currency</td>\n",
       "                        <td id=\"T_dc49ca30_50f6_11eb_96b2_0242ac130202row16_col5\" class=\"data row16 col5\" >69.700000</td>\n",
       "                        <td id=\"T_dc49ca30_50f6_11eb_96b2_0242ac130202row16_col6\" class=\"data row16 col6\" >71.400000</td>\n",
       "                        <td id=\"T_dc49ca30_50f6_11eb_96b2_0242ac130202row16_col7\" class=\"data row16 col7\" >0.500000</td>\n",
       "                        <td id=\"T_dc49ca30_50f6_11eb_96b2_0242ac130202row16_col8\" class=\"data row16 col8\" >70.300000</td>\n",
       "            </tr>\n",
       "            <tr>\n",
       "                        <th id=\"T_dc49ca30_50f6_11eb_96b2_0242ac130202level0_row17\" class=\"row_heading level0 row17\" >17</th>\n",
       "                        <td id=\"T_dc49ca30_50f6_11eb_96b2_0242ac130202row17_col0\" class=\"data row17 col0\" >24</td>\n",
       "                        <td id=\"T_dc49ca30_50f6_11eb_96b2_0242ac130202row17_col1\" class=\"data row17 col1\" >Hungary</td>\n",
       "                        <td id=\"T_dc49ca30_50f6_11eb_96b2_0242ac130202row17_col2\" class=\"data row17 col2\" >Developed</td>\n",
       "                        <td id=\"T_dc49ca30_50f6_11eb_96b2_0242ac130202row17_col3\" class=\"data row17 col3\" >Member</td>\n",
       "                        <td id=\"T_dc49ca30_50f6_11eb_96b2_0242ac130202row17_col4\" class=\"data row17 col4\" >National Currency</td>\n",
       "                        <td id=\"T_dc49ca30_50f6_11eb_96b2_0242ac130202row17_col5\" class=\"data row17 col5\" >53.700000</td>\n",
       "                        <td id=\"T_dc49ca30_50f6_11eb_96b2_0242ac130202row17_col6\" class=\"data row17 col6\" >42.700000</td>\n",
       "                        <td id=\"T_dc49ca30_50f6_11eb_96b2_0242ac130202row17_col7\" class=\"data row17 col7\" >-0.100000</td>\n",
       "                        <td id=\"T_dc49ca30_50f6_11eb_96b2_0242ac130202row17_col8\" class=\"data row17 col8\" >57.800000</td>\n",
       "            </tr>\n",
       "            <tr>\n",
       "                        <th id=\"T_dc49ca30_50f6_11eb_96b2_0242ac130202level0_row18\" class=\"row_heading level0 row18\" >18</th>\n",
       "                        <td id=\"T_dc49ca30_50f6_11eb_96b2_0242ac130202row18_col0\" class=\"data row18 col0\" >44</td>\n",
       "                        <td id=\"T_dc49ca30_50f6_11eb_96b2_0242ac130202row18_col1\" class=\"data row18 col1\" >Poland</td>\n",
       "                        <td id=\"T_dc49ca30_50f6_11eb_96b2_0242ac130202row18_col2\" class=\"data row18 col2\" >Developed</td>\n",
       "                        <td id=\"T_dc49ca30_50f6_11eb_96b2_0242ac130202row18_col3\" class=\"data row18 col3\" >Member</td>\n",
       "                        <td id=\"T_dc49ca30_50f6_11eb_96b2_0242ac130202row18_col4\" class=\"data row18 col4\" >National Currency</td>\n",
       "                        <td id=\"T_dc49ca30_50f6_11eb_96b2_0242ac130202row18_col5\" class=\"data row18 col5\" >57.700000</td>\n",
       "                        <td id=\"T_dc49ca30_50f6_11eb_96b2_0242ac130202row18_col6\" class=\"data row18 col6\" >47.400000</td>\n",
       "                        <td id=\"T_dc49ca30_50f6_11eb_96b2_0242ac130202row18_col7\" class=\"data row18 col7\" >-0.900000</td>\n",
       "                        <td id=\"T_dc49ca30_50f6_11eb_96b2_0242ac130202row18_col8\" class=\"data row18 col8\" >56.600000</td>\n",
       "            </tr>\n",
       "            <tr>\n",
       "                        <th id=\"T_dc49ca30_50f6_11eb_96b2_0242ac130202level0_row19\" class=\"row_heading level0 row19\" >19</th>\n",
       "                        <td id=\"T_dc49ca30_50f6_11eb_96b2_0242ac130202row19_col0\" class=\"data row19 col0\" >54</td>\n",
       "                        <td id=\"T_dc49ca30_50f6_11eb_96b2_0242ac130202row19_col1\" class=\"data row19 col1\" >Sweden</td>\n",
       "                        <td id=\"T_dc49ca30_50f6_11eb_96b2_0242ac130202row19_col2\" class=\"data row19 col2\" >Developed</td>\n",
       "                        <td id=\"T_dc49ca30_50f6_11eb_96b2_0242ac130202row19_col3\" class=\"data row19 col3\" >Member</td>\n",
       "                        <td id=\"T_dc49ca30_50f6_11eb_96b2_0242ac130202row19_col4\" class=\"data row19 col4\" >National Currency</td>\n",
       "                        <td id=\"T_dc49ca30_50f6_11eb_96b2_0242ac130202row19_col5\" class=\"data row19 col5\" >66.700000</td>\n",
       "                        <td id=\"T_dc49ca30_50f6_11eb_96b2_0242ac130202row19_col6\" class=\"data row19 col6\" >71.800000</td>\n",
       "                        <td id=\"T_dc49ca30_50f6_11eb_96b2_0242ac130202row19_col7\" class=\"data row19 col7\" >0.000000</td>\n",
       "                        <td id=\"T_dc49ca30_50f6_11eb_96b2_0242ac130202row19_col8\" class=\"data row19 col8\" >74.000000</td>\n",
       "            </tr>\n",
       "            <tr>\n",
       "                        <th id=\"T_dc49ca30_50f6_11eb_96b2_0242ac130202level0_row20\" class=\"row_heading level0 row20\" >20</th>\n",
       "                        <td id=\"T_dc49ca30_50f6_11eb_96b2_0242ac130202row20_col0\" class=\"data row20 col0\" >3</td>\n",
       "                        <td id=\"T_dc49ca30_50f6_11eb_96b2_0242ac130202row20_col1\" class=\"data row20 col1\" >Australia</td>\n",
       "                        <td id=\"T_dc49ca30_50f6_11eb_96b2_0242ac130202row20_col2\" class=\"data row20 col2\" >Developed</td>\n",
       "                        <td id=\"T_dc49ca30_50f6_11eb_96b2_0242ac130202row20_col3\" class=\"data row20 col3\" >Not Member</td>\n",
       "                        <td id=\"T_dc49ca30_50f6_11eb_96b2_0242ac130202row20_col4\" class=\"data row20 col4\" >National Currency</td>\n",
       "                        <td id=\"T_dc49ca30_50f6_11eb_96b2_0242ac130202row20_col5\" class=\"data row20 col5\" >74.800000</td>\n",
       "                        <td id=\"T_dc49ca30_50f6_11eb_96b2_0242ac130202row20_col6\" class=\"data row20 col6\" >77.600000</td>\n",
       "                        <td id=\"T_dc49ca30_50f6_11eb_96b2_0242ac130202row20_col7\" class=\"data row20 col7\" >1.500000</td>\n",
       "                        <td id=\"T_dc49ca30_50f6_11eb_96b2_0242ac130202row20_col8\" class=\"data row20 col8\" >66.800000</td>\n",
       "            </tr>\n",
       "            <tr>\n",
       "                        <th id=\"T_dc49ca30_50f6_11eb_96b2_0242ac130202level0_row21\" class=\"row_heading level0 row21\" >21</th>\n",
       "                        <td id=\"T_dc49ca30_50f6_11eb_96b2_0242ac130202row21_col0\" class=\"data row21 col0\" >25</td>\n",
       "                        <td id=\"T_dc49ca30_50f6_11eb_96b2_0242ac130202row21_col1\" class=\"data row21 col1\" >Iceland</td>\n",
       "                        <td id=\"T_dc49ca30_50f6_11eb_96b2_0242ac130202row21_col2\" class=\"data row21 col2\" >Developed</td>\n",
       "                        <td id=\"T_dc49ca30_50f6_11eb_96b2_0242ac130202row21_col3\" class=\"data row21 col3\" >Not Member</td>\n",
       "                        <td id=\"T_dc49ca30_50f6_11eb_96b2_0242ac130202row21_col4\" class=\"data row21 col4\" >National Currency</td>\n",
       "                        <td id=\"T_dc49ca30_50f6_11eb_96b2_0242ac130202row21_col5\" class=\"data row21 col5\" >68.000000</td>\n",
       "                        <td id=\"T_dc49ca30_50f6_11eb_96b2_0242ac130202row21_col6\" class=\"data row21 col6\" >70.400000</td>\n",
       "                        <td id=\"T_dc49ca30_50f6_11eb_96b2_0242ac130202row21_col7\" class=\"data row21 col7\" >1.600000</td>\n",
       "                        <td id=\"T_dc49ca30_50f6_11eb_96b2_0242ac130202row21_col8\" class=\"data row21 col8\" >82.300000</td>\n",
       "            </tr>\n",
       "            <tr>\n",
       "                        <th id=\"T_dc49ca30_50f6_11eb_96b2_0242ac130202level0_row22\" class=\"row_heading level0 row22\" >22</th>\n",
       "                        <td id=\"T_dc49ca30_50f6_11eb_96b2_0242ac130202row22_col0\" class=\"data row22 col0\" >32</td>\n",
       "                        <td id=\"T_dc49ca30_50f6_11eb_96b2_0242ac130202row22_col1\" class=\"data row22 col1\" >Japan</td>\n",
       "                        <td id=\"T_dc49ca30_50f6_11eb_96b2_0242ac130202row22_col2\" class=\"data row22 col2\" >Developed</td>\n",
       "                        <td id=\"T_dc49ca30_50f6_11eb_96b2_0242ac130202row22_col3\" class=\"data row22 col3\" >Not Member</td>\n",
       "                        <td id=\"T_dc49ca30_50f6_11eb_96b2_0242ac130202row22_col4\" class=\"data row22 col4\" >National Currency</td>\n",
       "                        <td id=\"T_dc49ca30_50f6_11eb_96b2_0242ac130202row22_col5\" class=\"data row22 col5\" >40.000000</td>\n",
       "                        <td id=\"T_dc49ca30_50f6_11eb_96b2_0242ac130202row22_col6\" class=\"data row22 col6\" >49.500000</td>\n",
       "                        <td id=\"T_dc49ca30_50f6_11eb_96b2_0242ac130202row22_col7\" class=\"data row22 col7\" >0.800000</td>\n",
       "                        <td id=\"T_dc49ca30_50f6_11eb_96b2_0242ac130202row22_col8\" class=\"data row22 col8\" >64.700000</td>\n",
       "            </tr>\n",
       "            <tr>\n",
       "                        <th id=\"T_dc49ca30_50f6_11eb_96b2_0242ac130202level0_row23\" class=\"row_heading level0 row23\" >23</th>\n",
       "                        <td id=\"T_dc49ca30_50f6_11eb_96b2_0242ac130202row23_col0\" class=\"data row23 col0\" >40</td>\n",
       "                        <td id=\"T_dc49ca30_50f6_11eb_96b2_0242ac130202row23_col1\" class=\"data row23 col1\" >Norway</td>\n",
       "                        <td id=\"T_dc49ca30_50f6_11eb_96b2_0242ac130202row23_col2\" class=\"data row23 col2\" >Developed</td>\n",
       "                        <td id=\"T_dc49ca30_50f6_11eb_96b2_0242ac130202row23_col3\" class=\"data row23 col3\" >Not Member</td>\n",
       "                        <td id=\"T_dc49ca30_50f6_11eb_96b2_0242ac130202row23_col4\" class=\"data row23 col4\" >National Currency</td>\n",
       "                        <td id=\"T_dc49ca30_50f6_11eb_96b2_0242ac130202row23_col5\" class=\"data row23 col5\" >66.300000</td>\n",
       "                        <td id=\"T_dc49ca30_50f6_11eb_96b2_0242ac130202row23_col6\" class=\"data row23 col6\" >65.600000</td>\n",
       "                        <td id=\"T_dc49ca30_50f6_11eb_96b2_0242ac130202row23_col7\" class=\"data row23 col7\" >2.170000</td>\n",
       "                        <td id=\"T_dc49ca30_50f6_11eb_96b2_0242ac130202row23_col8\" class=\"data row23 col8\" >69.200000</td>\n",
       "            </tr>\n",
       "            <tr>\n",
       "                        <th id=\"T_dc49ca30_50f6_11eb_96b2_0242ac130202level0_row24\" class=\"row_heading level0 row24\" >24</th>\n",
       "                        <td id=\"T_dc49ca30_50f6_11eb_96b2_0242ac130202row24_col0\" class=\"data row24 col0\" >49</td>\n",
       "                        <td id=\"T_dc49ca30_50f6_11eb_96b2_0242ac130202row24_col1\" class=\"data row24 col1\" >Singapore</td>\n",
       "                        <td id=\"T_dc49ca30_50f6_11eb_96b2_0242ac130202row24_col2\" class=\"data row24 col2\" >Developed</td>\n",
       "                        <td id=\"T_dc49ca30_50f6_11eb_96b2_0242ac130202row24_col3\" class=\"data row24 col3\" >Not Member</td>\n",
       "                        <td id=\"T_dc49ca30_50f6_11eb_96b2_0242ac130202row24_col4\" class=\"data row24 col4\" >National Currency</td>\n",
       "                        <td id=\"T_dc49ca30_50f6_11eb_96b2_0242ac130202row24_col5\" class=\"data row24 col5\" >59.800000</td>\n",
       "                        <td id=\"T_dc49ca30_50f6_11eb_96b2_0242ac130202row24_col6\" class=\"data row24 col6\" >68.100000</td>\n",
       "                        <td id=\"T_dc49ca30_50f6_11eb_96b2_0242ac130202row24_col7\" class=\"data row24 col7\" >-0.500000</td>\n",
       "                        <td id=\"T_dc49ca30_50f6_11eb_96b2_0242ac130202row24_col8\" class=\"data row24 col8\" >59.180000</td>\n",
       "            </tr>\n",
       "            <tr>\n",
       "                        <th id=\"T_dc49ca30_50f6_11eb_96b2_0242ac130202level0_row25\" class=\"row_heading level0 row25\" >25</th>\n",
       "                        <td id=\"T_dc49ca30_50f6_11eb_96b2_0242ac130202row25_col0\" class=\"data row25 col0\" >55</td>\n",
       "                        <td id=\"T_dc49ca30_50f6_11eb_96b2_0242ac130202row25_col1\" class=\"data row25 col1\" >Switzerland</td>\n",
       "                        <td id=\"T_dc49ca30_50f6_11eb_96b2_0242ac130202row25_col2\" class=\"data row25 col2\" >Developed</td>\n",
       "                        <td id=\"T_dc49ca30_50f6_11eb_96b2_0242ac130202row25_col3\" class=\"data row25 col3\" >Not Member</td>\n",
       "                        <td id=\"T_dc49ca30_50f6_11eb_96b2_0242ac130202row25_col4\" class=\"data row25 col4\" >National Currency</td>\n",
       "                        <td id=\"T_dc49ca30_50f6_11eb_96b2_0242ac130202row25_col5\" class=\"data row25 col5\" >63.700000</td>\n",
       "                        <td id=\"T_dc49ca30_50f6_11eb_96b2_0242ac130202row25_col6\" class=\"data row25 col6\" >68.600000</td>\n",
       "                        <td id=\"T_dc49ca30_50f6_11eb_96b2_0242ac130202row25_col7\" class=\"data row25 col7\" >-1.100000</td>\n",
       "                        <td id=\"T_dc49ca30_50f6_11eb_96b2_0242ac130202row25_col8\" class=\"data row25 col8\" >74.700000</td>\n",
       "            </tr>\n",
       "            <tr>\n",
       "                        <th id=\"T_dc49ca30_50f6_11eb_96b2_0242ac130202level0_row26\" class=\"row_heading level0 row26\" >26</th>\n",
       "                        <td id=\"T_dc49ca30_50f6_11eb_96b2_0242ac130202row26_col0\" class=\"data row26 col0\" >56</td>\n",
       "                        <td id=\"T_dc49ca30_50f6_11eb_96b2_0242ac130202row26_col1\" class=\"data row26 col1\" >Taiwan</td>\n",
       "                        <td id=\"T_dc49ca30_50f6_11eb_96b2_0242ac130202row26_col2\" class=\"data row26 col2\" >Developed</td>\n",
       "                        <td id=\"T_dc49ca30_50f6_11eb_96b2_0242ac130202row26_col3\" class=\"data row26 col3\" >Not Member</td>\n",
       "                        <td id=\"T_dc49ca30_50f6_11eb_96b2_0242ac130202row26_col4\" class=\"data row26 col4\" >National Currency</td>\n",
       "                        <td id=\"T_dc49ca30_50f6_11eb_96b2_0242ac130202row26_col5\" class=\"data row26 col5\" >53.400000</td>\n",
       "                        <td id=\"T_dc49ca30_50f6_11eb_96b2_0242ac130202row26_col6\" class=\"data row26 col6\" >69.100000</td>\n",
       "                        <td id=\"T_dc49ca30_50f6_11eb_96b2_0242ac130202row26_col7\" class=\"data row26 col7\" >-0.610000</td>\n",
       "                        <td id=\"T_dc49ca30_50f6_11eb_96b2_0242ac130202row26_col8\" class=\"data row26 col8\" >55.000000</td>\n",
       "            </tr>\n",
       "            <tr>\n",
       "                        <th id=\"T_dc49ca30_50f6_11eb_96b2_0242ac130202level0_row27\" class=\"row_heading level0 row27\" >27</th>\n",
       "                        <td id=\"T_dc49ca30_50f6_11eb_96b2_0242ac130202row27_col0\" class=\"data row27 col0\" >1</td>\n",
       "                        <td id=\"T_dc49ca30_50f6_11eb_96b2_0242ac130202row27_col1\" class=\"data row27 col1\" >Algeria</td>\n",
       "                        <td id=\"T_dc49ca30_50f6_11eb_96b2_0242ac130202row27_col2\" class=\"data row27 col2\" >Developing</td>\n",
       "                        <td id=\"T_dc49ca30_50f6_11eb_96b2_0242ac130202row27_col3\" class=\"data row27 col3\" >Not Member</td>\n",
       "                        <td id=\"T_dc49ca30_50f6_11eb_96b2_0242ac130202row27_col4\" class=\"data row27 col4\" >National Currency</td>\n",
       "                        <td id=\"T_dc49ca30_50f6_11eb_96b2_0242ac130202row27_col5\" class=\"data row27 col5\" >27.400000</td>\n",
       "                        <td id=\"T_dc49ca30_50f6_11eb_96b2_0242ac130202row27_col6\" class=\"data row27 col6\" >30.200000</td>\n",
       "                        <td id=\"T_dc49ca30_50f6_11eb_96b2_0242ac130202row27_col7\" class=\"data row27 col7\" >4.800000</td>\n",
       "                        <td id=\"T_dc49ca30_50f6_11eb_96b2_0242ac130202row27_col8\" class=\"data row27 col8\" >18.000000</td>\n",
       "            </tr>\n",
       "            <tr>\n",
       "                        <th id=\"T_dc49ca30_50f6_11eb_96b2_0242ac130202level0_row28\" class=\"row_heading level0 row28\" >28</th>\n",
       "                        <td id=\"T_dc49ca30_50f6_11eb_96b2_0242ac130202row28_col0\" class=\"data row28 col0\" >2</td>\n",
       "                        <td id=\"T_dc49ca30_50f6_11eb_96b2_0242ac130202row28_col1\" class=\"data row28 col1\" >Argentina</td>\n",
       "                        <td id=\"T_dc49ca30_50f6_11eb_96b2_0242ac130202row28_col2\" class=\"data row28 col2\" >Developing</td>\n",
       "                        <td id=\"T_dc49ca30_50f6_11eb_96b2_0242ac130202row28_col3\" class=\"data row28 col3\" >Not Member</td>\n",
       "                        <td id=\"T_dc49ca30_50f6_11eb_96b2_0242ac130202row28_col4\" class=\"data row28 col4\" >National Currency</td>\n",
       "                        <td id=\"T_dc49ca30_50f6_11eb_96b2_0242ac130202row28_col5\" class=\"data row28 col5\" >35.700000</td>\n",
       "                        <td id=\"T_dc49ca30_50f6_11eb_96b2_0242ac130202row28_col6\" class=\"data row28 col6\" >37.200000</td>\n",
       "                        <td id=\"T_dc49ca30_50f6_11eb_96b2_0242ac130202row28_col7\" class=\"data row28 col7\" >26.500000</td>\n",
       "                        <td id=\"T_dc49ca30_50f6_11eb_96b2_0242ac130202row28_col8\" class=\"data row28 col8\" >47.300000</td>\n",
       "            </tr>\n",
       "            <tr>\n",
       "                        <th id=\"T_dc49ca30_50f6_11eb_96b2_0242ac130202level0_row29\" class=\"row_heading level0 row29\" >29</th>\n",
       "                        <td id=\"T_dc49ca30_50f6_11eb_96b2_0242ac130202row29_col0\" class=\"data row29 col0\" >7</td>\n",
       "                        <td id=\"T_dc49ca30_50f6_11eb_96b2_0242ac130202row29_col1\" class=\"data row29 col1\" >Bolivia</td>\n",
       "                        <td id=\"T_dc49ca30_50f6_11eb_96b2_0242ac130202row29_col2\" class=\"data row29 col2\" >Developing</td>\n",
       "                        <td id=\"T_dc49ca30_50f6_11eb_96b2_0242ac130202row29_col3\" class=\"data row29 col3\" >Not Member</td>\n",
       "                        <td id=\"T_dc49ca30_50f6_11eb_96b2_0242ac130202row29_col4\" class=\"data row29 col4\" >National Currency</td>\n",
       "                        <td id=\"T_dc49ca30_50f6_11eb_96b2_0242ac130202row29_col5\" class=\"data row29 col5\" >29.700000</td>\n",
       "                        <td id=\"T_dc49ca30_50f6_11eb_96b2_0242ac130202row29_col6\" class=\"data row29 col6\" >28.000000</td>\n",
       "                        <td id=\"T_dc49ca30_50f6_11eb_96b2_0242ac130202row29_col7\" class=\"data row29 col7\" >4.100000</td>\n",
       "                        <td id=\"T_dc49ca30_50f6_11eb_96b2_0242ac130202row29_col8\" class=\"data row29 col8\" >69.400000</td>\n",
       "            </tr>\n",
       "            <tr>\n",
       "                        <th id=\"T_dc49ca30_50f6_11eb_96b2_0242ac130202level0_row30\" class=\"row_heading level0 row30\" >30</th>\n",
       "                        <td id=\"T_dc49ca30_50f6_11eb_96b2_0242ac130202row30_col0\" class=\"data row30 col0\" >8</td>\n",
       "                        <td id=\"T_dc49ca30_50f6_11eb_96b2_0242ac130202row30_col1\" class=\"data row30 col1\" >Bosnia and Herzegovina</td>\n",
       "                        <td id=\"T_dc49ca30_50f6_11eb_96b2_0242ac130202row30_col2\" class=\"data row30 col2\" >Developing</td>\n",
       "                        <td id=\"T_dc49ca30_50f6_11eb_96b2_0242ac130202row30_col3\" class=\"data row30 col3\" >Not Member</td>\n",
       "                        <td id=\"T_dc49ca30_50f6_11eb_96b2_0242ac130202row30_col4\" class=\"data row30 col4\" >National Currency</td>\n",
       "                        <td id=\"T_dc49ca30_50f6_11eb_96b2_0242ac130202row30_col5\" class=\"data row30 col5\" >31.600000</td>\n",
       "                        <td id=\"T_dc49ca30_50f6_11eb_96b2_0242ac130202row30_col6\" class=\"data row30 col6\" >28.900000</td>\n",
       "                        <td id=\"T_dc49ca30_50f6_11eb_96b2_0242ac130202row30_col7\" class=\"data row30 col7\" >-1.000000</td>\n",
       "                        <td id=\"T_dc49ca30_50f6_11eb_96b2_0242ac130202row30_col8\" class=\"data row30 col8\" >51.900000</td>\n",
       "            </tr>\n",
       "            <tr>\n",
       "                        <th id=\"T_dc49ca30_50f6_11eb_96b2_0242ac130202level0_row31\" class=\"row_heading level0 row31\" >31</th>\n",
       "                        <td id=\"T_dc49ca30_50f6_11eb_96b2_0242ac130202row31_col0\" class=\"data row31 col0\" >9</td>\n",
       "                        <td id=\"T_dc49ca30_50f6_11eb_96b2_0242ac130202row31_col1\" class=\"data row31 col1\" >Brazil</td>\n",
       "                        <td id=\"T_dc49ca30_50f6_11eb_96b2_0242ac130202row31_col2\" class=\"data row31 col2\" >Developing</td>\n",
       "                        <td id=\"T_dc49ca30_50f6_11eb_96b2_0242ac130202row31_col3\" class=\"data row31 col3\" >Not Member</td>\n",
       "                        <td id=\"T_dc49ca30_50f6_11eb_96b2_0242ac130202row31_col4\" class=\"data row31 col4\" >National Currency</td>\n",
       "                        <td id=\"T_dc49ca30_50f6_11eb_96b2_0242ac130202row31_col5\" class=\"data row31 col5\" >31.100000</td>\n",
       "                        <td id=\"T_dc49ca30_50f6_11eb_96b2_0242ac130202row31_col6\" class=\"data row31 col6\" >25.800000</td>\n",
       "                        <td id=\"T_dc49ca30_50f6_11eb_96b2_0242ac130202row31_col7\" class=\"data row31 col7\" >10.670000</td>\n",
       "                        <td id=\"T_dc49ca30_50f6_11eb_96b2_0242ac130202row31_col8\" class=\"data row31 col8\" >55.900000</td>\n",
       "            </tr>\n",
       "            <tr>\n",
       "                        <th id=\"T_dc49ca30_50f6_11eb_96b2_0242ac130202level0_row32\" class=\"row_heading level0 row32\" >32</th>\n",
       "                        <td id=\"T_dc49ca30_50f6_11eb_96b2_0242ac130202row32_col0\" class=\"data row32 col0\" >10</td>\n",
       "                        <td id=\"T_dc49ca30_50f6_11eb_96b2_0242ac130202row32_col1\" class=\"data row32 col1\" >China</td>\n",
       "                        <td id=\"T_dc49ca30_50f6_11eb_96b2_0242ac130202row32_col2\" class=\"data row32 col2\" >Developing</td>\n",
       "                        <td id=\"T_dc49ca30_50f6_11eb_96b2_0242ac130202row32_col3\" class=\"data row32 col3\" >Not Member</td>\n",
       "                        <td id=\"T_dc49ca30_50f6_11eb_96b2_0242ac130202row32_col4\" class=\"data row32 col4\" >National Currency</td>\n",
       "                        <td id=\"T_dc49ca30_50f6_11eb_96b2_0242ac130202row32_col5\" class=\"data row32 col5\" >38.300000</td>\n",
       "                        <td id=\"T_dc49ca30_50f6_11eb_96b2_0242ac130202row32_col6\" class=\"data row32 col6\" >36.400000</td>\n",
       "                        <td id=\"T_dc49ca30_50f6_11eb_96b2_0242ac130202row32_col7\" class=\"data row32 col7\" >1.400000</td>\n",
       "                        <td id=\"T_dc49ca30_50f6_11eb_96b2_0242ac130202row32_col8\" class=\"data row32 col8\" >62.400000</td>\n",
       "            </tr>\n",
       "            <tr>\n",
       "                        <th id=\"T_dc49ca30_50f6_11eb_96b2_0242ac130202level0_row33\" class=\"row_heading level0 row33\" >33</th>\n",
       "                        <td id=\"T_dc49ca30_50f6_11eb_96b2_0242ac130202row33_col0\" class=\"data row33 col0\" >11</td>\n",
       "                        <td id=\"T_dc49ca30_50f6_11eb_96b2_0242ac130202row33_col1\" class=\"data row33 col1\" >Costa Rica</td>\n",
       "                        <td id=\"T_dc49ca30_50f6_11eb_96b2_0242ac130202row33_col2\" class=\"data row33 col2\" >Developing</td>\n",
       "                        <td id=\"T_dc49ca30_50f6_11eb_96b2_0242ac130202row33_col3\" class=\"data row33 col3\" >Not Member</td>\n",
       "                        <td id=\"T_dc49ca30_50f6_11eb_96b2_0242ac130202row33_col4\" class=\"data row33 col4\" >National Currency</td>\n",
       "                        <td id=\"T_dc49ca30_50f6_11eb_96b2_0242ac130202row33_col5\" class=\"data row33 col5\" >36.100000</td>\n",
       "                        <td id=\"T_dc49ca30_50f6_11eb_96b2_0242ac130202row33_col6\" class=\"data row33 col6\" >37.700000</td>\n",
       "                        <td id=\"T_dc49ca30_50f6_11eb_96b2_0242ac130202row33_col7\" class=\"data row33 col7\" >0.800000</td>\n",
       "                        <td id=\"T_dc49ca30_50f6_11eb_96b2_0242ac130202row33_col8\" class=\"data row33 col8\" >59.400000</td>\n",
       "            </tr>\n",
       "            <tr>\n",
       "                        <th id=\"T_dc49ca30_50f6_11eb_96b2_0242ac130202level0_row34\" class=\"row_heading level0 row34\" >34</th>\n",
       "                        <td id=\"T_dc49ca30_50f6_11eb_96b2_0242ac130202row34_col0\" class=\"data row34 col0\" >14</td>\n",
       "                        <td id=\"T_dc49ca30_50f6_11eb_96b2_0242ac130202row34_col1\" class=\"data row34 col1\" >Ecuador</td>\n",
       "                        <td id=\"T_dc49ca30_50f6_11eb_96b2_0242ac130202row34_col2\" class=\"data row34 col2\" >Developing</td>\n",
       "                        <td id=\"T_dc49ca30_50f6_11eb_96b2_0242ac130202row34_col3\" class=\"data row34 col3\" >Not Member</td>\n",
       "                        <td id=\"T_dc49ca30_50f6_11eb_96b2_0242ac130202row34_col4\" class=\"data row34 col4\" >National Currency</td>\n",
       "                        <td id=\"T_dc49ca30_50f6_11eb_96b2_0242ac130202row34_col5\" class=\"data row34 col5\" >32.300000</td>\n",
       "                        <td id=\"T_dc49ca30_50f6_11eb_96b2_0242ac130202row34_col6\" class=\"data row34 col6\" >28.200000</td>\n",
       "                        <td id=\"T_dc49ca30_50f6_11eb_96b2_0242ac130202row34_col7\" class=\"data row34 col7\" >-0.500000</td>\n",
       "                        <td id=\"T_dc49ca30_50f6_11eb_96b2_0242ac130202row34_col8\" class=\"data row34 col8\" >63.500000</td>\n",
       "            </tr>\n",
       "            <tr>\n",
       "                        <th id=\"T_dc49ca30_50f6_11eb_96b2_0242ac130202level0_row35\" class=\"row_heading level0 row35\" >35</th>\n",
       "                        <td id=\"T_dc49ca30_50f6_11eb_96b2_0242ac130202row35_col0\" class=\"data row35 col0\" >15</td>\n",
       "                        <td id=\"T_dc49ca30_50f6_11eb_96b2_0242ac130202row35_col1\" class=\"data row35 col1\" >Egypt</td>\n",
       "                        <td id=\"T_dc49ca30_50f6_11eb_96b2_0242ac130202row35_col2\" class=\"data row35 col2\" >Developing</td>\n",
       "                        <td id=\"T_dc49ca30_50f6_11eb_96b2_0242ac130202row35_col3\" class=\"data row35 col3\" >Not Member</td>\n",
       "                        <td id=\"T_dc49ca30_50f6_11eb_96b2_0242ac130202row35_col4\" class=\"data row35 col4\" >National Currency</td>\n",
       "                        <td id=\"T_dc49ca30_50f6_11eb_96b2_0242ac130202row35_col5\" class=\"data row35 col5\" >27.700000</td>\n",
       "                        <td id=\"T_dc49ca30_50f6_11eb_96b2_0242ac130202row35_col6\" class=\"data row35 col6\" >28.100000</td>\n",
       "                        <td id=\"T_dc49ca30_50f6_11eb_96b2_0242ac130202row35_col7\" class=\"data row35 col7\" >11.000000</td>\n",
       "                        <td id=\"T_dc49ca30_50f6_11eb_96b2_0242ac130202row35_col8\" class=\"data row35 col8\" >64.600000</td>\n",
       "            </tr>\n",
       "            <tr>\n",
       "                        <th id=\"T_dc49ca30_50f6_11eb_96b2_0242ac130202level0_row36\" class=\"row_heading level0 row36\" >36</th>\n",
       "                        <td id=\"T_dc49ca30_50f6_11eb_96b2_0242ac130202row36_col0\" class=\"data row36 col0\" >16</td>\n",
       "                        <td id=\"T_dc49ca30_50f6_11eb_96b2_0242ac130202row36_col1\" class=\"data row36 col1\" >El Salvador</td>\n",
       "                        <td id=\"T_dc49ca30_50f6_11eb_96b2_0242ac130202row36_col2\" class=\"data row36 col2\" >Developing</td>\n",
       "                        <td id=\"T_dc49ca30_50f6_11eb_96b2_0242ac130202row36_col3\" class=\"data row36 col3\" >Not Member</td>\n",
       "                        <td id=\"T_dc49ca30_50f6_11eb_96b2_0242ac130202row36_col4\" class=\"data row36 col4\" >National Currency</td>\n",
       "                        <td id=\"T_dc49ca30_50f6_11eb_96b2_0242ac130202row36_col5\" class=\"data row36 col5\" >29.900000</td>\n",
       "                        <td id=\"T_dc49ca30_50f6_11eb_96b2_0242ac130202row36_col6\" class=\"data row36 col6\" >29.600000</td>\n",
       "                        <td id=\"T_dc49ca30_50f6_11eb_96b2_0242ac130202row36_col7\" class=\"data row36 col7\" >-2.250000</td>\n",
       "                        <td id=\"T_dc49ca30_50f6_11eb_96b2_0242ac130202row36_col8\" class=\"data row36 col8\" >55.700000</td>\n",
       "            </tr>\n",
       "            <tr>\n",
       "                        <th id=\"T_dc49ca30_50f6_11eb_96b2_0242ac130202level0_row37\" class=\"row_heading level0 row37\" >37</th>\n",
       "                        <td id=\"T_dc49ca30_50f6_11eb_96b2_0242ac130202row37_col0\" class=\"data row37 col0\" >21</td>\n",
       "                        <td id=\"T_dc49ca30_50f6_11eb_96b2_0242ac130202row37_col1\" class=\"data row37 col1\" >Ghana</td>\n",
       "                        <td id=\"T_dc49ca30_50f6_11eb_96b2_0242ac130202row37_col2\" class=\"data row37 col2\" >Developing</td>\n",
       "                        <td id=\"T_dc49ca30_50f6_11eb_96b2_0242ac130202row37_col3\" class=\"data row37 col3\" >Not Member</td>\n",
       "                        <td id=\"T_dc49ca30_50f6_11eb_96b2_0242ac130202row37_col4\" class=\"data row37 col4\" >National Currency</td>\n",
       "                        <td id=\"T_dc49ca30_50f6_11eb_96b2_0242ac130202row37_col5\" class=\"data row37 col5\" >25.800000</td>\n",
       "                        <td id=\"T_dc49ca30_50f6_11eb_96b2_0242ac130202row37_col6\" class=\"data row37 col6\" >24.800000</td>\n",
       "                        <td id=\"T_dc49ca30_50f6_11eb_96b2_0242ac130202row37_col7\" class=\"data row37 col7\" >17.200000</td>\n",
       "                        <td id=\"T_dc49ca30_50f6_11eb_96b2_0242ac130202row37_col8\" class=\"data row37 col8\" >60.800000</td>\n",
       "            </tr>\n",
       "            <tr>\n",
       "                        <th id=\"T_dc49ca30_50f6_11eb_96b2_0242ac130202level0_row38\" class=\"row_heading level0 row38\" >38</th>\n",
       "                        <td id=\"T_dc49ca30_50f6_11eb_96b2_0242ac130202row38_col0\" class=\"data row38 col0\" >26</td>\n",
       "                        <td id=\"T_dc49ca30_50f6_11eb_96b2_0242ac130202row38_col1\" class=\"data row38 col1\" >India</td>\n",
       "                        <td id=\"T_dc49ca30_50f6_11eb_96b2_0242ac130202row38_col2\" class=\"data row38 col2\" >Developing</td>\n",
       "                        <td id=\"T_dc49ca30_50f6_11eb_96b2_0242ac130202row38_col3\" class=\"data row38 col3\" >Not Member</td>\n",
       "                        <td id=\"T_dc49ca30_50f6_11eb_96b2_0242ac130202row38_col4\" class=\"data row38 col4\" >National Currency</td>\n",
       "                        <td id=\"T_dc49ca30_50f6_11eb_96b2_0242ac130202row38_col5\" class=\"data row38 col5\" >25.300000</td>\n",
       "                        <td id=\"T_dc49ca30_50f6_11eb_96b2_0242ac130202row38_col6\" class=\"data row38 col6\" >25.300000</td>\n",
       "                        <td id=\"T_dc49ca30_50f6_11eb_96b2_0242ac130202row38_col7\" class=\"data row38 col7\" >5.900000</td>\n",
       "                        <td id=\"T_dc49ca30_50f6_11eb_96b2_0242ac130202row38_col8\" class=\"data row38 col8\" >61.100000</td>\n",
       "            </tr>\n",
       "            <tr>\n",
       "                        <th id=\"T_dc49ca30_50f6_11eb_96b2_0242ac130202level0_row39\" class=\"row_heading level0 row39\" >39</th>\n",
       "                        <td id=\"T_dc49ca30_50f6_11eb_96b2_0242ac130202row39_col0\" class=\"data row39 col0\" >31</td>\n",
       "                        <td id=\"T_dc49ca30_50f6_11eb_96b2_0242ac130202row39_col1\" class=\"data row39 col1\" >Jamaica</td>\n",
       "                        <td id=\"T_dc49ca30_50f6_11eb_96b2_0242ac130202row39_col2\" class=\"data row39 col2\" >Developing</td>\n",
       "                        <td id=\"T_dc49ca30_50f6_11eb_96b2_0242ac130202row39_col3\" class=\"data row39 col3\" >Not Member</td>\n",
       "                        <td id=\"T_dc49ca30_50f6_11eb_96b2_0242ac130202row39_col4\" class=\"data row39 col4\" >National Currency</td>\n",
       "                        <td id=\"T_dc49ca30_50f6_11eb_96b2_0242ac130202row39_col5\" class=\"data row39 col5\" >38.600000</td>\n",
       "                        <td id=\"T_dc49ca30_50f6_11eb_96b2_0242ac130202row39_col6\" class=\"data row39 col6\" >27.200000</td>\n",
       "                        <td id=\"T_dc49ca30_50f6_11eb_96b2_0242ac130202row39_col7\" class=\"data row39 col7\" >3.700000</td>\n",
       "                        <td id=\"T_dc49ca30_50f6_11eb_96b2_0242ac130202row39_col8\" class=\"data row39 col8\" >37.700000</td>\n",
       "            </tr>\n",
       "            <tr>\n",
       "                        <th id=\"T_dc49ca30_50f6_11eb_96b2_0242ac130202level0_row40\" class=\"row_heading level0 row40\" >40</th>\n",
       "                        <td id=\"T_dc49ca30_50f6_11eb_96b2_0242ac130202row40_col0\" class=\"data row40 col0\" >36</td>\n",
       "                        <td id=\"T_dc49ca30_50f6_11eb_96b2_0242ac130202row40_col1\" class=\"data row40 col1\" >Macedonia</td>\n",
       "                        <td id=\"T_dc49ca30_50f6_11eb_96b2_0242ac130202row40_col2\" class=\"data row40 col2\" >Developing</td>\n",
       "                        <td id=\"T_dc49ca30_50f6_11eb_96b2_0242ac130202row40_col3\" class=\"data row40 col3\" >Not Member</td>\n",
       "                        <td id=\"T_dc49ca30_50f6_11eb_96b2_0242ac130202row40_col4\" class=\"data row40 col4\" >National Currency</td>\n",
       "                        <td id=\"T_dc49ca30_50f6_11eb_96b2_0242ac130202row40_col5\" class=\"data row40 col5\" >41.200000</td>\n",
       "                        <td id=\"T_dc49ca30_50f6_11eb_96b2_0242ac130202row40_col6\" class=\"data row40 col6\" >37.100000</td>\n",
       "                        <td id=\"T_dc49ca30_50f6_11eb_96b2_0242ac130202row40_col7\" class=\"data row40 col7\" >3.700000</td>\n",
       "                        <td id=\"T_dc49ca30_50f6_11eb_96b2_0242ac130202row40_col8\" class=\"data row40 col8\" >73.000000</td>\n",
       "            </tr>\n",
       "            <tr>\n",
       "                        <th id=\"T_dc49ca30_50f6_11eb_96b2_0242ac130202level0_row41\" class=\"row_heading level0 row41\" >41</th>\n",
       "                        <td id=\"T_dc49ca30_50f6_11eb_96b2_0242ac130202row41_col0\" class=\"data row41 col0\" >37</td>\n",
       "                        <td id=\"T_dc49ca30_50f6_11eb_96b2_0242ac130202row41_col1\" class=\"data row41 col1\" >Malaysia</td>\n",
       "                        <td id=\"T_dc49ca30_50f6_11eb_96b2_0242ac130202row41_col2\" class=\"data row41 col2\" >Developing</td>\n",
       "                        <td id=\"T_dc49ca30_50f6_11eb_96b2_0242ac130202row41_col3\" class=\"data row41 col3\" >Not Member</td>\n",
       "                        <td id=\"T_dc49ca30_50f6_11eb_96b2_0242ac130202row41_col4\" class=\"data row41 col4\" >National Currency</td>\n",
       "                        <td id=\"T_dc49ca30_50f6_11eb_96b2_0242ac130202row41_col5\" class=\"data row41 col5\" >39.200000</td>\n",
       "                        <td id=\"T_dc49ca30_50f6_11eb_96b2_0242ac130202row41_col6\" class=\"data row41 col6\" >40.000000</td>\n",
       "                        <td id=\"T_dc49ca30_50f6_11eb_96b2_0242ac130202row41_col7\" class=\"data row41 col7\" >2.300000</td>\n",
       "                        <td id=\"T_dc49ca30_50f6_11eb_96b2_0242ac130202row41_col8\" class=\"data row41 col8\" >58.500000</td>\n",
       "            </tr>\n",
       "            <tr>\n",
       "                        <th id=\"T_dc49ca30_50f6_11eb_96b2_0242ac130202level0_row42\" class=\"row_heading level0 row42\" >42</th>\n",
       "                        <td id=\"T_dc49ca30_50f6_11eb_96b2_0242ac130202row42_col0\" class=\"data row42 col0\" >38</td>\n",
       "                        <td id=\"T_dc49ca30_50f6_11eb_96b2_0242ac130202row42_col1\" class=\"data row42 col1\" >Mexico</td>\n",
       "                        <td id=\"T_dc49ca30_50f6_11eb_96b2_0242ac130202row42_col2\" class=\"data row42 col2\" >Developing</td>\n",
       "                        <td id=\"T_dc49ca30_50f6_11eb_96b2_0242ac130202row42_col3\" class=\"data row42 col3\" >Not Member</td>\n",
       "                        <td id=\"T_dc49ca30_50f6_11eb_96b2_0242ac130202row42_col4\" class=\"data row42 col4\" >National Currency</td>\n",
       "                        <td id=\"T_dc49ca30_50f6_11eb_96b2_0242ac130202row42_col5\" class=\"data row42 col5\" >42.800000</td>\n",
       "                        <td id=\"T_dc49ca30_50f6_11eb_96b2_0242ac130202row42_col6\" class=\"data row42 col6\" >30.700000</td>\n",
       "                        <td id=\"T_dc49ca30_50f6_11eb_96b2_0242ac130202row42_col7\" class=\"data row42 col7\" >2.700000</td>\n",
       "                        <td id=\"T_dc49ca30_50f6_11eb_96b2_0242ac130202row42_col8\" class=\"data row42 col8\" >44.700000</td>\n",
       "            </tr>\n",
       "            <tr>\n",
       "                        <th id=\"T_dc49ca30_50f6_11eb_96b2_0242ac130202level0_row43\" class=\"row_heading level0 row43\" >43</th>\n",
       "                        <td id=\"T_dc49ca30_50f6_11eb_96b2_0242ac130202row43_col0\" class=\"data row43 col0\" >42</td>\n",
       "                        <td id=\"T_dc49ca30_50f6_11eb_96b2_0242ac130202row43_col1\" class=\"data row43 col1\" >Panama</td>\n",
       "                        <td id=\"T_dc49ca30_50f6_11eb_96b2_0242ac130202row43_col2\" class=\"data row43 col2\" >Developing</td>\n",
       "                        <td id=\"T_dc49ca30_50f6_11eb_96b2_0242ac130202row43_col3\" class=\"data row43 col3\" >Not Member</td>\n",
       "                        <td id=\"T_dc49ca30_50f6_11eb_96b2_0242ac130202row43_col4\" class=\"data row43 col4\" >National Currency</td>\n",
       "                        <td id=\"T_dc49ca30_50f6_11eb_96b2_0242ac130202row43_col5\" class=\"data row43 col5\" >36.900000</td>\n",
       "                        <td id=\"T_dc49ca30_50f6_11eb_96b2_0242ac130202row43_col6\" class=\"data row43 col6\" >32.200000</td>\n",
       "                        <td id=\"T_dc49ca30_50f6_11eb_96b2_0242ac130202row43_col7\" class=\"data row43 col7\" >0.100000</td>\n",
       "                        <td id=\"T_dc49ca30_50f6_11eb_96b2_0242ac130202row43_col8\" class=\"data row43 col8\" >67.900000</td>\n",
       "            </tr>\n",
       "            <tr>\n",
       "                        <th id=\"T_dc49ca30_50f6_11eb_96b2_0242ac130202level0_row44\" class=\"row_heading level0 row44\" >44</th>\n",
       "                        <td id=\"T_dc49ca30_50f6_11eb_96b2_0242ac130202row44_col0\" class=\"data row44 col0\" >43</td>\n",
       "                        <td id=\"T_dc49ca30_50f6_11eb_96b2_0242ac130202row44_col1\" class=\"data row44 col1\" >Peru</td>\n",
       "                        <td id=\"T_dc49ca30_50f6_11eb_96b2_0242ac130202row44_col2\" class=\"data row44 col2\" >Developing</td>\n",
       "                        <td id=\"T_dc49ca30_50f6_11eb_96b2_0242ac130202row44_col3\" class=\"data row44 col3\" >Not Member</td>\n",
       "                        <td id=\"T_dc49ca30_50f6_11eb_96b2_0242ac130202row44_col4\" class=\"data row44 col4\" >National Currency</td>\n",
       "                        <td id=\"T_dc49ca30_50f6_11eb_96b2_0242ac130202row44_col5\" class=\"data row44 col5\" >43.600000</td>\n",
       "                        <td id=\"T_dc49ca30_50f6_11eb_96b2_0242ac130202row44_col6\" class=\"data row44 col6\" >30.900000</td>\n",
       "                        <td id=\"T_dc49ca30_50f6_11eb_96b2_0242ac130202row44_col7\" class=\"data row44 col7\" >3.500000</td>\n",
       "                        <td id=\"T_dc49ca30_50f6_11eb_96b2_0242ac130202row44_col8\" class=\"data row44 col8\" >63.400000</td>\n",
       "            </tr>\n",
       "            <tr>\n",
       "                        <th id=\"T_dc49ca30_50f6_11eb_96b2_0242ac130202level0_row45\" class=\"row_heading level0 row45\" >45</th>\n",
       "                        <td id=\"T_dc49ca30_50f6_11eb_96b2_0242ac130202row45_col0\" class=\"data row45 col0\" >47</td>\n",
       "                        <td id=\"T_dc49ca30_50f6_11eb_96b2_0242ac130202row45_col1\" class=\"data row45 col1\" >Russia</td>\n",
       "                        <td id=\"T_dc49ca30_50f6_11eb_96b2_0242ac130202row45_col2\" class=\"data row45 col2\" >Developing</td>\n",
       "                        <td id=\"T_dc49ca30_50f6_11eb_96b2_0242ac130202row45_col3\" class=\"data row45 col3\" >Not Member</td>\n",
       "                        <td id=\"T_dc49ca30_50f6_11eb_96b2_0242ac130202row45_col4\" class=\"data row45 col4\" >National Currency</td>\n",
       "                        <td id=\"T_dc49ca30_50f6_11eb_96b2_0242ac130202row45_col5\" class=\"data row45 col5\" >35.600000</td>\n",
       "                        <td id=\"T_dc49ca30_50f6_11eb_96b2_0242ac130202row45_col6\" class=\"data row45 col6\" >31.700000</td>\n",
       "                        <td id=\"T_dc49ca30_50f6_11eb_96b2_0242ac130202row45_col7\" class=\"data row45 col7\" >15.500000</td>\n",
       "                        <td id=\"T_dc49ca30_50f6_11eb_96b2_0242ac130202row45_col8\" class=\"data row45 col8\" >65.200000</td>\n",
       "            </tr>\n",
       "            <tr>\n",
       "                        <th id=\"T_dc49ca30_50f6_11eb_96b2_0242ac130202level0_row46\" class=\"row_heading level0 row46\" >46</th>\n",
       "                        <td id=\"T_dc49ca30_50f6_11eb_96b2_0242ac130202row46_col0\" class=\"data row46 col0\" >48</td>\n",
       "                        <td id=\"T_dc49ca30_50f6_11eb_96b2_0242ac130202row46_col1\" class=\"data row46 col1\" >Saudi Arabia</td>\n",
       "                        <td id=\"T_dc49ca30_50f6_11eb_96b2_0242ac130202row46_col2\" class=\"data row46 col2\" >Developing</td>\n",
       "                        <td id=\"T_dc49ca30_50f6_11eb_96b2_0242ac130202row46_col3\" class=\"data row46 col3\" >Not Member</td>\n",
       "                        <td id=\"T_dc49ca30_50f6_11eb_96b2_0242ac130202row46_col4\" class=\"data row46 col4\" >National Currency</td>\n",
       "                        <td id=\"T_dc49ca30_50f6_11eb_96b2_0242ac130202row46_col5\" class=\"data row46 col5\" >37.000000</td>\n",
       "                        <td id=\"T_dc49ca30_50f6_11eb_96b2_0242ac130202row46_col6\" class=\"data row46 col6\" >49.600000</td>\n",
       "                        <td id=\"T_dc49ca30_50f6_11eb_96b2_0242ac130202row46_col7\" class=\"data row46 col7\" >1.200000</td>\n",
       "                        <td id=\"T_dc49ca30_50f6_11eb_96b2_0242ac130202row46_col8\" class=\"data row46 col8\" >13.000000</td>\n",
       "            </tr>\n",
       "            <tr>\n",
       "                        <th id=\"T_dc49ca30_50f6_11eb_96b2_0242ac130202level0_row47\" class=\"row_heading level0 row47\" >47</th>\n",
       "                        <td id=\"T_dc49ca30_50f6_11eb_96b2_0242ac130202row47_col0\" class=\"data row47 col0\" >57</td>\n",
       "                        <td id=\"T_dc49ca30_50f6_11eb_96b2_0242ac130202row47_col1\" class=\"data row47 col1\" >Thailand</td>\n",
       "                        <td id=\"T_dc49ca30_50f6_11eb_96b2_0242ac130202row47_col2\" class=\"data row47 col2\" >Developing</td>\n",
       "                        <td id=\"T_dc49ca30_50f6_11eb_96b2_0242ac130202row47_col3\" class=\"data row47 col3\" >Not Member</td>\n",
       "                        <td id=\"T_dc49ca30_50f6_11eb_96b2_0242ac130202row47_col4\" class=\"data row47 col4\" >National Currency</td>\n",
       "                        <td id=\"T_dc49ca30_50f6_11eb_96b2_0242ac130202row47_col5\" class=\"data row47 col5\" >36.600000</td>\n",
       "                        <td id=\"T_dc49ca30_50f6_11eb_96b2_0242ac130202row47_col6\" class=\"data row47 col6\" >32.100000</td>\n",
       "                        <td id=\"T_dc49ca30_50f6_11eb_96b2_0242ac130202row47_col7\" class=\"data row47 col7\" >-0.900000</td>\n",
       "                        <td id=\"T_dc49ca30_50f6_11eb_96b2_0242ac130202row47_col8\" class=\"data row47 col8\" >62.000000</td>\n",
       "            </tr>\n",
       "            <tr>\n",
       "                        <th id=\"T_dc49ca30_50f6_11eb_96b2_0242ac130202level0_row48\" class=\"row_heading level0 row48\" >48</th>\n",
       "                        <td id=\"T_dc49ca30_50f6_11eb_96b2_0242ac130202row48_col0\" class=\"data row48 col0\" >58</td>\n",
       "                        <td id=\"T_dc49ca30_50f6_11eb_96b2_0242ac130202row48_col1\" class=\"data row48 col1\" >Tunisia</td>\n",
       "                        <td id=\"T_dc49ca30_50f6_11eb_96b2_0242ac130202row48_col2\" class=\"data row48 col2\" >Developing</td>\n",
       "                        <td id=\"T_dc49ca30_50f6_11eb_96b2_0242ac130202row48_col3\" class=\"data row48 col3\" >Not Member</td>\n",
       "                        <td id=\"T_dc49ca30_50f6_11eb_96b2_0242ac130202row48_col4\" class=\"data row48 col4\" >National Currency</td>\n",
       "                        <td id=\"T_dc49ca30_50f6_11eb_96b2_0242ac130202row48_col5\" class=\"data row48 col5\" >30.700000</td>\n",
       "                        <td id=\"T_dc49ca30_50f6_11eb_96b2_0242ac130202row48_col6\" class=\"data row48 col6\" >35.500000</td>\n",
       "                        <td id=\"T_dc49ca30_50f6_11eb_96b2_0242ac130202row48_col7\" class=\"data row48 col7\" >4.800000</td>\n",
       "                        <td id=\"T_dc49ca30_50f6_11eb_96b2_0242ac130202row48_col8\" class=\"data row48 col8\" >25.190000</td>\n",
       "            </tr>\n",
       "            <tr>\n",
       "                        <th id=\"T_dc49ca30_50f6_11eb_96b2_0242ac130202level0_row49\" class=\"row_heading level0 row49\" >49</th>\n",
       "                        <td id=\"T_dc49ca30_50f6_11eb_96b2_0242ac130202row49_col0\" class=\"data row49 col0\" >59</td>\n",
       "                        <td id=\"T_dc49ca30_50f6_11eb_96b2_0242ac130202row49_col1\" class=\"data row49 col1\" >Turkey</td>\n",
       "                        <td id=\"T_dc49ca30_50f6_11eb_96b2_0242ac130202row49_col2\" class=\"data row49 col2\" >Developing</td>\n",
       "                        <td id=\"T_dc49ca30_50f6_11eb_96b2_0242ac130202row49_col3\" class=\"data row49 col3\" >Not Member</td>\n",
       "                        <td id=\"T_dc49ca30_50f6_11eb_96b2_0242ac130202row49_col4\" class=\"data row49 col4\" >National Currency</td>\n",
       "                        <td id=\"T_dc49ca30_50f6_11eb_96b2_0242ac130202row49_col5\" class=\"data row49 col5\" >39.300000</td>\n",
       "                        <td id=\"T_dc49ca30_50f6_11eb_96b2_0242ac130202row49_col6\" class=\"data row49 col6\" >54.600000</td>\n",
       "                        <td id=\"T_dc49ca30_50f6_11eb_96b2_0242ac130202row49_col7\" class=\"data row49 col7\" >7.700000</td>\n",
       "                        <td id=\"T_dc49ca30_50f6_11eb_96b2_0242ac130202row49_col8\" class=\"data row49 col8\" >30.400000</td>\n",
       "            </tr>\n",
       "            <tr>\n",
       "                        <th id=\"T_dc49ca30_50f6_11eb_96b2_0242ac130202level0_row50\" class=\"row_heading level0 row50\" >50</th>\n",
       "                        <td id=\"T_dc49ca30_50f6_11eb_96b2_0242ac130202row50_col0\" class=\"data row50 col0\" >60</td>\n",
       "                        <td id=\"T_dc49ca30_50f6_11eb_96b2_0242ac130202row50_col1\" class=\"data row50 col1\" >Uruguay</td>\n",
       "                        <td id=\"T_dc49ca30_50f6_11eb_96b2_0242ac130202row50_col2\" class=\"data row50 col2\" >Developing</td>\n",
       "                        <td id=\"T_dc49ca30_50f6_11eb_96b2_0242ac130202row50_col3\" class=\"data row50 col3\" >Not Member</td>\n",
       "                        <td id=\"T_dc49ca30_50f6_11eb_96b2_0242ac130202row50_col4\" class=\"data row50 col4\" >National Currency</td>\n",
       "                        <td id=\"T_dc49ca30_50f6_11eb_96b2_0242ac130202row50_col5\" class=\"data row50 col5\" >44.500000</td>\n",
       "                        <td id=\"T_dc49ca30_50f6_11eb_96b2_0242ac130202row50_col6\" class=\"data row50 col6\" >41.400000</td>\n",
       "                        <td id=\"T_dc49ca30_50f6_11eb_96b2_0242ac130202row50_col7\" class=\"data row50 col7\" >8.670000</td>\n",
       "                        <td id=\"T_dc49ca30_50f6_11eb_96b2_0242ac130202row50_col8\" class=\"data row50 col8\" >68.000000</td>\n",
       "            </tr>\n",
       "    </tbody></table>"
      ],
      "text/plain": [
       "<pandas.io.formats.style.Styler at 0x7f681e5cba50>"
      ]
     },
     "execution_count": 2,
     "metadata": {},
     "output_type": "execute_result"
    }
   ],
   "source": [
    "data=pd.read_csv(\"../input/women-entrepreneurship-and-labor-force/Dataset3.csv\",sep=';')\n",
    "data.style.background_gradient(cmap='YlGnBu', low=0, high=0, axis=0, subset=None)"
   ]
  },
  {
   "cell_type": "markdown",
   "metadata": {
    "papermill": {
     "duration": 0.029867,
     "end_time": "2021-01-07T14:44:35.484853",
     "exception": false,
     "start_time": "2021-01-07T14:44:35.454986",
     "status": "completed"
    },
    "tags": []
   },
   "source": [
    "******The Global Entrepreneurship Index (GEI)** is an economic activity index compiled by US-based The Global Entrepreneurship and Development Institute, which looks at how individual countries across the world allocate resources to promoting entrepreneurship, if indeed they do.\n",
    "The Global Entrepreneurship Index is a composite indicator of the health of the entrepreneurship ecosystem in a given country.The GEI measures both the quality of entrepreneurship and the extent and depth of the supporting entrepreneurial ecosystem.\n",
    "\n",
    "**Women entrepreneurs** may be defined as the women or a group of women who initiate, organise and operate a business enterprise. Women are expected to innovate, imitate or adopt an economic activity to be called women entrepreneurs.\n",
    "\n",
    "**Why does entrepreneurship matter? How do entrepreneurs contribute?**\n",
    "\n",
    "\n",
    "Entrepreneurs improve economies and people’s lives by creating jobs, developing new solutions to problems, creating technology that improves efficiency, and exchanging ideas globally. Many of the conditions that help entrepreneurs also help the economy as a whole, providing even broader gains from supporting entrepreneurship. \n"
   ]
  },
  {
   "cell_type": "markdown",
   "metadata": {
    "papermill": {
     "duration": 0.028649,
     "end_time": "2021-01-07T14:44:35.543410",
     "exception": false,
     "start_time": "2021-01-07T14:44:35.514761",
     "status": "completed"
    },
    "tags": []
   },
   "source": [
    "![](https://encrypted-tbn0.gstatic.com/images?q=tbn:ANd9GcQRPT84yt85J9Bji1J8x3Bcwj8Oin_FuDJZnQ&usqp=CAU)"
   ]
  },
  {
   "cell_type": "code",
   "execution_count": 3,
   "metadata": {
    "execution": {
     "iopub.execute_input": "2021-01-07T14:44:35.612360Z",
     "iopub.status.busy": "2021-01-07T14:44:35.611659Z",
     "iopub.status.idle": "2021-01-07T14:44:35.614987Z",
     "shell.execute_reply": "2021-01-07T14:44:35.615485Z"
    },
    "papermill": {
     "duration": 0.041843,
     "end_time": "2021-01-07T14:44:35.615675",
     "exception": false,
     "start_time": "2021-01-07T14:44:35.573832",
     "status": "completed"
    },
    "tags": []
   },
   "outputs": [
    {
     "data": {
      "text/plain": [
       "(51, 9)"
      ]
     },
     "execution_count": 3,
     "metadata": {},
     "output_type": "execute_result"
    }
   ],
   "source": [
    "data.shape"
   ]
  },
  {
   "cell_type": "code",
   "execution_count": 4,
   "metadata": {
    "execution": {
     "iopub.execute_input": "2021-01-07T14:44:35.682096Z",
     "iopub.status.busy": "2021-01-07T14:44:35.681288Z",
     "iopub.status.idle": "2021-01-07T14:44:35.699206Z",
     "shell.execute_reply": "2021-01-07T14:44:35.698061Z"
    },
    "papermill": {
     "duration": 0.052038,
     "end_time": "2021-01-07T14:44:35.699419",
     "exception": false,
     "start_time": "2021-01-07T14:44:35.647381",
     "status": "completed"
    },
    "tags": []
   },
   "outputs": [
    {
     "name": "stdout",
     "output_type": "stream",
     "text": [
      "<class 'pandas.core.frame.DataFrame'>\n",
      "RangeIndex: 51 entries, 0 to 50\n",
      "Data columns (total 9 columns):\n",
      " #   Column                                 Non-Null Count  Dtype  \n",
      "---  ------                                 --------------  -----  \n",
      " 0   No                                     51 non-null     int64  \n",
      " 1   Country                                51 non-null     object \n",
      " 2   Level of development                   51 non-null     object \n",
      " 3   European Union Membership              51 non-null     object \n",
      " 4   Currency                               51 non-null     object \n",
      " 5   Women Entrepreneurship Index           51 non-null     float64\n",
      " 6   Entrepreneurship Index                 51 non-null     float64\n",
      " 7   Inflation rate                         51 non-null     float64\n",
      " 8   Female Labor Force Participation Rate  51 non-null     float64\n",
      "dtypes: float64(4), int64(1), object(4)\n",
      "memory usage: 3.7+ KB\n"
     ]
    }
   ],
   "source": [
    "data.info()"
   ]
  },
  {
   "cell_type": "code",
   "execution_count": 5,
   "metadata": {
    "execution": {
     "iopub.execute_input": "2021-01-07T14:44:35.763630Z",
     "iopub.status.busy": "2021-01-07T14:44:35.762921Z",
     "iopub.status.idle": "2021-01-07T14:44:35.774779Z",
     "shell.execute_reply": "2021-01-07T14:44:35.774177Z"
    },
    "papermill": {
     "duration": 0.045372,
     "end_time": "2021-01-07T14:44:35.774912",
     "exception": false,
     "start_time": "2021-01-07T14:44:35.729540",
     "status": "completed"
    },
    "tags": []
   },
   "outputs": [
    {
     "data": {
      "text/plain": [
       "No                                       0\n",
       "Country                                  0\n",
       "Level of development                     0\n",
       "European Union Membership                0\n",
       "Currency                                 0\n",
       "Women Entrepreneurship Index             0\n",
       "Entrepreneurship Index                   0\n",
       "Inflation rate                           0\n",
       "Female Labor Force Participation Rate    0\n",
       "dtype: int64"
      ]
     },
     "execution_count": 5,
     "metadata": {},
     "output_type": "execute_result"
    }
   ],
   "source": [
    "data.isnull().sum()"
   ]
  },
  {
   "cell_type": "code",
   "execution_count": 6,
   "metadata": {
    "execution": {
     "iopub.execute_input": "2021-01-07T14:44:35.849300Z",
     "iopub.status.busy": "2021-01-07T14:44:35.848377Z",
     "iopub.status.idle": "2021-01-07T14:44:35.851675Z",
     "shell.execute_reply": "2021-01-07T14:44:35.851061Z"
    },
    "papermill": {
     "duration": 0.041894,
     "end_time": "2021-01-07T14:44:35.851806",
     "exception": false,
     "start_time": "2021-01-07T14:44:35.809912",
     "status": "completed"
    },
    "tags": []
   },
   "outputs": [],
   "source": [
    "data_copy=data.copy()"
   ]
  },
  {
   "cell_type": "code",
   "execution_count": 7,
   "metadata": {
    "execution": {
     "iopub.execute_input": "2021-01-07T14:44:35.922543Z",
     "iopub.status.busy": "2021-01-07T14:44:35.921619Z",
     "iopub.status.idle": "2021-01-07T14:44:35.929923Z",
     "shell.execute_reply": "2021-01-07T14:44:35.929306Z"
    },
    "papermill": {
     "duration": 0.045387,
     "end_time": "2021-01-07T14:44:35.930046",
     "exception": false,
     "start_time": "2021-01-07T14:44:35.884659",
     "status": "completed"
    },
    "tags": []
   },
   "outputs": [],
   "source": [
    "category=[]\n",
    "for col in data_copy.columns:\n",
    "    if data[col].dtypes==object:\n",
    "        category.append(col)"
   ]
  },
  {
   "cell_type": "code",
   "execution_count": 8,
   "metadata": {
    "execution": {
     "iopub.execute_input": "2021-01-07T14:44:36.004120Z",
     "iopub.status.busy": "2021-01-07T14:44:36.002998Z",
     "iopub.status.idle": "2021-01-07T14:44:36.013941Z",
     "shell.execute_reply": "2021-01-07T14:44:36.013186Z"
    },
    "papermill": {
     "duration": 0.053734,
     "end_time": "2021-01-07T14:44:36.014070",
     "exception": false,
     "start_time": "2021-01-07T14:44:35.960336",
     "status": "completed"
    },
    "tags": []
   },
   "outputs": [],
   "source": [
    "data_encode=pd.get_dummies(data_copy,category,dtype=np.uint8)"
   ]
  },
  {
   "cell_type": "code",
   "execution_count": 9,
   "metadata": {
    "execution": {
     "iopub.execute_input": "2021-01-07T14:44:36.094900Z",
     "iopub.status.busy": "2021-01-07T14:44:36.087977Z",
     "iopub.status.idle": "2021-01-07T14:44:36.112933Z",
     "shell.execute_reply": "2021-01-07T14:44:36.113458Z"
    },
    "papermill": {
     "duration": 0.066968,
     "end_time": "2021-01-07T14:44:36.113652",
     "exception": false,
     "start_time": "2021-01-07T14:44:36.046684",
     "status": "completed"
    },
    "tags": []
   },
   "outputs": [
    {
     "data": {
      "text/html": [
       "<div>\n",
       "<style scoped>\n",
       "    .dataframe tbody tr th:only-of-type {\n",
       "        vertical-align: middle;\n",
       "    }\n",
       "\n",
       "    .dataframe tbody tr th {\n",
       "        vertical-align: top;\n",
       "    }\n",
       "\n",
       "    .dataframe thead th {\n",
       "        text-align: right;\n",
       "    }\n",
       "</style>\n",
       "<table border=\"1\" class=\"dataframe\">\n",
       "  <thead>\n",
       "    <tr style=\"text-align: right;\">\n",
       "      <th></th>\n",
       "      <th>No</th>\n",
       "      <th>Women Entrepreneurship Index</th>\n",
       "      <th>Entrepreneurship Index</th>\n",
       "      <th>Inflation rate</th>\n",
       "      <th>Female Labor Force Participation Rate</th>\n",
       "      <th>Country_Algeria</th>\n",
       "      <th>Country_Argentina</th>\n",
       "      <th>Country_Australia</th>\n",
       "      <th>Country_Austria</th>\n",
       "      <th>Country_Belgium</th>\n",
       "      <th>...</th>\n",
       "      <th>Country_Thailand</th>\n",
       "      <th>Country_Tunisia</th>\n",
       "      <th>Country_Turkey</th>\n",
       "      <th>Country_Uruguay</th>\n",
       "      <th>Level of development_Developed</th>\n",
       "      <th>Level of development_Developing</th>\n",
       "      <th>European Union Membership_Member</th>\n",
       "      <th>European Union Membership_Not Member</th>\n",
       "      <th>Currency_Euro</th>\n",
       "      <th>Currency_National Currency</th>\n",
       "    </tr>\n",
       "  </thead>\n",
       "  <tbody>\n",
       "    <tr>\n",
       "      <th>0</th>\n",
       "      <td>4</td>\n",
       "      <td>54.9</td>\n",
       "      <td>64.9</td>\n",
       "      <td>0.90</td>\n",
       "      <td>67.1</td>\n",
       "      <td>0</td>\n",
       "      <td>0</td>\n",
       "      <td>0</td>\n",
       "      <td>1</td>\n",
       "      <td>0</td>\n",
       "      <td>...</td>\n",
       "      <td>0</td>\n",
       "      <td>0</td>\n",
       "      <td>0</td>\n",
       "      <td>0</td>\n",
       "      <td>1</td>\n",
       "      <td>0</td>\n",
       "      <td>1</td>\n",
       "      <td>0</td>\n",
       "      <td>1</td>\n",
       "      <td>0</td>\n",
       "    </tr>\n",
       "    <tr>\n",
       "      <th>1</th>\n",
       "      <td>6</td>\n",
       "      <td>63.6</td>\n",
       "      <td>65.5</td>\n",
       "      <td>0.60</td>\n",
       "      <td>58.0</td>\n",
       "      <td>0</td>\n",
       "      <td>0</td>\n",
       "      <td>0</td>\n",
       "      <td>0</td>\n",
       "      <td>1</td>\n",
       "      <td>...</td>\n",
       "      <td>0</td>\n",
       "      <td>0</td>\n",
       "      <td>0</td>\n",
       "      <td>0</td>\n",
       "      <td>1</td>\n",
       "      <td>0</td>\n",
       "      <td>1</td>\n",
       "      <td>0</td>\n",
       "      <td>1</td>\n",
       "      <td>0</td>\n",
       "    </tr>\n",
       "    <tr>\n",
       "      <th>2</th>\n",
       "      <td>17</td>\n",
       "      <td>55.4</td>\n",
       "      <td>60.2</td>\n",
       "      <td>-0.88</td>\n",
       "      <td>68.5</td>\n",
       "      <td>0</td>\n",
       "      <td>0</td>\n",
       "      <td>0</td>\n",
       "      <td>0</td>\n",
       "      <td>0</td>\n",
       "      <td>...</td>\n",
       "      <td>0</td>\n",
       "      <td>0</td>\n",
       "      <td>0</td>\n",
       "      <td>0</td>\n",
       "      <td>1</td>\n",
       "      <td>0</td>\n",
       "      <td>1</td>\n",
       "      <td>0</td>\n",
       "      <td>1</td>\n",
       "      <td>0</td>\n",
       "    </tr>\n",
       "    <tr>\n",
       "      <th>3</th>\n",
       "      <td>18</td>\n",
       "      <td>66.4</td>\n",
       "      <td>65.7</td>\n",
       "      <td>-0.20</td>\n",
       "      <td>67.7</td>\n",
       "      <td>0</td>\n",
       "      <td>0</td>\n",
       "      <td>0</td>\n",
       "      <td>0</td>\n",
       "      <td>0</td>\n",
       "      <td>...</td>\n",
       "      <td>0</td>\n",
       "      <td>0</td>\n",
       "      <td>0</td>\n",
       "      <td>0</td>\n",
       "      <td>1</td>\n",
       "      <td>0</td>\n",
       "      <td>1</td>\n",
       "      <td>0</td>\n",
       "      <td>1</td>\n",
       "      <td>0</td>\n",
       "    </tr>\n",
       "    <tr>\n",
       "      <th>4</th>\n",
       "      <td>19</td>\n",
       "      <td>68.8</td>\n",
       "      <td>67.3</td>\n",
       "      <td>0.00</td>\n",
       "      <td>60.6</td>\n",
       "      <td>0</td>\n",
       "      <td>0</td>\n",
       "      <td>0</td>\n",
       "      <td>0</td>\n",
       "      <td>0</td>\n",
       "      <td>...</td>\n",
       "      <td>0</td>\n",
       "      <td>0</td>\n",
       "      <td>0</td>\n",
       "      <td>0</td>\n",
       "      <td>1</td>\n",
       "      <td>0</td>\n",
       "      <td>1</td>\n",
       "      <td>0</td>\n",
       "      <td>1</td>\n",
       "      <td>0</td>\n",
       "    </tr>\n",
       "  </tbody>\n",
       "</table>\n",
       "<p>5 rows × 62 columns</p>\n",
       "</div>"
      ],
      "text/plain": [
       "   No  Women Entrepreneurship Index  Entrepreneurship Index  Inflation rate  \\\n",
       "0   4                          54.9                    64.9            0.90   \n",
       "1   6                          63.6                    65.5            0.60   \n",
       "2  17                          55.4                    60.2           -0.88   \n",
       "3  18                          66.4                    65.7           -0.20   \n",
       "4  19                          68.8                    67.3            0.00   \n",
       "\n",
       "   Female Labor Force Participation Rate  Country_Algeria  Country_Argentina  \\\n",
       "0                                   67.1                0                  0   \n",
       "1                                   58.0                0                  0   \n",
       "2                                   68.5                0                  0   \n",
       "3                                   67.7                0                  0   \n",
       "4                                   60.6                0                  0   \n",
       "\n",
       "   Country_Australia  Country_Austria  Country_Belgium  ...  Country_Thailand  \\\n",
       "0                  0                1                0  ...                 0   \n",
       "1                  0                0                1  ...                 0   \n",
       "2                  0                0                0  ...                 0   \n",
       "3                  0                0                0  ...                 0   \n",
       "4                  0                0                0  ...                 0   \n",
       "\n",
       "   Country_Tunisia  Country_Turkey  Country_Uruguay  \\\n",
       "0                0               0                0   \n",
       "1                0               0                0   \n",
       "2                0               0                0   \n",
       "3                0               0                0   \n",
       "4                0               0                0   \n",
       "\n",
       "   Level of development_Developed  Level of development_Developing  \\\n",
       "0                               1                                0   \n",
       "1                               1                                0   \n",
       "2                               1                                0   \n",
       "3                               1                                0   \n",
       "4                               1                                0   \n",
       "\n",
       "   European Union Membership_Member  European Union Membership_Not Member  \\\n",
       "0                                 1                                     0   \n",
       "1                                 1                                     0   \n",
       "2                                 1                                     0   \n",
       "3                                 1                                     0   \n",
       "4                                 1                                     0   \n",
       "\n",
       "   Currency_Euro  Currency_National Currency  \n",
       "0              1                           0  \n",
       "1              1                           0  \n",
       "2              1                           0  \n",
       "3              1                           0  \n",
       "4              1                           0  \n",
       "\n",
       "[5 rows x 62 columns]"
      ]
     },
     "execution_count": 9,
     "metadata": {},
     "output_type": "execute_result"
    }
   ],
   "source": [
    "data_encode.head()"
   ]
  },
  {
   "cell_type": "code",
   "execution_count": 10,
   "metadata": {
    "execution": {
     "iopub.execute_input": "2021-01-07T14:44:36.193261Z",
     "iopub.status.busy": "2021-01-07T14:44:36.192492Z",
     "iopub.status.idle": "2021-01-07T14:44:37.093097Z",
     "shell.execute_reply": "2021-01-07T14:44:37.092107Z"
    },
    "papermill": {
     "duration": 0.942811,
     "end_time": "2021-01-07T14:44:37.093245",
     "exception": false,
     "start_time": "2021-01-07T14:44:36.150434",
     "status": "completed"
    },
    "tags": []
   },
   "outputs": [
    {
     "name": "stdout",
     "output_type": "stream",
     "text": [
      "stat=0.270, p=0.000\n",
      "Probably not Gaussian\n"
     ]
    }
   ],
   "source": [
    "\n",
    "from scipy.stats import shapiro\n",
    "\n",
    "stat, p = shapiro(data_encode)\n",
    "print('stat=%.3f, p=%.3f' % (stat, p))\n",
    "if p > 0.05:\n",
    "    print('Probably Gaussian')\n",
    "else:\n",
    "    print('Probably not Gaussian')"
   ]
  },
  {
   "cell_type": "code",
   "execution_count": 11,
   "metadata": {
    "execution": {
     "iopub.execute_input": "2021-01-07T14:44:37.170232Z",
     "iopub.status.busy": "2021-01-07T14:44:37.169389Z",
     "iopub.status.idle": "2021-01-07T14:44:37.195301Z",
     "shell.execute_reply": "2021-01-07T14:44:37.194748Z"
    },
    "papermill": {
     "duration": 0.068844,
     "end_time": "2021-01-07T14:44:37.195425",
     "exception": false,
     "start_time": "2021-01-07T14:44:37.126581",
     "status": "completed"
    },
    "tags": []
   },
   "outputs": [
    {
     "data": {
      "text/html": [
       "<div>\n",
       "<style scoped>\n",
       "    .dataframe tbody tr th:only-of-type {\n",
       "        vertical-align: middle;\n",
       "    }\n",
       "\n",
       "    .dataframe tbody tr th {\n",
       "        vertical-align: top;\n",
       "    }\n",
       "\n",
       "    .dataframe thead th {\n",
       "        text-align: right;\n",
       "    }\n",
       "</style>\n",
       "<table border=\"1\" class=\"dataframe\">\n",
       "  <thead>\n",
       "    <tr style=\"text-align: right;\">\n",
       "      <th></th>\n",
       "      <th>No</th>\n",
       "      <th>Women Entrepreneurship Index</th>\n",
       "      <th>Entrepreneurship Index</th>\n",
       "      <th>Inflation rate</th>\n",
       "      <th>Female Labor Force Participation Rate</th>\n",
       "    </tr>\n",
       "  </thead>\n",
       "  <tbody>\n",
       "    <tr>\n",
       "      <th>count</th>\n",
       "      <td>51.000000</td>\n",
       "      <td>51.000000</td>\n",
       "      <td>51.000000</td>\n",
       "      <td>51.000000</td>\n",
       "      <td>51.000000</td>\n",
       "    </tr>\n",
       "    <tr>\n",
       "      <th>mean</th>\n",
       "      <td>29.980392</td>\n",
       "      <td>47.835294</td>\n",
       "      <td>47.241176</td>\n",
       "      <td>2.587647</td>\n",
       "      <td>58.481765</td>\n",
       "    </tr>\n",
       "    <tr>\n",
       "      <th>std</th>\n",
       "      <td>18.017203</td>\n",
       "      <td>14.268480</td>\n",
       "      <td>16.193149</td>\n",
       "      <td>5.380639</td>\n",
       "      <td>13.864567</td>\n",
       "    </tr>\n",
       "    <tr>\n",
       "      <th>min</th>\n",
       "      <td>1.000000</td>\n",
       "      <td>25.300000</td>\n",
       "      <td>24.800000</td>\n",
       "      <td>-2.250000</td>\n",
       "      <td>13.000000</td>\n",
       "    </tr>\n",
       "    <tr>\n",
       "      <th>25%</th>\n",
       "      <td>14.500000</td>\n",
       "      <td>36.350000</td>\n",
       "      <td>31.900000</td>\n",
       "      <td>-0.500000</td>\n",
       "      <td>55.800000</td>\n",
       "    </tr>\n",
       "    <tr>\n",
       "      <th>50%</th>\n",
       "      <td>30.000000</td>\n",
       "      <td>44.500000</td>\n",
       "      <td>42.700000</td>\n",
       "      <td>0.600000</td>\n",
       "      <td>61.000000</td>\n",
       "    </tr>\n",
       "    <tr>\n",
       "      <th>75%</th>\n",
       "      <td>45.500000</td>\n",
       "      <td>59.150000</td>\n",
       "      <td>65.400000</td>\n",
       "      <td>3.600000</td>\n",
       "      <td>67.400000</td>\n",
       "    </tr>\n",
       "    <tr>\n",
       "      <th>max</th>\n",
       "      <td>60.000000</td>\n",
       "      <td>74.800000</td>\n",
       "      <td>77.600000</td>\n",
       "      <td>26.500000</td>\n",
       "      <td>82.300000</td>\n",
       "    </tr>\n",
       "  </tbody>\n",
       "</table>\n",
       "</div>"
      ],
      "text/plain": [
       "              No  Women Entrepreneurship Index  Entrepreneurship Index  \\\n",
       "count  51.000000                     51.000000               51.000000   \n",
       "mean   29.980392                     47.835294               47.241176   \n",
       "std    18.017203                     14.268480               16.193149   \n",
       "min     1.000000                     25.300000               24.800000   \n",
       "25%    14.500000                     36.350000               31.900000   \n",
       "50%    30.000000                     44.500000               42.700000   \n",
       "75%    45.500000                     59.150000               65.400000   \n",
       "max    60.000000                     74.800000               77.600000   \n",
       "\n",
       "       Inflation rate  Female Labor Force Participation Rate  \n",
       "count       51.000000                              51.000000  \n",
       "mean         2.587647                              58.481765  \n",
       "std          5.380639                              13.864567  \n",
       "min         -2.250000                              13.000000  \n",
       "25%         -0.500000                              55.800000  \n",
       "50%          0.600000                              61.000000  \n",
       "75%          3.600000                              67.400000  \n",
       "max         26.500000                              82.300000  "
      ]
     },
     "execution_count": 11,
     "metadata": {},
     "output_type": "execute_result"
    }
   ],
   "source": [
    "data.describe()"
   ]
  },
  {
   "cell_type": "code",
   "execution_count": 12,
   "metadata": {
    "execution": {
     "iopub.execute_input": "2021-01-07T14:44:37.271169Z",
     "iopub.status.busy": "2021-01-07T14:44:37.270217Z",
     "iopub.status.idle": "2021-01-07T14:44:38.679142Z",
     "shell.execute_reply": "2021-01-07T14:44:38.678416Z"
    },
    "papermill": {
     "duration": 1.450728,
     "end_time": "2021-01-07T14:44:38.679289",
     "exception": false,
     "start_time": "2021-01-07T14:44:37.228561",
     "status": "completed"
    },
    "tags": []
   },
   "outputs": [],
   "source": [
    "import seaborn as sns\n",
    "import matplotlib.pyplot as plt\n",
    "import plotly.express as px"
   ]
  },
  {
   "cell_type": "code",
   "execution_count": 13,
   "metadata": {
    "execution": {
     "iopub.execute_input": "2021-01-07T14:44:38.756563Z",
     "iopub.status.busy": "2021-01-07T14:44:38.755713Z",
     "iopub.status.idle": "2021-01-07T14:44:39.172387Z",
     "shell.execute_reply": "2021-01-07T14:44:39.171684Z"
    },
    "papermill": {
     "duration": 0.457529,
     "end_time": "2021-01-07T14:44:39.172506",
     "exception": false,
     "start_time": "2021-01-07T14:44:38.714977",
     "status": "completed"
    },
    "tags": []
   },
   "outputs": [
    {
     "data": {
      "image/png": "[encoded data removed]",
      "text/plain": [
       "<Figure size 864x576 with 2 Axes>"
      ]
     },
     "metadata": {
      "needs_background": "light"
     },
     "output_type": "display_data"
    }
   ],
   "source": [
    "fig,ax=plt.subplots(figsize=(12,8))\n",
    "sns.heatmap(data.corr(),annot=True)\n",
    "plt.show()"
   ]
  },
  {
   "cell_type": "markdown",
   "metadata": {
    "papermill": {
     "duration": 0.037188,
     "end_time": "2021-01-07T14:44:39.244427",
     "exception": false,
     "start_time": "2021-01-07T14:44:39.207239",
     "status": "completed"
    },
    "tags": []
   },
   "source": [
    "It's observed that enterpreneurship index and women enterpreneurship index are strongly correlated as well as positively correlated.Also Female Labor Force Participation Rate and Women enterpreneurship is positively correlated.As expected inflation rate is negatively correlated with both enterpreneurship index as well as women enterpreneurship index."
   ]
  },
  {
   "cell_type": "code",
   "execution_count": 14,
   "metadata": {
    "execution": {
     "iopub.execute_input": "2021-01-07T14:44:39.325866Z",
     "iopub.status.busy": "2021-01-07T14:44:39.324958Z",
     "iopub.status.idle": "2021-01-07T14:44:39.329794Z",
     "shell.execute_reply": "2021-01-07T14:44:39.329240Z"
    },
    "papermill": {
     "duration": 0.048792,
     "end_time": "2021-01-07T14:44:39.329930",
     "exception": false,
     "start_time": "2021-01-07T14:44:39.281138",
     "status": "completed"
    },
    "tags": []
   },
   "outputs": [
    {
     "data": {
      "text/plain": [
       "51"
      ]
     },
     "execution_count": 14,
     "metadata": {},
     "output_type": "execute_result"
    }
   ],
   "source": [
    "data['Country'].nunique()"
   ]
  },
  {
   "cell_type": "code",
   "execution_count": 15,
   "metadata": {
    "execution": {
     "iopub.execute_input": "2021-01-07T14:44:39.412248Z",
     "iopub.status.busy": "2021-01-07T14:44:39.411109Z",
     "iopub.status.idle": "2021-01-07T14:44:39.417365Z",
     "shell.execute_reply": "2021-01-07T14:44:39.416540Z"
    },
    "papermill": {
     "duration": 0.051763,
     "end_time": "2021-01-07T14:44:39.417500",
     "exception": false,
     "start_time": "2021-01-07T14:44:39.365737",
     "status": "completed"
    },
    "tags": []
   },
   "outputs": [
    {
     "data": {
      "text/plain": [
       "Developed     27\n",
       "Developing    24\n",
       "Name: Level of development, dtype: int64"
      ]
     },
     "execution_count": 15,
     "metadata": {},
     "output_type": "execute_result"
    }
   ],
   "source": [
    "data['Level of development'].value_counts()"
   ]
  },
  {
   "cell_type": "code",
   "execution_count": 16,
   "metadata": {
    "execution": {
     "iopub.execute_input": "2021-01-07T14:44:39.500181Z",
     "iopub.status.busy": "2021-01-07T14:44:39.499330Z",
     "iopub.status.idle": "2021-01-07T14:44:40.939471Z",
     "shell.execute_reply": "2021-01-07T14:44:40.938917Z"
    },
    "papermill": {
     "duration": 1.4824,
     "end_time": "2021-01-07T14:44:40.939617",
     "exception": false,
     "start_time": "2021-01-07T14:44:39.457217",
     "status": "completed"
    },
    "tags": []
   },
   "outputs": [
    {
     "data": {
      "text/html": [
       "        <script type=\"text/javascript\">\n",
       "        window.PlotlyConfig = {MathJaxConfig: 'local'};\n",
       "        if (window.MathJax) {MathJax.Hub.Config({SVG: {font: \"STIX-Web\"}});}\n",
       "        if (typeof require !== 'undefined') {\n",
       "        require.undef(\"plotly\");\n",
       "        requirejs.config({\n",
       "            paths: {\n",
       "                'plotly': ['https://cdn.plot.ly/plotly-latest.min']\n",
       "            }\n",
       "        });\n",
       "        require(['plotly'], function(Plotly) {\n",
       "            window._Plotly = Plotly;\n",
       "        });\n",
       "        }\n",
       "        </script>\n",
       "        "
      ]
     },
     "metadata": {},
     "output_type": "display_data"
    },
    {
     "data": {
      "text/html": [
       "<div>                            <div id=\"999e7969-4214-4e68-a54e-f8bfda59816d\" class=\"plotly-graph-div\" style=\"height:525px; width:100%;\"></div>            <script type=\"text/javascript\">                require([\"plotly\"], function(Plotly) {                    window.PLOTLYENV=window.PLOTLYENV || {};                                    if (document.getElementById(\"999e7969-4214-4e68-a54e-f8bfda59816d\")) {                    Plotly.newPlot(                        \"999e7969-4214-4e68-a54e-f8bfda59816d\",                        [{\"alignmentgroup\": \"True\", \"hovertemplate\": \"Level of development=%{x}<br>Women Entrepreneurship Index=%{y}<extra></extra>\", \"legendgroup\": \"\", \"marker\": {\"color\": \"magenta\"}, \"name\": \"\", \"offsetgroup\": \"\", \"orientation\": \"v\", \"showlegend\": false, \"textposition\": \"auto\", \"type\": \"bar\", \"x\": [\"Developed\", \"Developed\", \"Developed\", \"Developed\", \"Developed\", \"Developed\", \"Developed\", \"Developed\", \"Developed\", \"Developed\", \"Developed\", \"Developed\", \"Developed\", \"Developed\", \"Developed\", \"Developed\", \"Developed\", \"Developed\", \"Developed\", \"Developed\", \"Developed\", \"Developed\", \"Developed\", \"Developed\", \"Developed\", \"Developed\", \"Developed\", \"Developing\", \"Developing\", \"Developing\", \"Developing\", \"Developing\", \"Developing\", \"Developing\", \"Developing\", \"Developing\", \"Developing\", \"Developing\", \"Developing\", \"Developing\", \"Developing\", \"Developing\", \"Developing\", \"Developing\", \"Developing\", \"Developing\", \"Developing\", \"Developing\", \"Developing\", \"Developing\", \"Developing\"], \"xaxis\": \"x\", \"y\": [54.9, 63.6, 55.4, 66.4, 68.8, 63.6, 43.0, 64.3, 51.4, 56.6, 58.5, 69.3, 54.8, 55.9, 52.5, 49.9, 69.7, 53.7, 57.7, 66.7, 74.8, 68.0, 40.0, 66.3, 59.8, 63.7, 53.4, 27.4, 35.7, 29.7, 31.6, 31.1, 38.3, 36.1, 32.3, 27.7, 29.9, 25.8, 25.3, 38.6, 41.2, 39.2, 42.8, 36.9, 43.6, 35.6, 37.0, 36.6, 30.7, 39.3, 44.5], \"yaxis\": \"y\"}],                        {\"barmode\": \"relative\", \"legend\": {\"tracegroupgap\": 0}, \"margin\": {\"t\": 60}, \"template\": {\"data\": {\"bar\": [{\"error_x\": {\"color\": \"#2a3f5f\"}, \"error_y\": {\"color\": \"#2a3f5f\"}, \"marker\": {\"line\": {\"color\": \"#E5ECF6\", \"width\": 0.5}}, \"type\": \"bar\"}], \"barpolar\": [{\"marker\": {\"line\": {\"color\": \"#E5ECF6\", \"width\": 0.5}}, \"type\": \"barpolar\"}], \"carpet\": [{\"aaxis\": {\"endlinecolor\": \"#2a3f5f\", \"gridcolor\": \"white\", \"linecolor\": \"white\", \"minorgridcolor\": \"white\", \"startlinecolor\": \"#2a3f5f\"}, \"baxis\": {\"endlinecolor\": \"#2a3f5f\", \"gridcolor\": \"white\", \"linecolor\": \"white\", \"minorgridcolor\": \"white\", \"startlinecolor\": \"#2a3f5f\"}, \"type\": \"carpet\"}], \"choropleth\": [{\"colorbar\": {\"outlinewidth\": 0, \"ticks\": \"\"}, \"type\": \"choropleth\"}], \"contour\": [{\"colorbar\": {\"outlinewidth\": 0, \"ticks\": \"\"}, \"colorscale\": [[0.0, \"#0d0887\"], [0.1111111111111111, \"#46039f\"], [0.2222222222222222, \"#7201a8\"], [0.3333333333333333, \"#9c179e\"], [0.4444444444444444, \"#bd3786\"], [0.5555555555555556, \"#d8576b\"], [0.6666666666666666, \"#ed7953\"], [0.7777777777777778, \"#fb9f3a\"], [0.8888888888888888, \"#fdca26\"], [1.0, \"#f0f921\"]], \"type\": \"contour\"}], \"contourcarpet\": [{\"colorbar\": {\"outlinewidth\": 0, \"ticks\": \"\"}, \"type\": \"contourcarpet\"}], \"heatmap\": [{\"colorbar\": {\"outlinewidth\": 0, \"ticks\": \"\"}, \"colorscale\": [[0.0, \"#0d0887\"], [0.1111111111111111, \"#46039f\"], [0.2222222222222222, \"#7201a8\"], [0.3333333333333333, \"#9c179e\"], [0.4444444444444444, \"#bd3786\"], [0.5555555555555556, \"#d8576b\"], [0.6666666666666666, \"#ed7953\"], [0.7777777777777778, \"#fb9f3a\"], [0.8888888888888888, \"#fdca26\"], [1.0, \"#f0f921\"]], \"type\": \"heatmap\"}], \"heatmapgl\": [{\"colorbar\": {\"outlinewidth\": 0, \"ticks\": \"\"}, \"colorscale\": [[0.0, \"#0d0887\"], [0.1111111111111111, \"#46039f\"], [0.2222222222222222, \"#7201a8\"], [0.3333333333333333, \"#9c179e\"], [0.4444444444444444, \"#bd3786\"], [0.5555555555555556, \"#d8576b\"], [0.6666666666666666, \"#ed7953\"], [0.7777777777777778, \"#fb9f3a\"], [0.8888888888888888, \"#fdca26\"], [1.0, \"#f0f921\"]], \"type\": \"heatmapgl\"}], \"histogram\": [{\"marker\": {\"colorbar\": {\"outlinewidth\": 0, \"ticks\": \"\"}}, \"type\": \"histogram\"}], \"histogram2d\": [{\"colorbar\": {\"outlinewidth\": 0, \"ticks\": \"\"}, \"colorscale\": [[0.0, \"#0d0887\"], [0.1111111111111111, \"#46039f\"], [0.2222222222222222, \"#7201a8\"], [0.3333333333333333, \"#9c179e\"], [0.4444444444444444, \"#bd3786\"], [0.5555555555555556, \"#d8576b\"], [0.6666666666666666, \"#ed7953\"], [0.7777777777777778, \"#fb9f3a\"], [0.8888888888888888, \"#fdca26\"], [1.0, \"#f0f921\"]], \"type\": \"histogram2d\"}], \"histogram2dcontour\": [{\"colorbar\": {\"outlinewidth\": 0, \"ticks\": \"\"}, \"colorscale\": [[0.0, \"#0d0887\"], [0.1111111111111111, \"#46039f\"], [0.2222222222222222, \"#7201a8\"], [0.3333333333333333, \"#9c179e\"], [0.4444444444444444, \"#bd3786\"], [0.5555555555555556, \"#d8576b\"], [0.6666666666666666, \"#ed7953\"], [0.7777777777777778, \"#fb9f3a\"], [0.8888888888888888, \"#fdca26\"], [1.0, \"#f0f921\"]], \"type\": \"histogram2dcontour\"}], \"mesh3d\": [{\"colorbar\": {\"outlinewidth\": 0, \"ticks\": \"\"}, \"type\": \"mesh3d\"}], \"parcoords\": [{\"line\": {\"colorbar\": {\"outlinewidth\": 0, \"ticks\": \"\"}}, \"type\": \"parcoords\"}], \"pie\": [{\"automargin\": true, \"type\": \"pie\"}], \"scatter\": [{\"marker\": {\"colorbar\": {\"outlinewidth\": 0, \"ticks\": \"\"}}, \"type\": \"scatter\"}], \"scatter3d\": [{\"line\": {\"colorbar\": {\"outlinewidth\": 0, \"ticks\": \"\"}}, \"marker\": {\"colorbar\": {\"outlinewidth\": 0, \"ticks\": \"\"}}, \"type\": \"scatter3d\"}], \"scattercarpet\": [{\"marker\": {\"colorbar\": {\"outlinewidth\": 0, \"ticks\": \"\"}}, \"type\": \"scattercarpet\"}], \"scattergeo\": [{\"marker\": {\"colorbar\": {\"outlinewidth\": 0, \"ticks\": \"\"}}, \"type\": \"scattergeo\"}], \"scattergl\": [{\"marker\": {\"colorbar\": {\"outlinewidth\": 0, \"ticks\": \"\"}}, \"type\": \"scattergl\"}], \"scattermapbox\": [{\"marker\": {\"colorbar\": {\"outlinewidth\": 0, \"ticks\": \"\"}}, \"type\": \"scattermapbox\"}], \"scatterpolar\": [{\"marker\": {\"colorbar\": {\"outlinewidth\": 0, \"ticks\": \"\"}}, \"type\": \"scatterpolar\"}], \"scatterpolargl\": [{\"marker\": {\"colorbar\": {\"outlinewidth\": 0, \"ticks\": \"\"}}, \"type\": \"scatterpolargl\"}], \"scatterternary\": [{\"marker\": {\"colorbar\": {\"outlinewidth\": 0, \"ticks\": \"\"}}, \"type\": \"scatterternary\"}], \"surface\": [{\"colorbar\": {\"outlinewidth\": 0, \"ticks\": \"\"}, \"colorscale\": [[0.0, \"#0d0887\"], [0.1111111111111111, \"#46039f\"], [0.2222222222222222, \"#7201a8\"], [0.3333333333333333, \"#9c179e\"], [0.4444444444444444, \"#bd3786\"], [0.5555555555555556, \"#d8576b\"], [0.6666666666666666, \"#ed7953\"], [0.7777777777777778, \"#fb9f3a\"], [0.8888888888888888, \"#fdca26\"], [1.0, \"#f0f921\"]], \"type\": \"surface\"}], \"table\": [{\"cells\": {\"fill\": {\"color\": \"#EBF0F8\"}, \"line\": {\"color\": \"white\"}}, \"header\": {\"fill\": {\"color\": \"#C8D4E3\"}, \"line\": {\"color\": \"white\"}}, \"type\": \"table\"}]}, \"layout\": {\"annotationdefaults\": {\"arrowcolor\": \"#2a3f5f\", \"arrowhead\": 0, \"arrowwidth\": 1}, \"coloraxis\": {\"colorbar\": {\"outlinewidth\": 0, \"ticks\": \"\"}}, \"colorscale\": {\"diverging\": [[0, \"#8e0152\"], [0.1, \"#c51b7d\"], [0.2, \"#de77ae\"], [0.3, \"#f1b6da\"], [0.4, \"#fde0ef\"], [0.5, \"#f7f7f7\"], [0.6, \"#e6f5d0\"], [0.7, \"#b8e186\"], [0.8, \"#7fbc41\"], [0.9, \"#4d9221\"], [1, \"#276419\"]], \"sequential\": [[0.0, \"#0d0887\"], [0.1111111111111111, \"#46039f\"], [0.2222222222222222, \"#7201a8\"], [0.3333333333333333, \"#9c179e\"], [0.4444444444444444, \"#bd3786\"], [0.5555555555555556, \"#d8576b\"], [0.6666666666666666, \"#ed7953\"], [0.7777777777777778, \"#fb9f3a\"], [0.8888888888888888, \"#fdca26\"], [1.0, \"#f0f921\"]], \"sequentialminus\": [[0.0, \"#0d0887\"], [0.1111111111111111, \"#46039f\"], [0.2222222222222222, \"#7201a8\"], [0.3333333333333333, \"#9c179e\"], [0.4444444444444444, \"#bd3786\"], [0.5555555555555556, \"#d8576b\"], [0.6666666666666666, \"#ed7953\"], [0.7777777777777778, \"#fb9f3a\"], [0.8888888888888888, \"#fdca26\"], [1.0, \"#f0f921\"]]}, \"colorway\": [\"#636efa\", \"#EF553B\", \"#00cc96\", \"#ab63fa\", \"#FFA15A\", \"#19d3f3\", \"#FF6692\", \"#B6E880\", \"#FF97FF\", \"#FECB52\"], \"font\": {\"color\": \"#2a3f5f\"}, \"geo\": {\"bgcolor\": \"white\", \"lakecolor\": \"white\", \"landcolor\": \"#E5ECF6\", \"showlakes\": true, \"showland\": true, \"subunitcolor\": \"white\"}, \"hoverlabel\": {\"align\": \"left\"}, \"hovermode\": \"closest\", \"mapbox\": {\"style\": \"light\"}, \"paper_bgcolor\": \"white\", \"plot_bgcolor\": \"#E5ECF6\", \"polar\": {\"angularaxis\": {\"gridcolor\": \"white\", \"linecolor\": \"white\", \"ticks\": \"\"}, \"bgcolor\": \"#E5ECF6\", \"radialaxis\": {\"gridcolor\": \"white\", \"linecolor\": \"white\", \"ticks\": \"\"}}, \"scene\": {\"xaxis\": {\"backgroundcolor\": \"#E5ECF6\", \"gridcolor\": \"white\", \"gridwidth\": 2, \"linecolor\": \"white\", \"showbackground\": true, \"ticks\": \"\", \"zerolinecolor\": \"white\"}, \"yaxis\": {\"backgroundcolor\": \"#E5ECF6\", \"gridcolor\": \"white\", \"gridwidth\": 2, \"linecolor\": \"white\", \"showbackground\": true, \"ticks\": \"\", \"zerolinecolor\": \"white\"}, \"zaxis\": {\"backgroundcolor\": \"#E5ECF6\", \"gridcolor\": \"white\", \"gridwidth\": 2, \"linecolor\": \"white\", \"showbackground\": true, \"ticks\": \"\", \"zerolinecolor\": \"white\"}}, \"shapedefaults\": {\"line\": {\"color\": \"#2a3f5f\"}}, \"ternary\": {\"aaxis\": {\"gridcolor\": \"white\", \"linecolor\": \"white\", \"ticks\": \"\"}, \"baxis\": {\"gridcolor\": \"white\", \"linecolor\": \"white\", \"ticks\": \"\"}, \"bgcolor\": \"#E5ECF6\", \"caxis\": {\"gridcolor\": \"white\", \"linecolor\": \"white\", \"ticks\": \"\"}}, \"title\": {\"x\": 0.05}, \"xaxis\": {\"automargin\": true, \"gridcolor\": \"white\", \"linecolor\": \"white\", \"ticks\": \"\", \"title\": {\"standoff\": 15}, \"zerolinecolor\": \"white\", \"zerolinewidth\": 2}, \"yaxis\": {\"automargin\": true, \"gridcolor\": \"white\", \"linecolor\": \"white\", \"ticks\": \"\", \"title\": {\"standoff\": 15}, \"zerolinecolor\": \"white\", \"zerolinewidth\": 2}}}, \"xaxis\": {\"anchor\": \"y\", \"domain\": [0.0, 1.0], \"title\": {\"text\": \"Level of development\"}}, \"yaxis\": {\"anchor\": \"x\", \"domain\": [0.0, 1.0], \"title\": {\"text\": \"Women Entrepreneurship Index\"}}},                        {\"responsive\": true}                    ).then(function(){\n",
       "                            \n",
       "var gd = document.getElementById('999e7969-4214-4e68-a54e-f8bfda59816d');\n",
       "var x = new MutationObserver(function (mutations, observer) {{\n",
       "        var display = window.getComputedStyle(gd).display;\n",
       "        if (!display || display === 'none') {{\n",
       "            console.log([gd, 'removed!']);\n",
       "            Plotly.purge(gd);\n",
       "            observer.disconnect();\n",
       "        }}\n",
       "}});\n",
       "\n",
       "// Listen for the removal of the full notebook cells\n",
       "var notebookContainer = gd.closest('#notebook-container');\n",
       "if (notebookContainer) {{\n",
       "    x.observe(notebookContainer, {childList: true});\n",
       "}}\n",
       "\n",
       "// Listen for the clearing of the current output cell\n",
       "var outputEl = gd.closest('.output');\n",
       "if (outputEl) {{\n",
       "    x.observe(outputEl, {childList: true});\n",
       "}}\n",
       "\n",
       "                        })                };                });            </script>        </div>"
      ]
     },
     "metadata": {},
     "output_type": "display_data"
    }
   ],
   "source": [
    "fig = px.bar(data,\n",
    "        x = \"Level of development\",\n",
    "        y = \"Women Entrepreneurship Index\",\n",
    "        color_discrete_sequence=[\"magenta\"]\n",
    "        \n",
    "    )\n",
    "    \n",
    "fig.show()"
   ]
  },
  {
   "cell_type": "code",
   "execution_count": 17,
   "metadata": {
    "execution": {
     "iopub.execute_input": "2021-01-07T14:44:41.053229Z",
     "iopub.status.busy": "2021-01-07T14:44:41.047793Z",
     "iopub.status.idle": "2021-01-07T14:44:41.089720Z",
     "shell.execute_reply": "2021-01-07T14:44:41.090290Z"
    },
    "papermill": {
     "duration": 0.112014,
     "end_time": "2021-01-07T14:44:41.090442",
     "exception": false,
     "start_time": "2021-01-07T14:44:40.978428",
     "status": "completed"
    },
    "tags": []
   },
   "outputs": [
    {
     "data": {
      "text/html": [
       "<div>                            <div id=\"81f329c3-e68b-4429-929c-b0190f0c395d\" class=\"plotly-graph-div\" style=\"height:525px; width:100%;\"></div>            <script type=\"text/javascript\">                require([\"plotly\"], function(Plotly) {                    window.PLOTLYENV=window.PLOTLYENV || {};                                    if (document.getElementById(\"81f329c3-e68b-4429-929c-b0190f0c395d\")) {                    Plotly.newPlot(                        \"81f329c3-e68b-4429-929c-b0190f0c395d\",                        [{\"alignmentgroup\": \"True\", \"hovertemplate\": \"European Union Membership=%{x}<br>Women Entrepreneurship Index=%{y}<extra></extra>\", \"legendgroup\": \"\", \"marker\": {\"color\": \"red\"}, \"name\": \"\", \"offsetgroup\": \"\", \"orientation\": \"v\", \"showlegend\": false, \"textposition\": \"auto\", \"type\": \"bar\", \"x\": [\"Member\", \"Member\", \"Member\", \"Member\", \"Member\", \"Member\", \"Member\", \"Member\", \"Member\", \"Member\", \"Member\", \"Member\", \"Member\", \"Member\", \"Member\", \"Member\", \"Member\", \"Member\", \"Member\", \"Member\", \"Not Member\", \"Not Member\", \"Not Member\", \"Not Member\", \"Not Member\", \"Not Member\", \"Not Member\", \"Not Member\", \"Not Member\", \"Not Member\", \"Not Member\", \"Not Member\", \"Not Member\", \"Not Member\", \"Not Member\", \"Not Member\", \"Not Member\", \"Not Member\", \"Not Member\", \"Not Member\", \"Not Member\", \"Not Member\", \"Not Member\", \"Not Member\", \"Not Member\", \"Not Member\", \"Not Member\", \"Not Member\", \"Not Member\", \"Not Member\", \"Not Member\"], \"xaxis\": \"x\", \"y\": [54.9, 63.6, 55.4, 66.4, 68.8, 63.6, 43.0, 64.3, 51.4, 56.6, 58.5, 69.3, 54.8, 55.9, 52.5, 49.9, 69.7, 53.7, 57.7, 66.7, 74.8, 68.0, 40.0, 66.3, 59.8, 63.7, 53.4, 27.4, 35.7, 29.7, 31.6, 31.1, 38.3, 36.1, 32.3, 27.7, 29.9, 25.8, 25.3, 38.6, 41.2, 39.2, 42.8, 36.9, 43.6, 35.6, 37.0, 36.6, 30.7, 39.3, 44.5], \"yaxis\": \"y\"}],                        {\"barmode\": \"relative\", \"legend\": {\"tracegroupgap\": 0}, \"margin\": {\"t\": 60}, \"template\": {\"data\": {\"bar\": [{\"error_x\": {\"color\": \"#2a3f5f\"}, \"error_y\": {\"color\": \"#2a3f5f\"}, \"marker\": {\"line\": {\"color\": \"#E5ECF6\", \"width\": 0.5}}, \"type\": \"bar\"}], \"barpolar\": [{\"marker\": {\"line\": {\"color\": \"#E5ECF6\", \"width\": 0.5}}, \"type\": \"barpolar\"}], \"carpet\": [{\"aaxis\": {\"endlinecolor\": \"#2a3f5f\", \"gridcolor\": \"white\", \"linecolor\": \"white\", \"minorgridcolor\": \"white\", \"startlinecolor\": \"#2a3f5f\"}, \"baxis\": {\"endlinecolor\": \"#2a3f5f\", \"gridcolor\": \"white\", \"linecolor\": \"white\", \"minorgridcolor\": \"white\", \"startlinecolor\": \"#2a3f5f\"}, \"type\": \"carpet\"}], \"choropleth\": [{\"colorbar\": {\"outlinewidth\": 0, \"ticks\": \"\"}, \"type\": \"choropleth\"}], \"contour\": [{\"colorbar\": {\"outlinewidth\": 0, \"ticks\": \"\"}, \"colorscale\": [[0.0, \"#0d0887\"], [0.1111111111111111, \"#46039f\"], [0.2222222222222222, \"#7201a8\"], [0.3333333333333333, \"#9c179e\"], [0.4444444444444444, \"#bd3786\"], [0.5555555555555556, \"#d8576b\"], [0.6666666666666666, \"#ed7953\"], [0.7777777777777778, \"#fb9f3a\"], [0.8888888888888888, \"#fdca26\"], [1.0, \"#f0f921\"]], \"type\": \"contour\"}], \"contourcarpet\": [{\"colorbar\": {\"outlinewidth\": 0, \"ticks\": \"\"}, \"type\": \"contourcarpet\"}], \"heatmap\": [{\"colorbar\": {\"outlinewidth\": 0, \"ticks\": \"\"}, \"colorscale\": [[0.0, \"#0d0887\"], [0.1111111111111111, \"#46039f\"], [0.2222222222222222, \"#7201a8\"], [0.3333333333333333, \"#9c179e\"], [0.4444444444444444, \"#bd3786\"], [0.5555555555555556, \"#d8576b\"], [0.6666666666666666, \"#ed7953\"], [0.7777777777777778, \"#fb9f3a\"], [0.8888888888888888, \"#fdca26\"], [1.0, \"#f0f921\"]], \"type\": \"heatmap\"}], \"heatmapgl\": [{\"colorbar\": {\"outlinewidth\": 0, \"ticks\": \"\"}, \"colorscale\": [[0.0, \"#0d0887\"], [0.1111111111111111, \"#46039f\"], [0.2222222222222222, \"#7201a8\"], [0.3333333333333333, \"#9c179e\"], [0.4444444444444444, \"#bd3786\"], [0.5555555555555556, \"#d8576b\"], [0.6666666666666666, \"#ed7953\"], [0.7777777777777778, \"#fb9f3a\"], [0.8888888888888888, \"#fdca26\"], [1.0, \"#f0f921\"]], \"type\": \"heatmapgl\"}], \"histogram\": [{\"marker\": {\"colorbar\": {\"outlinewidth\": 0, \"ticks\": \"\"}}, \"type\": \"histogram\"}], \"histogram2d\": [{\"colorbar\": {\"outlinewidth\": 0, \"ticks\": \"\"}, \"colorscale\": [[0.0, \"#0d0887\"], [0.1111111111111111, \"#46039f\"], [0.2222222222222222, \"#7201a8\"], [0.3333333333333333, \"#9c179e\"], [0.4444444444444444, \"#bd3786\"], [0.5555555555555556, \"#d8576b\"], [0.6666666666666666, \"#ed7953\"], [0.7777777777777778, \"#fb9f3a\"], [0.8888888888888888, \"#fdca26\"], [1.0, \"#f0f921\"]], \"type\": \"histogram2d\"}], \"histogram2dcontour\": [{\"colorbar\": {\"outlinewidth\": 0, \"ticks\": \"\"}, \"colorscale\": [[0.0, \"#0d0887\"], [0.1111111111111111, \"#46039f\"], [0.2222222222222222, \"#7201a8\"], [0.3333333333333333, \"#9c179e\"], [0.4444444444444444, \"#bd3786\"], [0.5555555555555556, \"#d8576b\"], [0.6666666666666666, \"#ed7953\"], [0.7777777777777778, \"#fb9f3a\"], [0.8888888888888888, \"#fdca26\"], [1.0, \"#f0f921\"]], \"type\": \"histogram2dcontour\"}], \"mesh3d\": [{\"colorbar\": {\"outlinewidth\": 0, \"ticks\": \"\"}, \"type\": \"mesh3d\"}], \"parcoords\": [{\"line\": {\"colorbar\": {\"outlinewidth\": 0, \"ticks\": \"\"}}, \"type\": \"parcoords\"}], \"pie\": [{\"automargin\": true, \"type\": \"pie\"}], \"scatter\": [{\"marker\": {\"colorbar\": {\"outlinewidth\": 0, \"ticks\": \"\"}}, \"type\": \"scatter\"}], \"scatter3d\": [{\"line\": {\"colorbar\": {\"outlinewidth\": 0, \"ticks\": \"\"}}, \"marker\": {\"colorbar\": {\"outlinewidth\": 0, \"ticks\": \"\"}}, \"type\": \"scatter3d\"}], \"scattercarpet\": [{\"marker\": {\"colorbar\": {\"outlinewidth\": 0, \"ticks\": \"\"}}, \"type\": \"scattercarpet\"}], \"scattergeo\": [{\"marker\": {\"colorbar\": {\"outlinewidth\": 0, \"ticks\": \"\"}}, \"type\": \"scattergeo\"}], \"scattergl\": [{\"marker\": {\"colorbar\": {\"outlinewidth\": 0, \"ticks\": \"\"}}, \"type\": \"scattergl\"}], \"scattermapbox\": [{\"marker\": {\"colorbar\": {\"outlinewidth\": 0, \"ticks\": \"\"}}, \"type\": \"scattermapbox\"}], \"scatterpolar\": [{\"marker\": {\"colorbar\": {\"outlinewidth\": 0, \"ticks\": \"\"}}, \"type\": \"scatterpolar\"}], \"scatterpolargl\": [{\"marker\": {\"colorbar\": {\"outlinewidth\": 0, \"ticks\": \"\"}}, \"type\": \"scatterpolargl\"}], \"scatterternary\": [{\"marker\": {\"colorbar\": {\"outlinewidth\": 0, \"ticks\": \"\"}}, \"type\": \"scatterternary\"}], \"surface\": [{\"colorbar\": {\"outlinewidth\": 0, \"ticks\": \"\"}, \"colorscale\": [[0.0, \"#0d0887\"], [0.1111111111111111, \"#46039f\"], [0.2222222222222222, \"#7201a8\"], [0.3333333333333333, \"#9c179e\"], [0.4444444444444444, \"#bd3786\"], [0.5555555555555556, \"#d8576b\"], [0.6666666666666666, \"#ed7953\"], [0.7777777777777778, \"#fb9f3a\"], [0.8888888888888888, \"#fdca26\"], [1.0, \"#f0f921\"]], \"type\": \"surface\"}], \"table\": [{\"cells\": {\"fill\": {\"color\": \"#EBF0F8\"}, \"line\": {\"color\": \"white\"}}, \"header\": {\"fill\": {\"color\": \"#C8D4E3\"}, \"line\": {\"color\": \"white\"}}, \"type\": \"table\"}]}, \"layout\": {\"annotationdefaults\": {\"arrowcolor\": \"#2a3f5f\", \"arrowhead\": 0, \"arrowwidth\": 1}, \"coloraxis\": {\"colorbar\": {\"outlinewidth\": 0, \"ticks\": \"\"}}, \"colorscale\": {\"diverging\": [[0, \"#8e0152\"], [0.1, \"#c51b7d\"], [0.2, \"#de77ae\"], [0.3, \"#f1b6da\"], [0.4, \"#fde0ef\"], [0.5, \"#f7f7f7\"], [0.6, \"#e6f5d0\"], [0.7, \"#b8e186\"], [0.8, \"#7fbc41\"], [0.9, \"#4d9221\"], [1, \"#276419\"]], \"sequential\": [[0.0, \"#0d0887\"], [0.1111111111111111, \"#46039f\"], [0.2222222222222222, \"#7201a8\"], [0.3333333333333333, \"#9c179e\"], [0.4444444444444444, \"#bd3786\"], [0.5555555555555556, \"#d8576b\"], [0.6666666666666666, \"#ed7953\"], [0.7777777777777778, \"#fb9f3a\"], [0.8888888888888888, \"#fdca26\"], [1.0, \"#f0f921\"]], \"sequentialminus\": [[0.0, \"#0d0887\"], [0.1111111111111111, \"#46039f\"], [0.2222222222222222, \"#7201a8\"], [0.3333333333333333, \"#9c179e\"], [0.4444444444444444, \"#bd3786\"], [0.5555555555555556, \"#d8576b\"], [0.6666666666666666, \"#ed7953\"], [0.7777777777777778, \"#fb9f3a\"], [0.8888888888888888, \"#fdca26\"], [1.0, \"#f0f921\"]]}, \"colorway\": [\"#636efa\", \"#EF553B\", \"#00cc96\", \"#ab63fa\", \"#FFA15A\", \"#19d3f3\", \"#FF6692\", \"#B6E880\", \"#FF97FF\", \"#FECB52\"], \"font\": {\"color\": \"#2a3f5f\"}, \"geo\": {\"bgcolor\": \"white\", \"lakecolor\": \"white\", \"landcolor\": \"#E5ECF6\", \"showlakes\": true, \"showland\": true, \"subunitcolor\": \"white\"}, \"hoverlabel\": {\"align\": \"left\"}, \"hovermode\": \"closest\", \"mapbox\": {\"style\": \"light\"}, \"paper_bgcolor\": \"white\", \"plot_bgcolor\": \"#E5ECF6\", \"polar\": {\"angularaxis\": {\"gridcolor\": \"white\", \"linecolor\": \"white\", \"ticks\": \"\"}, \"bgcolor\": \"#E5ECF6\", \"radialaxis\": {\"gridcolor\": \"white\", \"linecolor\": \"white\", \"ticks\": \"\"}}, \"scene\": {\"xaxis\": {\"backgroundcolor\": \"#E5ECF6\", \"gridcolor\": \"white\", \"gridwidth\": 2, \"linecolor\": \"white\", \"showbackground\": true, \"ticks\": \"\", \"zerolinecolor\": \"white\"}, \"yaxis\": {\"backgroundcolor\": \"#E5ECF6\", \"gridcolor\": \"white\", \"gridwidth\": 2, \"linecolor\": \"white\", \"showbackground\": true, \"ticks\": \"\", \"zerolinecolor\": \"white\"}, \"zaxis\": {\"backgroundcolor\": \"#E5ECF6\", \"gridcolor\": \"white\", \"gridwidth\": 2, \"linecolor\": \"white\", \"showbackground\": true, \"ticks\": \"\", \"zerolinecolor\": \"white\"}}, \"shapedefaults\": {\"line\": {\"color\": \"#2a3f5f\"}}, \"ternary\": {\"aaxis\": {\"gridcolor\": \"white\", \"linecolor\": \"white\", \"ticks\": \"\"}, \"baxis\": {\"gridcolor\": \"white\", \"linecolor\": \"white\", \"ticks\": \"\"}, \"bgcolor\": \"#E5ECF6\", \"caxis\": {\"gridcolor\": \"white\", \"linecolor\": \"white\", \"ticks\": \"\"}}, \"title\": {\"x\": 0.05}, \"xaxis\": {\"automargin\": true, \"gridcolor\": \"white\", \"linecolor\": \"white\", \"ticks\": \"\", \"title\": {\"standoff\": 15}, \"zerolinecolor\": \"white\", \"zerolinewidth\": 2}, \"yaxis\": {\"automargin\": true, \"gridcolor\": \"white\", \"linecolor\": \"white\", \"ticks\": \"\", \"title\": {\"standoff\": 15}, \"zerolinecolor\": \"white\", \"zerolinewidth\": 2}}}, \"xaxis\": {\"anchor\": \"y\", \"domain\": [0.0, 1.0], \"title\": {\"text\": \"European Union Membership\"}}, \"yaxis\": {\"anchor\": \"x\", \"domain\": [0.0, 1.0], \"title\": {\"text\": \"Women Entrepreneurship Index\"}}},                        {\"responsive\": true}                    ).then(function(){\n",
       "                            \n",
       "var gd = document.getElementById('81f329c3-e68b-4429-929c-b0190f0c395d');\n",
       "var x = new MutationObserver(function (mutations, observer) {{\n",
       "        var display = window.getComputedStyle(gd).display;\n",
       "        if (!display || display === 'none') {{\n",
       "            console.log([gd, 'removed!']);\n",
       "            Plotly.purge(gd);\n",
       "            observer.disconnect();\n",
       "        }}\n",
       "}});\n",
       "\n",
       "// Listen for the removal of the full notebook cells\n",
       "var notebookContainer = gd.closest('#notebook-container');\n",
       "if (notebookContainer) {{\n",
       "    x.observe(notebookContainer, {childList: true});\n",
       "}}\n",
       "\n",
       "// Listen for the clearing of the current output cell\n",
       "var outputEl = gd.closest('.output');\n",
       "if (outputEl) {{\n",
       "    x.observe(outputEl, {childList: true});\n",
       "}}\n",
       "\n",
       "                        })                };                });            </script>        </div>"
      ]
     },
     "metadata": {},
     "output_type": "display_data"
    }
   ],
   "source": [
    "fig = px.bar(data,\n",
    "        x = \"European Union Membership\",\n",
    "        y = \"Women Entrepreneurship Index\",\n",
    "        color_discrete_sequence=[\"red\"]\n",
    "        \n",
    "    )\n",
    "    \n",
    "fig.show()"
   ]
  },
  {
   "cell_type": "code",
   "execution_count": 18,
   "metadata": {
    "execution": {
     "iopub.execute_input": "2021-01-07T14:44:41.181828Z",
     "iopub.status.busy": "2021-01-07T14:44:41.181074Z",
     "iopub.status.idle": "2021-01-07T14:44:41.222712Z",
     "shell.execute_reply": "2021-01-07T14:44:41.223377Z"
    },
    "papermill": {
     "duration": 0.091366,
     "end_time": "2021-01-07T14:44:41.223587",
     "exception": false,
     "start_time": "2021-01-07T14:44:41.132221",
     "status": "completed"
    },
    "tags": []
   },
   "outputs": [
    {
     "data": {
      "text/html": [
       "<div>                            <div id=\"62632ce1-9d53-4797-b71c-f9892b51826d\" class=\"plotly-graph-div\" style=\"height:525px; width:100%;\"></div>            <script type=\"text/javascript\">                require([\"plotly\"], function(Plotly) {                    window.PLOTLYENV=window.PLOTLYENV || {};                                    if (document.getElementById(\"62632ce1-9d53-4797-b71c-f9892b51826d\")) {                    Plotly.newPlot(                        \"62632ce1-9d53-4797-b71c-f9892b51826d\",                        [{\"hole\": 0.7, \"labels\": [\"Austria\", \"Belgium\", \"Estonia\", \"Finland\", \"France\", \"Germany\", \"Greece\", \"Ireland\", \"Italy\", \"Latvia\", \"Lithuania\", \"Netherlands\", \"Slovakia\", \"Slovenia\", \"Spain\", \"Croatia\", \"Denmark\", \"Hungary\", \"Poland\", \"Sweden\", \"Australia\", \"Iceland\", \"Japan\", \"Norway\", \"Singapore\", \"Switzerland\", \"Taiwan\", \"Algeria\", \"Argentina\", \"Bolivia\", \"Bosnia and Herzegovina\", \"Brazil\", \"China\", \"Costa Rica\", \"Ecuador\", \"Egypt\", \"El Salvador\", \"Ghana\", \"India\", \"Jamaica\", \"Macedonia\", \"Malaysia\", \"Mexico\", \"Panama\", \"Peru\", \"Russia\", \"Saudi Arabia\", \"Thailand\", \"Tunisia\", \"Turkey\", \"Uruguay\"], \"marker\": {\"colors\": [\"rgb(0,68,27)\", \"rgb(0,109,44)\", \"rgb(35,139,69)\", \"rgb(65,171,93)\", \"rgb(116,196,118)\", \"rgb(161,217,155)\", \"rgb(199,233,192)\", \"rgb(229,245,224)\", \"rgb(247,252,245)\"]}, \"title\": {\"text\": \"Count by Country\"}, \"type\": \"pie\", \"values\": [54.9, 63.6, 55.4, 66.4, 68.8, 63.6, 43.0, 64.3, 51.4, 56.6, 58.5, 69.3, 54.8, 55.9, 52.5, 49.9, 69.7, 53.7, 57.7, 66.7, 74.8, 68.0, 40.0, 66.3, 59.8, 63.7, 53.4, 27.4, 35.7, 29.7, 31.6, 31.1, 38.3, 36.1, 32.3, 27.7, 29.9, 25.8, 25.3, 38.6, 41.2, 39.2, 42.8, 36.9, 43.6, 35.6, 37.0, 36.6, 30.7, 39.3, 44.5]}],                        {\"template\": {\"data\": {\"bar\": [{\"error_x\": {\"color\": \"#2a3f5f\"}, \"error_y\": {\"color\": \"#2a3f5f\"}, \"marker\": {\"line\": {\"color\": \"#E5ECF6\", \"width\": 0.5}}, \"type\": \"bar\"}], \"barpolar\": [{\"marker\": {\"line\": {\"color\": \"#E5ECF6\", \"width\": 0.5}}, \"type\": \"barpolar\"}], \"carpet\": [{\"aaxis\": {\"endlinecolor\": \"#2a3f5f\", \"gridcolor\": \"white\", \"linecolor\": \"white\", \"minorgridcolor\": \"white\", \"startlinecolor\": \"#2a3f5f\"}, \"baxis\": {\"endlinecolor\": \"#2a3f5f\", \"gridcolor\": \"white\", \"linecolor\": \"white\", \"minorgridcolor\": \"white\", \"startlinecolor\": \"#2a3f5f\"}, \"type\": \"carpet\"}], \"choropleth\": [{\"colorbar\": {\"outlinewidth\": 0, \"ticks\": \"\"}, \"type\": \"choropleth\"}], \"contour\": [{\"colorbar\": {\"outlinewidth\": 0, \"ticks\": \"\"}, \"colorscale\": [[0.0, \"#0d0887\"], [0.1111111111111111, \"#46039f\"], [0.2222222222222222, \"#7201a8\"], [0.3333333333333333, \"#9c179e\"], [0.4444444444444444, \"#bd3786\"], [0.5555555555555556, \"#d8576b\"], [0.6666666666666666, \"#ed7953\"], [0.7777777777777778, \"#fb9f3a\"], [0.8888888888888888, \"#fdca26\"], [1.0, \"#f0f921\"]], \"type\": \"contour\"}], \"contourcarpet\": [{\"colorbar\": {\"outlinewidth\": 0, \"ticks\": \"\"}, \"type\": \"contourcarpet\"}], \"heatmap\": [{\"colorbar\": {\"outlinewidth\": 0, \"ticks\": \"\"}, \"colorscale\": [[0.0, \"#0d0887\"], [0.1111111111111111, \"#46039f\"], [0.2222222222222222, \"#7201a8\"], [0.3333333333333333, \"#9c179e\"], [0.4444444444444444, \"#bd3786\"], [0.5555555555555556, \"#d8576b\"], [0.6666666666666666, \"#ed7953\"], [0.7777777777777778, \"#fb9f3a\"], [0.8888888888888888, \"#fdca26\"], [1.0, \"#f0f921\"]], \"type\": \"heatmap\"}], \"heatmapgl\": [{\"colorbar\": {\"outlinewidth\": 0, \"ticks\": \"\"}, \"colorscale\": [[0.0, \"#0d0887\"], [0.1111111111111111, \"#46039f\"], [0.2222222222222222, \"#7201a8\"], [0.3333333333333333, \"#9c179e\"], [0.4444444444444444, \"#bd3786\"], [0.5555555555555556, \"#d8576b\"], [0.6666666666666666, \"#ed7953\"], [0.7777777777777778, \"#fb9f3a\"], [0.8888888888888888, \"#fdca26\"], [1.0, \"#f0f921\"]], \"type\": \"heatmapgl\"}], \"histogram\": [{\"marker\": {\"colorbar\": {\"outlinewidth\": 0, \"ticks\": \"\"}}, \"type\": \"histogram\"}], \"histogram2d\": [{\"colorbar\": {\"outlinewidth\": 0, \"ticks\": \"\"}, \"colorscale\": [[0.0, \"#0d0887\"], [0.1111111111111111, \"#46039f\"], [0.2222222222222222, \"#7201a8\"], [0.3333333333333333, \"#9c179e\"], [0.4444444444444444, \"#bd3786\"], [0.5555555555555556, \"#d8576b\"], [0.6666666666666666, \"#ed7953\"], [0.7777777777777778, \"#fb9f3a\"], [0.8888888888888888, \"#fdca26\"], [1.0, \"#f0f921\"]], \"type\": \"histogram2d\"}], \"histogram2dcontour\": [{\"colorbar\": {\"outlinewidth\": 0, \"ticks\": \"\"}, \"colorscale\": [[0.0, \"#0d0887\"], [0.1111111111111111, \"#46039f\"], [0.2222222222222222, \"#7201a8\"], [0.3333333333333333, \"#9c179e\"], [0.4444444444444444, \"#bd3786\"], [0.5555555555555556, \"#d8576b\"], [0.6666666666666666, \"#ed7953\"], [0.7777777777777778, \"#fb9f3a\"], [0.8888888888888888, \"#fdca26\"], [1.0, \"#f0f921\"]], \"type\": \"histogram2dcontour\"}], \"mesh3d\": [{\"colorbar\": {\"outlinewidth\": 0, \"ticks\": \"\"}, \"type\": \"mesh3d\"}], \"parcoords\": [{\"line\": {\"colorbar\": {\"outlinewidth\": 0, \"ticks\": \"\"}}, \"type\": \"parcoords\"}], \"pie\": [{\"automargin\": true, \"type\": \"pie\"}], \"scatter\": [{\"marker\": {\"colorbar\": {\"outlinewidth\": 0, \"ticks\": \"\"}}, \"type\": \"scatter\"}], \"scatter3d\": [{\"line\": {\"colorbar\": {\"outlinewidth\": 0, \"ticks\": \"\"}}, \"marker\": {\"colorbar\": {\"outlinewidth\": 0, \"ticks\": \"\"}}, \"type\": \"scatter3d\"}], \"scattercarpet\": [{\"marker\": {\"colorbar\": {\"outlinewidth\": 0, \"ticks\": \"\"}}, \"type\": \"scattercarpet\"}], \"scattergeo\": [{\"marker\": {\"colorbar\": {\"outlinewidth\": 0, \"ticks\": \"\"}}, \"type\": \"scattergeo\"}], \"scattergl\": [{\"marker\": {\"colorbar\": {\"outlinewidth\": 0, \"ticks\": \"\"}}, \"type\": \"scattergl\"}], \"scattermapbox\": [{\"marker\": {\"colorbar\": {\"outlinewidth\": 0, \"ticks\": \"\"}}, \"type\": \"scattermapbox\"}], \"scatterpolar\": [{\"marker\": {\"colorbar\": {\"outlinewidth\": 0, \"ticks\": \"\"}}, \"type\": \"scatterpolar\"}], \"scatterpolargl\": [{\"marker\": {\"colorbar\": {\"outlinewidth\": 0, \"ticks\": \"\"}}, \"type\": \"scatterpolargl\"}], \"scatterternary\": [{\"marker\": {\"colorbar\": {\"outlinewidth\": 0, \"ticks\": \"\"}}, \"type\": \"scatterternary\"}], \"surface\": [{\"colorbar\": {\"outlinewidth\": 0, \"ticks\": \"\"}, \"colorscale\": [[0.0, \"#0d0887\"], [0.1111111111111111, \"#46039f\"], [0.2222222222222222, \"#7201a8\"], [0.3333333333333333, \"#9c179e\"], [0.4444444444444444, \"#bd3786\"], [0.5555555555555556, \"#d8576b\"], [0.6666666666666666, \"#ed7953\"], [0.7777777777777778, \"#fb9f3a\"], [0.8888888888888888, \"#fdca26\"], [1.0, \"#f0f921\"]], \"type\": \"surface\"}], \"table\": [{\"cells\": {\"fill\": {\"color\": \"#EBF0F8\"}, \"line\": {\"color\": \"white\"}}, \"header\": {\"fill\": {\"color\": \"#C8D4E3\"}, \"line\": {\"color\": \"white\"}}, \"type\": \"table\"}]}, \"layout\": {\"annotationdefaults\": {\"arrowcolor\": \"#2a3f5f\", \"arrowhead\": 0, \"arrowwidth\": 1}, \"coloraxis\": {\"colorbar\": {\"outlinewidth\": 0, \"ticks\": \"\"}}, \"colorscale\": {\"diverging\": [[0, \"#8e0152\"], [0.1, \"#c51b7d\"], [0.2, \"#de77ae\"], [0.3, \"#f1b6da\"], [0.4, \"#fde0ef\"], [0.5, \"#f7f7f7\"], [0.6, \"#e6f5d0\"], [0.7, \"#b8e186\"], [0.8, \"#7fbc41\"], [0.9, \"#4d9221\"], [1, \"#276419\"]], \"sequential\": [[0.0, \"#0d0887\"], [0.1111111111111111, \"#46039f\"], [0.2222222222222222, \"#7201a8\"], [0.3333333333333333, \"#9c179e\"], [0.4444444444444444, \"#bd3786\"], [0.5555555555555556, \"#d8576b\"], [0.6666666666666666, \"#ed7953\"], [0.7777777777777778, \"#fb9f3a\"], [0.8888888888888888, \"#fdca26\"], [1.0, \"#f0f921\"]], \"sequentialminus\": [[0.0, \"#0d0887\"], [0.1111111111111111, \"#46039f\"], [0.2222222222222222, \"#7201a8\"], [0.3333333333333333, \"#9c179e\"], [0.4444444444444444, \"#bd3786\"], [0.5555555555555556, \"#d8576b\"], [0.6666666666666666, \"#ed7953\"], [0.7777777777777778, \"#fb9f3a\"], [0.8888888888888888, \"#fdca26\"], [1.0, \"#f0f921\"]]}, \"colorway\": [\"#636efa\", \"#EF553B\", \"#00cc96\", \"#ab63fa\", \"#FFA15A\", \"#19d3f3\", \"#FF6692\", \"#B6E880\", \"#FF97FF\", \"#FECB52\"], \"font\": {\"color\": \"#2a3f5f\"}, \"geo\": {\"bgcolor\": \"white\", \"lakecolor\": \"white\", \"landcolor\": \"#E5ECF6\", \"showlakes\": true, \"showland\": true, \"subunitcolor\": \"white\"}, \"hoverlabel\": {\"align\": \"left\"}, \"hovermode\": \"closest\", \"mapbox\": {\"style\": \"light\"}, \"paper_bgcolor\": \"white\", \"plot_bgcolor\": \"#E5ECF6\", \"polar\": {\"angularaxis\": {\"gridcolor\": \"white\", \"linecolor\": \"white\", \"ticks\": \"\"}, \"bgcolor\": \"#E5ECF6\", \"radialaxis\": {\"gridcolor\": \"white\", \"linecolor\": \"white\", \"ticks\": \"\"}}, \"scene\": {\"xaxis\": {\"backgroundcolor\": \"#E5ECF6\", \"gridcolor\": \"white\", \"gridwidth\": 2, \"linecolor\": \"white\", \"showbackground\": true, \"ticks\": \"\", \"zerolinecolor\": \"white\"}, \"yaxis\": {\"backgroundcolor\": \"#E5ECF6\", \"gridcolor\": \"white\", \"gridwidth\": 2, \"linecolor\": \"white\", \"showbackground\": true, \"ticks\": \"\", \"zerolinecolor\": \"white\"}, \"zaxis\": {\"backgroundcolor\": \"#E5ECF6\", \"gridcolor\": \"white\", \"gridwidth\": 2, \"linecolor\": \"white\", \"showbackground\": true, \"ticks\": \"\", \"zerolinecolor\": \"white\"}}, \"shapedefaults\": {\"line\": {\"color\": \"#2a3f5f\"}}, \"ternary\": {\"aaxis\": {\"gridcolor\": \"white\", \"linecolor\": \"white\", \"ticks\": \"\"}, \"baxis\": {\"gridcolor\": \"white\", \"linecolor\": \"white\", \"ticks\": \"\"}, \"bgcolor\": \"#E5ECF6\", \"caxis\": {\"gridcolor\": \"white\", \"linecolor\": \"white\", \"ticks\": \"\"}}, \"title\": {\"x\": 0.05}, \"xaxis\": {\"automargin\": true, \"gridcolor\": \"white\", \"linecolor\": \"white\", \"ticks\": \"\", \"title\": {\"standoff\": 15}, \"zerolinecolor\": \"white\", \"zerolinewidth\": 2}, \"yaxis\": {\"automargin\": true, \"gridcolor\": \"white\", \"linecolor\": \"white\", \"ticks\": \"\", \"title\": {\"standoff\": 15}, \"zerolinecolor\": \"white\", \"zerolinewidth\": 2}}}, \"title\": {\"text\": \"Women Enterpreneurship Index % by Country\"}},                        {\"responsive\": true}                    ).then(function(){\n",
       "                            \n",
       "var gd = document.getElementById('62632ce1-9d53-4797-b71c-f9892b51826d');\n",
       "var x = new MutationObserver(function (mutations, observer) {{\n",
       "        var display = window.getComputedStyle(gd).display;\n",
       "        if (!display || display === 'none') {{\n",
       "            console.log([gd, 'removed!']);\n",
       "            Plotly.purge(gd);\n",
       "            observer.disconnect();\n",
       "        }}\n",
       "}});\n",
       "\n",
       "// Listen for the removal of the full notebook cells\n",
       "var notebookContainer = gd.closest('#notebook-container');\n",
       "if (notebookContainer) {{\n",
       "    x.observe(notebookContainer, {childList: true});\n",
       "}}\n",
       "\n",
       "// Listen for the clearing of the current output cell\n",
       "var outputEl = gd.closest('.output');\n",
       "if (outputEl) {{\n",
       "    x.observe(outputEl, {childList: true});\n",
       "}}\n",
       "\n",
       "                        })                };                });            </script>        </div>"
      ]
     },
     "metadata": {},
     "output_type": "display_data"
    }
   ],
   "source": [
    "import plotly.graph_objects as go\n",
    "country_fig = go.Figure(data=[go.Pie(labels=data['Country'],\n",
    "                             values=data['Women Entrepreneurship Index'],\n",
    "                             hole=.7,\n",
    "                             title = 'Count by Country',\n",
    "                             marker_colors = px.colors.sequential.Greens_r,\n",
    "                            )\n",
    "                     ])\n",
    "country_fig.update_layout(title = 'Women Enterpreneurship Index % by Country')\n",
    "country_fig.show()\n"
   ]
  },
  {
   "cell_type": "markdown",
   "metadata": {
    "papermill": {
     "duration": 0.042368,
     "end_time": "2021-01-07T14:44:41.307491",
     "exception": false,
     "start_time": "2021-01-07T14:44:41.265123",
     "status": "completed"
    },
    "tags": []
   },
   "source": [
    "Australia has highest percentage of women enterpreneurship index.\n",
    "\n",
    "\n",
    "India has lowest percentage of women enterpreneurship index."
   ]
  },
  {
   "cell_type": "code",
   "execution_count": 19,
   "metadata": {
    "execution": {
     "iopub.execute_input": "2021-01-07T14:44:41.402031Z",
     "iopub.status.busy": "2021-01-07T14:44:41.401277Z",
     "iopub.status.idle": "2021-01-07T14:44:41.509387Z",
     "shell.execute_reply": "2021-01-07T14:44:41.508358Z"
    },
    "papermill": {
     "duration": 0.159361,
     "end_time": "2021-01-07T14:44:41.509578",
     "exception": false,
     "start_time": "2021-01-07T14:44:41.350217",
     "status": "completed"
    },
    "tags": []
   },
   "outputs": [
    {
     "data": {
      "text/html": [
       "<div>                            <div id=\"14b10f8a-35c0-46b5-94fa-c1f1c015298f\" class=\"plotly-graph-div\" style=\"height:525px; width:100%;\"></div>            <script type=\"text/javascript\">                require([\"plotly\"], function(Plotly) {                    window.PLOTLYENV=window.PLOTLYENV || {};                                    if (document.getElementById(\"14b10f8a-35c0-46b5-94fa-c1f1c015298f\")) {                    Plotly.newPlot(                        \"14b10f8a-35c0-46b5-94fa-c1f1c015298f\",                        [{\"customdata\": [[\"Member\"], [\"Member\"], [\"Member\"], [\"Member\"], [\"Member\"], [\"Member\"], [\"Member\"], [\"Member\"], [\"Member\"], [\"Member\"], [\"Member\"], [\"Member\"], [\"Member\"], [\"Member\"], [\"Member\"], [\"Member\"], [\"Member\"], [\"Member\"], [\"Member\"], [\"Member\"], [\"Not Member\"], [\"Not Member\"], [\"Not Member\"], [\"Not Member\"], [\"Not Member\"], [\"Not Member\"], [\"Not Member\"]], \"hovertemplate\": \"Level of development=Developed<br>Female Labor Force Participation Rate=%{x}<br>Women Entrepreneurship Index=%{y}<br>Entrepreneurship Index=%{marker.size}<br>European Union Membership=%{customdata[0]}<extra></extra>\", \"legendgroup\": \"Developed\", \"marker\": {\"color\": \"#636efa\", \"size\": [64.9, 65.5, 60.2, 65.7, 67.3, 67.4, 42.0, 65.3, 41.3, 54.5, 54.6, 66.5, 45.4, 53.1, 49.6, 40.6, 71.4, 42.7, 47.4, 71.8, 77.6, 70.4, 49.5, 65.6, 68.1, 68.6, 69.1], \"sizemode\": \"area\", \"sizeref\": 0.19399999999999998, \"symbol\": \"circle\"}, \"mode\": \"markers\", \"name\": \"Developed\", \"orientation\": \"v\", \"showlegend\": true, \"type\": \"scatter\", \"x\": [67.1, 58.0, 68.5, 67.7, 60.6, 69.9, 42.5, 59.4, 47.2, 66.4, 66.5, 69.2, 55.9, 61.0, 52.7, 60.4, 70.3, 57.8, 56.6, 74.0, 66.8, 82.3, 64.7, 69.2, 59.18, 74.7, 55.0], \"xaxis\": \"x\", \"y\": [54.9, 63.6, 55.4, 66.4, 68.8, 63.6, 43.0, 64.3, 51.4, 56.6, 58.5, 69.3, 54.8, 55.9, 52.5, 49.9, 69.7, 53.7, 57.7, 66.7, 74.8, 68.0, 40.0, 66.3, 59.8, 63.7, 53.4], \"yaxis\": \"y\"}, {\"customdata\": [[\"Not Member\"], [\"Not Member\"], [\"Not Member\"], [\"Not Member\"], [\"Not Member\"], [\"Not Member\"], [\"Not Member\"], [\"Not Member\"], [\"Not Member\"], [\"Not Member\"], [\"Not Member\"], [\"Not Member\"], [\"Not Member\"], [\"Not Member\"], [\"Not Member\"], [\"Not Member\"], [\"Not Member\"], [\"Not Member\"], [\"Not Member\"], [\"Not Member\"], [\"Not Member\"], [\"Not Member\"], [\"Not Member\"], [\"Not Member\"]], \"hovertemplate\": \"Level of development=Developing<br>Female Labor Force Participation Rate=%{x}<br>Women Entrepreneurship Index=%{y}<br>Entrepreneurship Index=%{marker.size}<br>European Union Membership=%{customdata[0]}<extra></extra>\", \"legendgroup\": \"Developing\", \"marker\": {\"color\": \"#EF553B\", \"size\": [30.2, 37.2, 28.0, 28.9, 25.8, 36.4, 37.7, 28.2, 28.1, 29.6, 24.8, 25.3, 27.2, 37.1, 40.0, 30.7, 32.2, 30.9, 31.7, 49.6, 32.1, 35.5, 54.6, 41.4], \"sizemode\": \"area\", \"sizeref\": 0.19399999999999998, \"symbol\": \"circle\"}, \"mode\": \"markers\", \"name\": \"Developing\", \"orientation\": \"v\", \"showlegend\": true, \"type\": \"scatter\", \"x\": [18.0, 47.3, 69.4, 51.9, 55.9, 62.4, 59.4, 63.5, 64.6, 55.7, 60.8, 61.1, 37.7, 73.0, 58.5, 44.7, 67.9, 63.4, 65.2, 13.0, 62.0, 25.19, 30.4, 68.0], \"xaxis\": \"x\", \"y\": [27.4, 35.7, 29.7, 31.6, 31.1, 38.3, 36.1, 32.3, 27.7, 29.9, 25.8, 25.3, 38.6, 41.2, 39.2, 42.8, 36.9, 43.6, 35.6, 37.0, 36.6, 30.7, 39.3, 44.5], \"yaxis\": \"y\"}],                        {\"legend\": {\"itemsizing\": \"constant\", \"title\": {\"text\": \"Level of development\"}, \"tracegroupgap\": 0}, \"margin\": {\"t\": 60}, \"template\": {\"data\": {\"bar\": [{\"error_x\": {\"color\": \"#2a3f5f\"}, \"error_y\": {\"color\": \"#2a3f5f\"}, \"marker\": {\"line\": {\"color\": \"#E5ECF6\", \"width\": 0.5}}, \"type\": \"bar\"}], \"barpolar\": [{\"marker\": {\"line\": {\"color\": \"#E5ECF6\", \"width\": 0.5}}, \"type\": \"barpolar\"}], \"carpet\": [{\"aaxis\": {\"endlinecolor\": \"#2a3f5f\", \"gridcolor\": \"white\", \"linecolor\": \"white\", \"minorgridcolor\": \"white\", \"startlinecolor\": \"#2a3f5f\"}, \"baxis\": {\"endlinecolor\": \"#2a3f5f\", \"gridcolor\": \"white\", \"linecolor\": \"white\", \"minorgridcolor\": \"white\", \"startlinecolor\": \"#2a3f5f\"}, \"type\": \"carpet\"}], \"choropleth\": [{\"colorbar\": {\"outlinewidth\": 0, \"ticks\": \"\"}, \"type\": \"choropleth\"}], \"contour\": [{\"colorbar\": {\"outlinewidth\": 0, \"ticks\": \"\"}, \"colorscale\": [[0.0, \"#0d0887\"], [0.1111111111111111, \"#46039f\"], [0.2222222222222222, \"#7201a8\"], [0.3333333333333333, \"#9c179e\"], [0.4444444444444444, \"#bd3786\"], [0.5555555555555556, \"#d8576b\"], [0.6666666666666666, \"#ed7953\"], [0.7777777777777778, \"#fb9f3a\"], [0.8888888888888888, \"#fdca26\"], [1.0, \"#f0f921\"]], \"type\": \"contour\"}], \"contourcarpet\": [{\"colorbar\": {\"outlinewidth\": 0, \"ticks\": \"\"}, \"type\": \"contourcarpet\"}], \"heatmap\": [{\"colorbar\": {\"outlinewidth\": 0, \"ticks\": \"\"}, \"colorscale\": [[0.0, \"#0d0887\"], [0.1111111111111111, \"#46039f\"], [0.2222222222222222, \"#7201a8\"], [0.3333333333333333, \"#9c179e\"], [0.4444444444444444, \"#bd3786\"], [0.5555555555555556, \"#d8576b\"], [0.6666666666666666, \"#ed7953\"], [0.7777777777777778, \"#fb9f3a\"], [0.8888888888888888, \"#fdca26\"], [1.0, \"#f0f921\"]], \"type\": \"heatmap\"}], \"heatmapgl\": [{\"colorbar\": {\"outlinewidth\": 0, \"ticks\": \"\"}, \"colorscale\": [[0.0, \"#0d0887\"], [0.1111111111111111, \"#46039f\"], [0.2222222222222222, \"#7201a8\"], [0.3333333333333333, \"#9c179e\"], [0.4444444444444444, \"#bd3786\"], [0.5555555555555556, \"#d8576b\"], [0.6666666666666666, \"#ed7953\"], [0.7777777777777778, \"#fb9f3a\"], [0.8888888888888888, \"#fdca26\"], [1.0, \"#f0f921\"]], \"type\": \"heatmapgl\"}], \"histogram\": [{\"marker\": {\"colorbar\": {\"outlinewidth\": 0, \"ticks\": \"\"}}, \"type\": \"histogram\"}], \"histogram2d\": [{\"colorbar\": {\"outlinewidth\": 0, \"ticks\": \"\"}, \"colorscale\": [[0.0, \"#0d0887\"], [0.1111111111111111, \"#46039f\"], [0.2222222222222222, \"#7201a8\"], [0.3333333333333333, \"#9c179e\"], [0.4444444444444444, \"#bd3786\"], [0.5555555555555556, \"#d8576b\"], [0.6666666666666666, \"#ed7953\"], [0.7777777777777778, \"#fb9f3a\"], [0.8888888888888888, \"#fdca26\"], [1.0, \"#f0f921\"]], \"type\": \"histogram2d\"}], \"histogram2dcontour\": [{\"colorbar\": {\"outlinewidth\": 0, \"ticks\": \"\"}, \"colorscale\": [[0.0, \"#0d0887\"], [0.1111111111111111, \"#46039f\"], [0.2222222222222222, \"#7201a8\"], [0.3333333333333333, \"#9c179e\"], [0.4444444444444444, \"#bd3786\"], [0.5555555555555556, \"#d8576b\"], [0.6666666666666666, \"#ed7953\"], [0.7777777777777778, \"#fb9f3a\"], [0.8888888888888888, \"#fdca26\"], [1.0, \"#f0f921\"]], \"type\": \"histogram2dcontour\"}], \"mesh3d\": [{\"colorbar\": {\"outlinewidth\": 0, \"ticks\": \"\"}, \"type\": \"mesh3d\"}], \"parcoords\": [{\"line\": {\"colorbar\": {\"outlinewidth\": 0, \"ticks\": \"\"}}, \"type\": \"parcoords\"}], \"pie\": [{\"automargin\": true, \"type\": \"pie\"}], \"scatter\": [{\"marker\": {\"colorbar\": {\"outlinewidth\": 0, \"ticks\": \"\"}}, \"type\": \"scatter\"}], \"scatter3d\": [{\"line\": {\"colorbar\": {\"outlinewidth\": 0, \"ticks\": \"\"}}, \"marker\": {\"colorbar\": {\"outlinewidth\": 0, \"ticks\": \"\"}}, \"type\": \"scatter3d\"}], \"scattercarpet\": [{\"marker\": {\"colorbar\": {\"outlinewidth\": 0, \"ticks\": \"\"}}, \"type\": \"scattercarpet\"}], \"scattergeo\": [{\"marker\": {\"colorbar\": {\"outlinewidth\": 0, \"ticks\": \"\"}}, \"type\": \"scattergeo\"}], \"scattergl\": [{\"marker\": {\"colorbar\": {\"outlinewidth\": 0, \"ticks\": \"\"}}, \"type\": \"scattergl\"}], \"scattermapbox\": [{\"marker\": {\"colorbar\": {\"outlinewidth\": 0, \"ticks\": \"\"}}, \"type\": \"scattermapbox\"}], \"scatterpolar\": [{\"marker\": {\"colorbar\": {\"outlinewidth\": 0, \"ticks\": \"\"}}, \"type\": \"scatterpolar\"}], \"scatterpolargl\": [{\"marker\": {\"colorbar\": {\"outlinewidth\": 0, \"ticks\": \"\"}}, \"type\": \"scatterpolargl\"}], \"scatterternary\": [{\"marker\": {\"colorbar\": {\"outlinewidth\": 0, \"ticks\": \"\"}}, \"type\": \"scatterternary\"}], \"surface\": [{\"colorbar\": {\"outlinewidth\": 0, \"ticks\": \"\"}, \"colorscale\": [[0.0, \"#0d0887\"], [0.1111111111111111, \"#46039f\"], [0.2222222222222222, \"#7201a8\"], [0.3333333333333333, \"#9c179e\"], [0.4444444444444444, \"#bd3786\"], [0.5555555555555556, \"#d8576b\"], [0.6666666666666666, \"#ed7953\"], [0.7777777777777778, \"#fb9f3a\"], [0.8888888888888888, \"#fdca26\"], [1.0, \"#f0f921\"]], \"type\": \"surface\"}], \"table\": [{\"cells\": {\"fill\": {\"color\": \"#EBF0F8\"}, \"line\": {\"color\": \"white\"}}, \"header\": {\"fill\": {\"color\": \"#C8D4E3\"}, \"line\": {\"color\": \"white\"}}, \"type\": \"table\"}]}, \"layout\": {\"annotationdefaults\": {\"arrowcolor\": \"#2a3f5f\", \"arrowhead\": 0, \"arrowwidth\": 1}, \"coloraxis\": {\"colorbar\": {\"outlinewidth\": 0, \"ticks\": \"\"}}, \"colorscale\": {\"diverging\": [[0, \"#8e0152\"], [0.1, \"#c51b7d\"], [0.2, \"#de77ae\"], [0.3, \"#f1b6da\"], [0.4, \"#fde0ef\"], [0.5, \"#f7f7f7\"], [0.6, \"#e6f5d0\"], [0.7, \"#b8e186\"], [0.8, \"#7fbc41\"], [0.9, \"#4d9221\"], [1, \"#276419\"]], \"sequential\": [[0.0, \"#0d0887\"], [0.1111111111111111, \"#46039f\"], [0.2222222222222222, \"#7201a8\"], [0.3333333333333333, \"#9c179e\"], [0.4444444444444444, \"#bd3786\"], [0.5555555555555556, \"#d8576b\"], [0.6666666666666666, \"#ed7953\"], [0.7777777777777778, \"#fb9f3a\"], [0.8888888888888888, \"#fdca26\"], [1.0, \"#f0f921\"]], \"sequentialminus\": [[0.0, \"#0d0887\"], [0.1111111111111111, \"#46039f\"], [0.2222222222222222, \"#7201a8\"], [0.3333333333333333, \"#9c179e\"], [0.4444444444444444, \"#bd3786\"], [0.5555555555555556, \"#d8576b\"], [0.6666666666666666, \"#ed7953\"], [0.7777777777777778, \"#fb9f3a\"], [0.8888888888888888, \"#fdca26\"], [1.0, \"#f0f921\"]]}, \"colorway\": [\"#636efa\", \"#EF553B\", \"#00cc96\", \"#ab63fa\", \"#FFA15A\", \"#19d3f3\", \"#FF6692\", \"#B6E880\", \"#FF97FF\", \"#FECB52\"], \"font\": {\"color\": \"#2a3f5f\"}, \"geo\": {\"bgcolor\": \"white\", \"lakecolor\": \"white\", \"landcolor\": \"#E5ECF6\", \"showlakes\": true, \"showland\": true, \"subunitcolor\": \"white\"}, \"hoverlabel\": {\"align\": \"left\"}, \"hovermode\": \"closest\", \"mapbox\": {\"style\": \"light\"}, \"paper_bgcolor\": \"white\", \"plot_bgcolor\": \"#E5ECF6\", \"polar\": {\"angularaxis\": {\"gridcolor\": \"white\", \"linecolor\": \"white\", \"ticks\": \"\"}, \"bgcolor\": \"#E5ECF6\", \"radialaxis\": {\"gridcolor\": \"white\", \"linecolor\": \"white\", \"ticks\": \"\"}}, \"scene\": {\"xaxis\": {\"backgroundcolor\": \"#E5ECF6\", \"gridcolor\": \"white\", \"gridwidth\": 2, \"linecolor\": \"white\", \"showbackground\": true, \"ticks\": \"\", \"zerolinecolor\": \"white\"}, \"yaxis\": {\"backgroundcolor\": \"#E5ECF6\", \"gridcolor\": \"white\", \"gridwidth\": 2, \"linecolor\": \"white\", \"showbackground\": true, \"ticks\": \"\", \"zerolinecolor\": \"white\"}, \"zaxis\": {\"backgroundcolor\": \"#E5ECF6\", \"gridcolor\": \"white\", \"gridwidth\": 2, \"linecolor\": \"white\", \"showbackground\": true, \"ticks\": \"\", \"zerolinecolor\": \"white\"}}, \"shapedefaults\": {\"line\": {\"color\": \"#2a3f5f\"}}, \"ternary\": {\"aaxis\": {\"gridcolor\": \"white\", \"linecolor\": \"white\", \"ticks\": \"\"}, \"baxis\": {\"gridcolor\": \"white\", \"linecolor\": \"white\", \"ticks\": \"\"}, \"bgcolor\": \"#E5ECF6\", \"caxis\": {\"gridcolor\": \"white\", \"linecolor\": \"white\", \"ticks\": \"\"}}, \"title\": {\"x\": 0.05}, \"xaxis\": {\"automargin\": true, \"gridcolor\": \"white\", \"linecolor\": \"white\", \"ticks\": \"\", \"title\": {\"standoff\": 15}, \"zerolinecolor\": \"white\", \"zerolinewidth\": 2}, \"yaxis\": {\"automargin\": true, \"gridcolor\": \"white\", \"linecolor\": \"white\", \"ticks\": \"\", \"title\": {\"standoff\": 15}, \"zerolinecolor\": \"white\", \"zerolinewidth\": 2}}}, \"xaxis\": {\"anchor\": \"y\", \"domain\": [0.0, 1.0], \"title\": {\"text\": \"Female Labor Force Participation Rate\"}}, \"yaxis\": {\"anchor\": \"x\", \"domain\": [0.0, 1.0], \"title\": {\"text\": \"Women Entrepreneurship Index\"}}},                        {\"responsive\": true}                    ).then(function(){\n",
       "                            \n",
       "var gd = document.getElementById('14b10f8a-35c0-46b5-94fa-c1f1c015298f');\n",
       "var x = new MutationObserver(function (mutations, observer) {{\n",
       "        var display = window.getComputedStyle(gd).display;\n",
       "        if (!display || display === 'none') {{\n",
       "            console.log([gd, 'removed!']);\n",
       "            Plotly.purge(gd);\n",
       "            observer.disconnect();\n",
       "        }}\n",
       "}});\n",
       "\n",
       "// Listen for the removal of the full notebook cells\n",
       "var notebookContainer = gd.closest('#notebook-container');\n",
       "if (notebookContainer) {{\n",
       "    x.observe(notebookContainer, {childList: true});\n",
       "}}\n",
       "\n",
       "// Listen for the clearing of the current output cell\n",
       "var outputEl = gd.closest('.output');\n",
       "if (outputEl) {{\n",
       "    x.observe(outputEl, {childList: true});\n",
       "}}\n",
       "\n",
       "                        })                };                });            </script>        </div>"
      ]
     },
     "metadata": {},
     "output_type": "display_data"
    }
   ],
   "source": [
    "import plotly.express as px\n",
    "\n",
    "fig = px.scatter(data, x=\"Female Labor Force Participation Rate\", y=\"Women Entrepreneurship Index\", color=\"Level of development\",\n",
    "                 size='Entrepreneurship Index', hover_data=['European Union Membership'])\n",
    "fig.show()"
   ]
  },
  {
   "cell_type": "code",
   "execution_count": 20,
   "metadata": {
    "execution": {
     "iopub.execute_input": "2021-01-07T14:44:41.607067Z",
     "iopub.status.busy": "2021-01-07T14:44:41.606064Z",
     "iopub.status.idle": "2021-01-07T14:44:42.624433Z",
     "shell.execute_reply": "2021-01-07T14:44:42.625170Z"
    },
    "papermill": {
     "duration": 1.070936,
     "end_time": "2021-01-07T14:44:42.625353",
     "exception": false,
     "start_time": "2021-01-07T14:44:41.554417",
     "status": "completed"
    },
    "tags": []
   },
   "outputs": [
    {
     "data": {
      "text/html": [
       "<div>                            <div id=\"547c13c4-5047-4421-ae88-03052c7a9cf0\" class=\"plotly-graph-div\" style=\"height:525px; width:100%;\"></div>            <script type=\"text/javascript\">                require([\"plotly\"], function(Plotly) {                    window.PLOTLYENV=window.PLOTLYENV || {};                                    if (document.getElementById(\"547c13c4-5047-4421-ae88-03052c7a9cf0\")) {                    Plotly.newPlot(                        \"547c13c4-5047-4421-ae88-03052c7a9cf0\",                        [{\"hovertemplate\": \"Inflation rate=%{x}<br>Women Entrepreneurship Index=%{y}<extra></extra>\", \"legendgroup\": \"\", \"marker\": {\"color\": \"#636efa\", \"opacity\": 0.65, \"symbol\": \"circle\"}, \"mode\": \"markers\", \"name\": \"\", \"orientation\": \"v\", \"showlegend\": false, \"type\": \"scatter\", \"x\": [0.9, 0.6, -0.88, -0.2, 0.0, 0.5, -1.7, -0.3, 0.0, 0.2, -0.9, 0.6, -0.3, -0.5, -0.5, -0.5, 0.5, -0.1, -0.9, 0.0, 1.5, 1.6, 0.8, 2.17, -0.5, -1.1, -0.61, 4.8, 26.5, 4.1, -1.0, 10.67, 1.4, 0.8, -0.5, 11.0, -2.25, 17.2, 5.9, 3.7, 3.7, 2.3, 2.7, 0.1, 3.5, 15.5, 1.2, -0.9, 4.8, 7.7, 8.67], \"xaxis\": \"x\", \"y\": [54.9, 63.6, 55.4, 66.4, 68.8, 63.6, 43.0, 64.3, 51.4, 56.6, 58.5, 69.3, 54.8, 55.9, 52.5, 49.9, 69.7, 53.7, 57.7, 66.7, 74.8, 68.0, 40.0, 66.3, 59.8, 63.7, 53.4, 27.4, 35.7, 29.7, 31.6, 31.1, 38.3, 36.1, 32.3, 27.7, 29.9, 25.8, 25.3, 38.6, 41.2, 39.2, 42.8, 36.9, 43.6, 35.6, 37.0, 36.6, 30.7, 39.3, 44.5], \"yaxis\": \"y\"}, {\"hovertemplate\": \"<b>OLS trendline</b><br>Women Entrepreneurship Index = -1.20799 * Inflation rate + 50.9611<br>R<sup>2</sup>=0.207510<br><br>Inflation rate=%{x}<br>Women Entrepreneurship Index=%{y} <b>(trend)</b><extra></extra>\", \"legendgroup\": \"\", \"line\": {\"color\": \"darkblue\"}, \"marker\": {\"color\": \"#636efa\", \"symbol\": \"circle\"}, \"mode\": \"lines\", \"name\": \"\", \"showlegend\": false, \"type\": \"scatter\", \"x\": [-2.25, -1.7, -1.1, -1.0, -0.9, -0.9, -0.9, -0.88, -0.61, -0.5, -0.5, -0.5, -0.5, -0.5, -0.3, -0.3, -0.2, -0.1, 0.0, 0.0, 0.0, 0.1, 0.2, 0.5, 0.5, 0.6, 0.6, 0.8, 0.8, 0.9, 1.2, 1.4, 1.5, 1.6, 2.17, 2.3, 2.7, 3.5, 3.7, 3.7, 4.1, 4.8, 4.8, 5.9, 7.7, 8.67, 10.67, 11.0, 15.5, 17.2, 26.5], \"xaxis\": \"x\", \"y\": [53.679120139309404, 53.014726008685095, 52.2899324116404, 52.169133478799615, 52.04833454595883, 52.04833454595883, 52.04833454595883, 52.024174759390675, 51.69801764072056, 51.5651388145957, 51.5651388145957, 51.5651388145957, 51.5651388145957, 51.5651388145957, 51.32354094891413, 51.32354094891413, 51.20274201607335, 51.08194308323257, 50.96114415039178, 50.96114415039178, 50.96114415039178, 50.840345217551, 50.71954628471021, 50.357149486187865, 50.357149486187865, 50.23635055334708, 50.23635055334708, 49.99475268766552, 49.99475268766552, 49.87395375482473, 49.511556956302385, 49.269959090620816, 49.14916015778003, 49.028361224939246, 48.33980730774678, 48.18276869505377, 47.699572963690635, 46.73318150096436, 46.4915836352828, 46.4915836352828, 46.00838790391967, 45.16279537403418, 45.16279537403418, 43.83400711278557, 41.659626321651466, 40.48787667309587, 38.0718980162802, 37.67326153790562, 32.23730956007037, 30.183727701777055, 18.949426947584207], \"yaxis\": \"y\"}],                        {\"legend\": {\"tracegroupgap\": 0}, \"margin\": {\"t\": 60}, \"template\": {\"data\": {\"bar\": [{\"error_x\": {\"color\": \"#2a3f5f\"}, \"error_y\": {\"color\": \"#2a3f5f\"}, \"marker\": {\"line\": {\"color\": \"#E5ECF6\", \"width\": 0.5}}, \"type\": \"bar\"}], \"barpolar\": [{\"marker\": {\"line\": {\"color\": \"#E5ECF6\", \"width\": 0.5}}, \"type\": \"barpolar\"}], \"carpet\": [{\"aaxis\": {\"endlinecolor\": \"#2a3f5f\", \"gridcolor\": \"white\", \"linecolor\": \"white\", \"minorgridcolor\": \"white\", \"startlinecolor\": \"#2a3f5f\"}, \"baxis\": {\"endlinecolor\": \"#2a3f5f\", \"gridcolor\": \"white\", \"linecolor\": \"white\", \"minorgridcolor\": \"white\", \"startlinecolor\": \"#2a3f5f\"}, \"type\": \"carpet\"}], \"choropleth\": [{\"colorbar\": {\"outlinewidth\": 0, \"ticks\": \"\"}, \"type\": \"choropleth\"}], \"contour\": [{\"colorbar\": {\"outlinewidth\": 0, \"ticks\": \"\"}, \"colorscale\": [[0.0, \"#0d0887\"], [0.1111111111111111, \"#46039f\"], [0.2222222222222222, \"#7201a8\"], [0.3333333333333333, \"#9c179e\"], [0.4444444444444444, \"#bd3786\"], [0.5555555555555556, \"#d8576b\"], [0.6666666666666666, \"#ed7953\"], [0.7777777777777778, \"#fb9f3a\"], [0.8888888888888888, \"#fdca26\"], [1.0, \"#f0f921\"]], \"type\": \"contour\"}], \"contourcarpet\": [{\"colorbar\": {\"outlinewidth\": 0, \"ticks\": \"\"}, \"type\": \"contourcarpet\"}], \"heatmap\": [{\"colorbar\": {\"outlinewidth\": 0, \"ticks\": \"\"}, \"colorscale\": [[0.0, \"#0d0887\"], [0.1111111111111111, \"#46039f\"], [0.2222222222222222, \"#7201a8\"], [0.3333333333333333, \"#9c179e\"], [0.4444444444444444, \"#bd3786\"], [0.5555555555555556, \"#d8576b\"], [0.6666666666666666, \"#ed7953\"], [0.7777777777777778, \"#fb9f3a\"], [0.8888888888888888, \"#fdca26\"], [1.0, \"#f0f921\"]], \"type\": \"heatmap\"}], \"heatmapgl\": [{\"colorbar\": {\"outlinewidth\": 0, \"ticks\": \"\"}, \"colorscale\": [[0.0, \"#0d0887\"], [0.1111111111111111, \"#46039f\"], [0.2222222222222222, \"#7201a8\"], [0.3333333333333333, \"#9c179e\"], [0.4444444444444444, \"#bd3786\"], [0.5555555555555556, \"#d8576b\"], [0.6666666666666666, \"#ed7953\"], [0.7777777777777778, \"#fb9f3a\"], [0.8888888888888888, \"#fdca26\"], [1.0, \"#f0f921\"]], \"type\": \"heatmapgl\"}], \"histogram\": [{\"marker\": {\"colorbar\": {\"outlinewidth\": 0, \"ticks\": \"\"}}, \"type\": \"histogram\"}], \"histogram2d\": [{\"colorbar\": {\"outlinewidth\": 0, \"ticks\": \"\"}, \"colorscale\": [[0.0, \"#0d0887\"], [0.1111111111111111, \"#46039f\"], [0.2222222222222222, \"#7201a8\"], [0.3333333333333333, \"#9c179e\"], [0.4444444444444444, \"#bd3786\"], [0.5555555555555556, \"#d8576b\"], [0.6666666666666666, \"#ed7953\"], [0.7777777777777778, \"#fb9f3a\"], [0.8888888888888888, \"#fdca26\"], [1.0, \"#f0f921\"]], \"type\": \"histogram2d\"}], \"histogram2dcontour\": [{\"colorbar\": {\"outlinewidth\": 0, \"ticks\": \"\"}, \"colorscale\": [[0.0, \"#0d0887\"], [0.1111111111111111, \"#46039f\"], [0.2222222222222222, \"#7201a8\"], [0.3333333333333333, \"#9c179e\"], [0.4444444444444444, \"#bd3786\"], [0.5555555555555556, \"#d8576b\"], [0.6666666666666666, \"#ed7953\"], [0.7777777777777778, \"#fb9f3a\"], [0.8888888888888888, \"#fdca26\"], [1.0, \"#f0f921\"]], \"type\": \"histogram2dcontour\"}], \"mesh3d\": [{\"colorbar\": {\"outlinewidth\": 0, \"ticks\": \"\"}, \"type\": \"mesh3d\"}], \"parcoords\": [{\"line\": {\"colorbar\": {\"outlinewidth\": 0, \"ticks\": \"\"}}, \"type\": \"parcoords\"}], \"pie\": [{\"automargin\": true, \"type\": \"pie\"}], \"scatter\": [{\"marker\": {\"colorbar\": {\"outlinewidth\": 0, \"ticks\": \"\"}}, \"type\": \"scatter\"}], \"scatter3d\": [{\"line\": {\"colorbar\": {\"outlinewidth\": 0, \"ticks\": \"\"}}, \"marker\": {\"colorbar\": {\"outlinewidth\": 0, \"ticks\": \"\"}}, \"type\": \"scatter3d\"}], \"scattercarpet\": [{\"marker\": {\"colorbar\": {\"outlinewidth\": 0, \"ticks\": \"\"}}, \"type\": \"scattercarpet\"}], \"scattergeo\": [{\"marker\": {\"colorbar\": {\"outlinewidth\": 0, \"ticks\": \"\"}}, \"type\": \"scattergeo\"}], \"scattergl\": [{\"marker\": {\"colorbar\": {\"outlinewidth\": 0, \"ticks\": \"\"}}, \"type\": \"scattergl\"}], \"scattermapbox\": [{\"marker\": {\"colorbar\": {\"outlinewidth\": 0, \"ticks\": \"\"}}, \"type\": \"scattermapbox\"}], \"scatterpolar\": [{\"marker\": {\"colorbar\": {\"outlinewidth\": 0, \"ticks\": \"\"}}, \"type\": \"scatterpolar\"}], \"scatterpolargl\": [{\"marker\": {\"colorbar\": {\"outlinewidth\": 0, \"ticks\": \"\"}}, \"type\": \"scatterpolargl\"}], \"scatterternary\": [{\"marker\": {\"colorbar\": {\"outlinewidth\": 0, \"ticks\": \"\"}}, \"type\": \"scatterternary\"}], \"surface\": [{\"colorbar\": {\"outlinewidth\": 0, \"ticks\": \"\"}, \"colorscale\": [[0.0, \"#0d0887\"], [0.1111111111111111, \"#46039f\"], [0.2222222222222222, \"#7201a8\"], [0.3333333333333333, \"#9c179e\"], [0.4444444444444444, \"#bd3786\"], [0.5555555555555556, \"#d8576b\"], [0.6666666666666666, \"#ed7953\"], [0.7777777777777778, \"#fb9f3a\"], [0.8888888888888888, \"#fdca26\"], [1.0, \"#f0f921\"]], \"type\": \"surface\"}], \"table\": [{\"cells\": {\"fill\": {\"color\": \"#EBF0F8\"}, \"line\": {\"color\": \"white\"}}, \"header\": {\"fill\": {\"color\": \"#C8D4E3\"}, \"line\": {\"color\": \"white\"}}, \"type\": \"table\"}]}, \"layout\": {\"annotationdefaults\": {\"arrowcolor\": \"#2a3f5f\", \"arrowhead\": 0, \"arrowwidth\": 1}, \"coloraxis\": {\"colorbar\": {\"outlinewidth\": 0, \"ticks\": \"\"}}, \"colorscale\": {\"diverging\": [[0, \"#8e0152\"], [0.1, \"#c51b7d\"], [0.2, \"#de77ae\"], [0.3, \"#f1b6da\"], [0.4, \"#fde0ef\"], [0.5, \"#f7f7f7\"], [0.6, \"#e6f5d0\"], [0.7, \"#b8e186\"], [0.8, \"#7fbc41\"], [0.9, \"#4d9221\"], [1, \"#276419\"]], \"sequential\": [[0.0, \"#0d0887\"], [0.1111111111111111, \"#46039f\"], [0.2222222222222222, \"#7201a8\"], [0.3333333333333333, \"#9c179e\"], [0.4444444444444444, \"#bd3786\"], [0.5555555555555556, \"#d8576b\"], [0.6666666666666666, \"#ed7953\"], [0.7777777777777778, \"#fb9f3a\"], [0.8888888888888888, \"#fdca26\"], [1.0, \"#f0f921\"]], \"sequentialminus\": [[0.0, \"#0d0887\"], [0.1111111111111111, \"#46039f\"], [0.2222222222222222, \"#7201a8\"], [0.3333333333333333, \"#9c179e\"], [0.4444444444444444, \"#bd3786\"], [0.5555555555555556, \"#d8576b\"], [0.6666666666666666, \"#ed7953\"], [0.7777777777777778, \"#fb9f3a\"], [0.8888888888888888, \"#fdca26\"], [1.0, \"#f0f921\"]]}, \"colorway\": [\"#636efa\", \"#EF553B\", \"#00cc96\", \"#ab63fa\", \"#FFA15A\", \"#19d3f3\", \"#FF6692\", \"#B6E880\", \"#FF97FF\", \"#FECB52\"], \"font\": {\"color\": \"#2a3f5f\"}, \"geo\": {\"bgcolor\": \"white\", \"lakecolor\": \"white\", \"landcolor\": \"#E5ECF6\", \"showlakes\": true, \"showland\": true, \"subunitcolor\": \"white\"}, \"hoverlabel\": {\"align\": \"left\"}, \"hovermode\": \"closest\", \"mapbox\": {\"style\": \"light\"}, \"paper_bgcolor\": \"white\", \"plot_bgcolor\": \"#E5ECF6\", \"polar\": {\"angularaxis\": {\"gridcolor\": \"white\", \"linecolor\": \"white\", \"ticks\": \"\"}, \"bgcolor\": \"#E5ECF6\", \"radialaxis\": {\"gridcolor\": \"white\", \"linecolor\": \"white\", \"ticks\": \"\"}}, \"scene\": {\"xaxis\": {\"backgroundcolor\": \"#E5ECF6\", \"gridcolor\": \"white\", \"gridwidth\": 2, \"linecolor\": \"white\", \"showbackground\": true, \"ticks\": \"\", \"zerolinecolor\": \"white\"}, \"yaxis\": {\"backgroundcolor\": \"#E5ECF6\", \"gridcolor\": \"white\", \"gridwidth\": 2, \"linecolor\": \"white\", \"showbackground\": true, \"ticks\": \"\", \"zerolinecolor\": \"white\"}, \"zaxis\": {\"backgroundcolor\": \"#E5ECF6\", \"gridcolor\": \"white\", \"gridwidth\": 2, \"linecolor\": \"white\", \"showbackground\": true, \"ticks\": \"\", \"zerolinecolor\": \"white\"}}, \"shapedefaults\": {\"line\": {\"color\": \"#2a3f5f\"}}, \"ternary\": {\"aaxis\": {\"gridcolor\": \"white\", \"linecolor\": \"white\", \"ticks\": \"\"}, \"baxis\": {\"gridcolor\": \"white\", \"linecolor\": \"white\", \"ticks\": \"\"}, \"bgcolor\": \"#E5ECF6\", \"caxis\": {\"gridcolor\": \"white\", \"linecolor\": \"white\", \"ticks\": \"\"}}, \"title\": {\"x\": 0.05}, \"xaxis\": {\"automargin\": true, \"gridcolor\": \"white\", \"linecolor\": \"white\", \"ticks\": \"\", \"title\": {\"standoff\": 15}, \"zerolinecolor\": \"white\", \"zerolinewidth\": 2}, \"yaxis\": {\"automargin\": true, \"gridcolor\": \"white\", \"linecolor\": \"white\", \"ticks\": \"\", \"title\": {\"standoff\": 15}, \"zerolinecolor\": \"white\", \"zerolinewidth\": 2}}}, \"xaxis\": {\"anchor\": \"y\", \"domain\": [0.0, 1.0], \"title\": {\"text\": \"Inflation rate\"}}, \"yaxis\": {\"anchor\": \"x\", \"domain\": [0.0, 1.0], \"title\": {\"text\": \"Women Entrepreneurship Index\"}}},                        {\"responsive\": true}                    ).then(function(){\n",
       "                            \n",
       "var gd = document.getElementById('547c13c4-5047-4421-ae88-03052c7a9cf0');\n",
       "var x = new MutationObserver(function (mutations, observer) {{\n",
       "        var display = window.getComputedStyle(gd).display;\n",
       "        if (!display || display === 'none') {{\n",
       "            console.log([gd, 'removed!']);\n",
       "            Plotly.purge(gd);\n",
       "            observer.disconnect();\n",
       "        }}\n",
       "}});\n",
       "\n",
       "// Listen for the removal of the full notebook cells\n",
       "var notebookContainer = gd.closest('#notebook-container');\n",
       "if (notebookContainer) {{\n",
       "    x.observe(notebookContainer, {childList: true});\n",
       "}}\n",
       "\n",
       "// Listen for the clearing of the current output cell\n",
       "var outputEl = gd.closest('.output');\n",
       "if (outputEl) {{\n",
       "    x.observe(outputEl, {childList: true});\n",
       "}}\n",
       "\n",
       "                        })                };                });            </script>        </div>"
      ]
     },
     "metadata": {},
     "output_type": "display_data"
    }
   ],
   "source": [
    "fig = px.scatter(\n",
    "    data, x='Inflation rate', y='Women Entrepreneurship Index', opacity=0.65,\n",
    "    trendline='ols', trendline_color_override='darkblue'\n",
    ")\n",
    "fig.show()"
   ]
  },
  {
   "cell_type": "code",
   "execution_count": 21,
   "metadata": {
    "execution": {
     "iopub.execute_input": "2021-01-07T14:44:42.717406Z",
     "iopub.status.busy": "2021-01-07T14:44:42.716750Z",
     "iopub.status.idle": "2021-01-07T14:44:42.843000Z",
     "shell.execute_reply": "2021-01-07T14:44:42.842148Z"
    },
    "papermill": {
     "duration": 0.173783,
     "end_time": "2021-01-07T14:44:42.843168",
     "exception": false,
     "start_time": "2021-01-07T14:44:42.669385",
     "status": "completed"
    },
    "tags": []
   },
   "outputs": [
    {
     "data": {
      "text/html": [
       "<div>                            <div id=\"68d4aa7c-802d-4f97-bc19-9104492251fd\" class=\"plotly-graph-div\" style=\"height:525px; width:100%;\"></div>            <script type=\"text/javascript\">                require([\"plotly\"], function(Plotly) {                    window.PLOTLYENV=window.PLOTLYENV || {};                                    if (document.getElementById(\"68d4aa7c-802d-4f97-bc19-9104492251fd\")) {                    Plotly.newPlot(                        \"68d4aa7c-802d-4f97-bc19-9104492251fd\",                        [{\"alignmentgroup\": \"True\", \"box\": {\"visible\": true}, \"customdata\": [[4, \"Austria\", \"Developed\", \"Member\", \"Euro\", 54.9, 64.9, 0.9, 67.1], [6, \"Belgium\", \"Developed\", \"Member\", \"Euro\", 63.6, 65.5, 0.6, 58.0], [17, \"Estonia\", \"Developed\", \"Member\", \"Euro\", 55.4, 60.2, -0.88, 68.5], [18, \"Finland\", \"Developed\", \"Member\", \"Euro\", 66.4, 65.7, -0.2, 67.7], [19, \"France\", \"Developed\", \"Member\", \"Euro\", 68.8, 67.3, 0.0, 60.6], [20, \"Germany\", \"Developed\", \"Member\", \"Euro\", 63.6, 67.4, 0.5, 69.9], [22, \"Greece\", \"Developed\", \"Member\", \"Euro\", 43.0, 42.0, -1.7, 42.5], [28, \"Ireland\", \"Developed\", \"Member\", \"Euro\", 64.3, 65.3, -0.3, 59.4], [30, \"Italy\", \"Developed\", \"Member\", \"Euro\", 51.4, 41.3, 0.0, 47.2], [34, \"Latvia\", \"Developed\", \"Member\", \"Euro\", 56.6, 54.5, 0.2, 66.4], [35, \"Lithuania\", \"Developed\", \"Member\", \"Euro\", 58.5, 54.6, -0.9, 66.5], [39, \"Netherlands\", \"Developed\", \"Member\", \"Euro\", 69.3, 66.5, 0.6, 69.2], [50, \"Slovakia\", \"Developed\", \"Member\", \"Euro\", 54.8, 45.4, -0.3, 55.9], [51, \"Slovenia\", \"Developed\", \"Member\", \"Euro\", 55.9, 53.1, -0.5, 61.0], [53, \"Spain\", \"Developed\", \"Member\", \"Euro\", 52.5, 49.6, -0.5, 52.7], [12, \"Croatia\", \"Developed\", \"Member\", \"National Currency\", 49.9, 40.6, -0.5, 60.4], [13, \"Denmark\", \"Developed\", \"Member\", \"National Currency\", 69.7, 71.4, 0.5, 70.3], [24, \"Hungary\", \"Developed\", \"Member\", \"National Currency\", 53.7, 42.7, -0.1, 57.8], [44, \"Poland\", \"Developed\", \"Member\", \"National Currency\", 57.7, 47.4, -0.9, 56.6], [54, \"Sweden\", \"Developed\", \"Member\", \"National Currency\", 66.7, 71.8, 0.0, 74.0], [3, \"Australia\", \"Developed\", \"Not Member\", \"National Currency\", 74.8, 77.6, 1.5, 66.8], [25, \"Iceland\", \"Developed\", \"Not Member\", \"National Currency\", 68.0, 70.4, 1.6, 82.3], [32, \"Japan\", \"Developed\", \"Not Member\", \"National Currency\", 40.0, 49.5, 0.8, 64.7], [40, \"Norway\", \"Developed\", \"Not Member\", \"National Currency\", 66.3, 65.6, 2.17, 69.2], [49, \"Singapore\", \"Developed\", \"Not Member\", \"National Currency\", 59.8, 68.1, -0.5, 59.18], [55, \"Switzerland\", \"Developed\", \"Not Member\", \"National Currency\", 63.7, 68.6, -1.1, 74.7], [56, \"Taiwan\", \"Developed\", \"Not Member\", \"National Currency\", 53.4, 69.1, -0.61, 55.0]], \"hovertemplate\": \"Level of development=%{customdata[2]}<br>Currency=%{customdata[4]}<br>Women Entrepreneurship Index=%{customdata[5]}<br>No=%{customdata[0]}<br>Country=%{customdata[1]}<br>European Union Membership=%{customdata[3]}<br>Entrepreneurship Index=%{customdata[6]}<br>Inflation rate=%{customdata[7]}<br>Female Labor Force Participation Rate=%{customdata[8]}<extra></extra>\", \"legendgroup\": \"Developed\", \"marker\": {\"color\": \"#636efa\"}, \"name\": \"Developed\", \"offsetgroup\": \"Developed\", \"orientation\": \"v\", \"points\": \"all\", \"scalegroup\": \"True\", \"showlegend\": true, \"type\": \"violin\", \"x\": [\"Euro\", \"Euro\", \"Euro\", \"Euro\", \"Euro\", \"Euro\", \"Euro\", \"Euro\", \"Euro\", \"Euro\", \"Euro\", \"Euro\", \"Euro\", \"Euro\", \"Euro\", \"National Currency\", \"National Currency\", \"National Currency\", \"National Currency\", \"National Currency\", \"National Currency\", \"National Currency\", \"National Currency\", \"National Currency\", \"National Currency\", \"National Currency\", \"National Currency\"], \"x0\": \" \", \"xaxis\": \"x\", \"y\": [54.9, 63.6, 55.4, 66.4, 68.8, 63.6, 43.0, 64.3, 51.4, 56.6, 58.5, 69.3, 54.8, 55.9, 52.5, 49.9, 69.7, 53.7, 57.7, 66.7, 74.8, 68.0, 40.0, 66.3, 59.8, 63.7, 53.4], \"y0\": \" \", \"yaxis\": \"y\"}, {\"alignmentgroup\": \"True\", \"box\": {\"visible\": true}, \"customdata\": [[1, \"Algeria\", \"Developing\", \"Not Member\", \"National Currency\", 27.4, 30.2, 4.8, 18.0], [2, \"Argentina\", \"Developing\", \"Not Member\", \"National Currency\", 35.7, 37.2, 26.5, 47.3], [7, \"Bolivia\", \"Developing\", \"Not Member\", \"National Currency\", 29.7, 28.0, 4.1, 69.4], [8, \"Bosnia and Herzegovina\", \"Developing\", \"Not Member\", \"National Currency\", 31.6, 28.9, -1.0, 51.9], [9, \"Brazil\", \"Developing\", \"Not Member\", \"National Currency\", 31.1, 25.8, 10.67, 55.9], [10, \"China\", \"Developing\", \"Not Member\", \"National Currency\", 38.3, 36.4, 1.4, 62.4], [11, \"Costa Rica\", \"Developing\", \"Not Member\", \"National Currency\", 36.1, 37.7, 0.8, 59.4], [14, \"Ecuador\", \"Developing\", \"Not Member\", \"National Currency\", 32.3, 28.2, -0.5, 63.5], [15, \"Egypt\", \"Developing\", \"Not Member\", \"National Currency\", 27.7, 28.1, 11.0, 64.6], [16, \"El Salvador\", \"Developing\", \"Not Member\", \"National Currency\", 29.9, 29.6, -2.25, 55.7], [21, \"Ghana\", \"Developing\", \"Not Member\", \"National Currency\", 25.8, 24.8, 17.2, 60.8], [26, \"India\", \"Developing\", \"Not Member\", \"National Currency\", 25.3, 25.3, 5.9, 61.1], [31, \"Jamaica\", \"Developing\", \"Not Member\", \"National Currency\", 38.6, 27.2, 3.7, 37.7], [36, \"Macedonia\", \"Developing\", \"Not Member\", \"National Currency\", 41.2, 37.1, 3.7, 73.0], [37, \"Malaysia\", \"Developing\", \"Not Member\", \"National Currency\", 39.2, 40.0, 2.3, 58.5], [38, \"Mexico\", \"Developing\", \"Not Member\", \"National Currency\", 42.8, 30.7, 2.7, 44.7], [42, \"Panama\", \"Developing\", \"Not Member\", \"National Currency\", 36.9, 32.2, 0.1, 67.9], [43, \"Peru\", \"Developing\", \"Not Member\", \"National Currency\", 43.6, 30.9, 3.5, 63.4], [47, \"Russia\", \"Developing\", \"Not Member\", \"National Currency\", 35.6, 31.7, 15.5, 65.2], [48, \"Saudi Arabia\", \"Developing\", \"Not Member\", \"National Currency\", 37.0, 49.6, 1.2, 13.0], [57, \"Thailand\", \"Developing\", \"Not Member\", \"National Currency\", 36.6, 32.1, -0.9, 62.0], [58, \"Tunisia\", \"Developing\", \"Not Member\", \"National Currency\", 30.7, 35.5, 4.8, 25.19], [59, \"Turkey\", \"Developing\", \"Not Member\", \"National Currency\", 39.3, 54.6, 7.7, 30.4], [60, \"Uruguay\", \"Developing\", \"Not Member\", \"National Currency\", 44.5, 41.4, 8.67, 68.0]], \"hovertemplate\": \"Level of development=%{customdata[2]}<br>Currency=%{customdata[4]}<br>Women Entrepreneurship Index=%{customdata[5]}<br>No=%{customdata[0]}<br>Country=%{customdata[1]}<br>European Union Membership=%{customdata[3]}<br>Entrepreneurship Index=%{customdata[6]}<br>Inflation rate=%{customdata[7]}<br>Female Labor Force Participation Rate=%{customdata[8]}<extra></extra>\", \"legendgroup\": \"Developing\", \"marker\": {\"color\": \"#EF553B\"}, \"name\": \"Developing\", \"offsetgroup\": \"Developing\", \"orientation\": \"v\", \"points\": \"all\", \"scalegroup\": \"True\", \"showlegend\": true, \"type\": \"violin\", \"x\": [\"National Currency\", \"National Currency\", \"National Currency\", \"National Currency\", \"National Currency\", \"National Currency\", \"National Currency\", \"National Currency\", \"National Currency\", \"National Currency\", \"National Currency\", \"National Currency\", \"National Currency\", \"National Currency\", \"National Currency\", \"National Currency\", \"National Currency\", \"National Currency\", \"National Currency\", \"National Currency\", \"National Currency\", \"National Currency\", \"National Currency\", \"National Currency\"], \"x0\": \" \", \"xaxis\": \"x\", \"y\": [27.4, 35.7, 29.7, 31.6, 31.1, 38.3, 36.1, 32.3, 27.7, 29.9, 25.8, 25.3, 38.6, 41.2, 39.2, 42.8, 36.9, 43.6, 35.6, 37.0, 36.6, 30.7, 39.3, 44.5], \"y0\": \" \", \"yaxis\": \"y\"}],                        {\"legend\": {\"title\": {\"text\": \"Level of development\"}, \"tracegroupgap\": 0}, \"margin\": {\"t\": 60}, \"template\": {\"data\": {\"bar\": [{\"error_x\": {\"color\": \"#2a3f5f\"}, \"error_y\": {\"color\": \"#2a3f5f\"}, \"marker\": {\"line\": {\"color\": \"#E5ECF6\", \"width\": 0.5}}, \"type\": \"bar\"}], \"barpolar\": [{\"marker\": {\"line\": {\"color\": \"#E5ECF6\", \"width\": 0.5}}, \"type\": \"barpolar\"}], \"carpet\": [{\"aaxis\": {\"endlinecolor\": \"#2a3f5f\", \"gridcolor\": \"white\", \"linecolor\": \"white\", \"minorgridcolor\": \"white\", \"startlinecolor\": \"#2a3f5f\"}, \"baxis\": {\"endlinecolor\": \"#2a3f5f\", \"gridcolor\": \"white\", \"linecolor\": \"white\", \"minorgridcolor\": \"white\", \"startlinecolor\": \"#2a3f5f\"}, \"type\": \"carpet\"}], \"choropleth\": [{\"colorbar\": {\"outlinewidth\": 0, \"ticks\": \"\"}, \"type\": \"choropleth\"}], \"contour\": [{\"colorbar\": {\"outlinewidth\": 0, \"ticks\": \"\"}, \"colorscale\": [[0.0, \"#0d0887\"], [0.1111111111111111, \"#46039f\"], [0.2222222222222222, \"#7201a8\"], [0.3333333333333333, \"#9c179e\"], [0.4444444444444444, \"#bd3786\"], [0.5555555555555556, \"#d8576b\"], [0.6666666666666666, \"#ed7953\"], [0.7777777777777778, \"#fb9f3a\"], [0.8888888888888888, \"#fdca26\"], [1.0, \"#f0f921\"]], \"type\": \"contour\"}], \"contourcarpet\": [{\"colorbar\": {\"outlinewidth\": 0, \"ticks\": \"\"}, \"type\": \"contourcarpet\"}], \"heatmap\": [{\"colorbar\": {\"outlinewidth\": 0, \"ticks\": \"\"}, \"colorscale\": [[0.0, \"#0d0887\"], [0.1111111111111111, \"#46039f\"], [0.2222222222222222, \"#7201a8\"], [0.3333333333333333, \"#9c179e\"], [0.4444444444444444, \"#bd3786\"], [0.5555555555555556, \"#d8576b\"], [0.6666666666666666, \"#ed7953\"], [0.7777777777777778, \"#fb9f3a\"], [0.8888888888888888, \"#fdca26\"], [1.0, \"#f0f921\"]], \"type\": \"heatmap\"}], \"heatmapgl\": [{\"colorbar\": {\"outlinewidth\": 0, \"ticks\": \"\"}, \"colorscale\": [[0.0, \"#0d0887\"], [0.1111111111111111, \"#46039f\"], [0.2222222222222222, \"#7201a8\"], [0.3333333333333333, \"#9c179e\"], [0.4444444444444444, \"#bd3786\"], [0.5555555555555556, \"#d8576b\"], [0.6666666666666666, \"#ed7953\"], [0.7777777777777778, \"#fb9f3a\"], [0.8888888888888888, \"#fdca26\"], [1.0, \"#f0f921\"]], \"type\": \"heatmapgl\"}], \"histogram\": [{\"marker\": {\"colorbar\": {\"outlinewidth\": 0, \"ticks\": \"\"}}, \"type\": \"histogram\"}], \"histogram2d\": [{\"colorbar\": {\"outlinewidth\": 0, \"ticks\": \"\"}, \"colorscale\": [[0.0, \"#0d0887\"], [0.1111111111111111, \"#46039f\"], [0.2222222222222222, \"#7201a8\"], [0.3333333333333333, \"#9c179e\"], [0.4444444444444444, \"#bd3786\"], [0.5555555555555556, \"#d8576b\"], [0.6666666666666666, \"#ed7953\"], [0.7777777777777778, \"#fb9f3a\"], [0.8888888888888888, \"#fdca26\"], [1.0, \"#f0f921\"]], \"type\": \"histogram2d\"}], \"histogram2dcontour\": [{\"colorbar\": {\"outlinewidth\": 0, \"ticks\": \"\"}, \"colorscale\": [[0.0, \"#0d0887\"], [0.1111111111111111, \"#46039f\"], [0.2222222222222222, \"#7201a8\"], [0.3333333333333333, \"#9c179e\"], [0.4444444444444444, \"#bd3786\"], [0.5555555555555556, \"#d8576b\"], [0.6666666666666666, \"#ed7953\"], [0.7777777777777778, \"#fb9f3a\"], [0.8888888888888888, \"#fdca26\"], [1.0, \"#f0f921\"]], \"type\": \"histogram2dcontour\"}], \"mesh3d\": [{\"colorbar\": {\"outlinewidth\": 0, \"ticks\": \"\"}, \"type\": \"mesh3d\"}], \"parcoords\": [{\"line\": {\"colorbar\": {\"outlinewidth\": 0, \"ticks\": \"\"}}, \"type\": \"parcoords\"}], \"pie\": [{\"automargin\": true, \"type\": \"pie\"}], \"scatter\": [{\"marker\": {\"colorbar\": {\"outlinewidth\": 0, \"ticks\": \"\"}}, \"type\": \"scatter\"}], \"scatter3d\": [{\"line\": {\"colorbar\": {\"outlinewidth\": 0, \"ticks\": \"\"}}, \"marker\": {\"colorbar\": {\"outlinewidth\": 0, \"ticks\": \"\"}}, \"type\": \"scatter3d\"}], \"scattercarpet\": [{\"marker\": {\"colorbar\": {\"outlinewidth\": 0, \"ticks\": \"\"}}, \"type\": \"scattercarpet\"}], \"scattergeo\": [{\"marker\": {\"colorbar\": {\"outlinewidth\": 0, \"ticks\": \"\"}}, \"type\": \"scattergeo\"}], \"scattergl\": [{\"marker\": {\"colorbar\": {\"outlinewidth\": 0, \"ticks\": \"\"}}, \"type\": \"scattergl\"}], \"scattermapbox\": [{\"marker\": {\"colorbar\": {\"outlinewidth\": 0, \"ticks\": \"\"}}, \"type\": \"scattermapbox\"}], \"scatterpolar\": [{\"marker\": {\"colorbar\": {\"outlinewidth\": 0, \"ticks\": \"\"}}, \"type\": \"scatterpolar\"}], \"scatterpolargl\": [{\"marker\": {\"colorbar\": {\"outlinewidth\": 0, \"ticks\": \"\"}}, \"type\": \"scatterpolargl\"}], \"scatterternary\": [{\"marker\": {\"colorbar\": {\"outlinewidth\": 0, \"ticks\": \"\"}}, \"type\": \"scatterternary\"}], \"surface\": [{\"colorbar\": {\"outlinewidth\": 0, \"ticks\": \"\"}, \"colorscale\": [[0.0, \"#0d0887\"], [0.1111111111111111, \"#46039f\"], [0.2222222222222222, \"#7201a8\"], [0.3333333333333333, \"#9c179e\"], [0.4444444444444444, \"#bd3786\"], [0.5555555555555556, \"#d8576b\"], [0.6666666666666666, \"#ed7953\"], [0.7777777777777778, \"#fb9f3a\"], [0.8888888888888888, \"#fdca26\"], [1.0, \"#f0f921\"]], \"type\": \"surface\"}], \"table\": [{\"cells\": {\"fill\": {\"color\": \"#EBF0F8\"}, \"line\": {\"color\": \"white\"}}, \"header\": {\"fill\": {\"color\": \"#C8D4E3\"}, \"line\": {\"color\": \"white\"}}, \"type\": \"table\"}]}, \"layout\": {\"annotationdefaults\": {\"arrowcolor\": \"#2a3f5f\", \"arrowhead\": 0, \"arrowwidth\": 1}, \"coloraxis\": {\"colorbar\": {\"outlinewidth\": 0, \"ticks\": \"\"}}, \"colorscale\": {\"diverging\": [[0, \"#8e0152\"], [0.1, \"#c51b7d\"], [0.2, \"#de77ae\"], [0.3, \"#f1b6da\"], [0.4, \"#fde0ef\"], [0.5, \"#f7f7f7\"], [0.6, \"#e6f5d0\"], [0.7, \"#b8e186\"], [0.8, \"#7fbc41\"], [0.9, \"#4d9221\"], [1, \"#276419\"]], \"sequential\": [[0.0, \"#0d0887\"], [0.1111111111111111, \"#46039f\"], [0.2222222222222222, \"#7201a8\"], [0.3333333333333333, \"#9c179e\"], [0.4444444444444444, \"#bd3786\"], [0.5555555555555556, \"#d8576b\"], [0.6666666666666666, \"#ed7953\"], [0.7777777777777778, \"#fb9f3a\"], [0.8888888888888888, \"#fdca26\"], [1.0, \"#f0f921\"]], \"sequentialminus\": [[0.0, \"#0d0887\"], [0.1111111111111111, \"#46039f\"], [0.2222222222222222, \"#7201a8\"], [0.3333333333333333, \"#9c179e\"], [0.4444444444444444, \"#bd3786\"], [0.5555555555555556, \"#d8576b\"], [0.6666666666666666, \"#ed7953\"], [0.7777777777777778, \"#fb9f3a\"], [0.8888888888888888, \"#fdca26\"], [1.0, \"#f0f921\"]]}, \"colorway\": [\"#636efa\", \"#EF553B\", \"#00cc96\", \"#ab63fa\", \"#FFA15A\", \"#19d3f3\", \"#FF6692\", \"#B6E880\", \"#FF97FF\", \"#FECB52\"], \"font\": {\"color\": \"#2a3f5f\"}, \"geo\": {\"bgcolor\": \"white\", \"lakecolor\": \"white\", \"landcolor\": \"#E5ECF6\", \"showlakes\": true, \"showland\": true, \"subunitcolor\": \"white\"}, \"hoverlabel\": {\"align\": \"left\"}, \"hovermode\": \"closest\", \"mapbox\": {\"style\": \"light\"}, \"paper_bgcolor\": \"white\", \"plot_bgcolor\": \"#E5ECF6\", \"polar\": {\"angularaxis\": {\"gridcolor\": \"white\", \"linecolor\": \"white\", \"ticks\": \"\"}, \"bgcolor\": \"#E5ECF6\", \"radialaxis\": {\"gridcolor\": \"white\", \"linecolor\": \"white\", \"ticks\": \"\"}}, \"scene\": {\"xaxis\": {\"backgroundcolor\": \"#E5ECF6\", \"gridcolor\": \"white\", \"gridwidth\": 2, \"linecolor\": \"white\", \"showbackground\": true, \"ticks\": \"\", \"zerolinecolor\": \"white\"}, \"yaxis\": {\"backgroundcolor\": \"#E5ECF6\", \"gridcolor\": \"white\", \"gridwidth\": 2, \"linecolor\": \"white\", \"showbackground\": true, \"ticks\": \"\", \"zerolinecolor\": \"white\"}, \"zaxis\": {\"backgroundcolor\": \"#E5ECF6\", \"gridcolor\": \"white\", \"gridwidth\": 2, \"linecolor\": \"white\", \"showbackground\": true, \"ticks\": \"\", \"zerolinecolor\": \"white\"}}, \"shapedefaults\": {\"line\": {\"color\": \"#2a3f5f\"}}, \"ternary\": {\"aaxis\": {\"gridcolor\": \"white\", \"linecolor\": \"white\", \"ticks\": \"\"}, \"baxis\": {\"gridcolor\": \"white\", \"linecolor\": \"white\", \"ticks\": \"\"}, \"bgcolor\": \"#E5ECF6\", \"caxis\": {\"gridcolor\": \"white\", \"linecolor\": \"white\", \"ticks\": \"\"}}, \"title\": {\"x\": 0.05}, \"xaxis\": {\"automargin\": true, \"gridcolor\": \"white\", \"linecolor\": \"white\", \"ticks\": \"\", \"title\": {\"standoff\": 15}, \"zerolinecolor\": \"white\", \"zerolinewidth\": 2}, \"yaxis\": {\"automargin\": true, \"gridcolor\": \"white\", \"linecolor\": \"white\", \"ticks\": \"\", \"title\": {\"standoff\": 15}, \"zerolinecolor\": \"white\", \"zerolinewidth\": 2}}}, \"violinmode\": \"group\", \"xaxis\": {\"anchor\": \"y\", \"domain\": [0.0, 1.0], \"title\": {\"text\": \"Currency\"}}, \"yaxis\": {\"anchor\": \"x\", \"domain\": [0.0, 1.0], \"title\": {\"text\": \"Women Entrepreneurship Index\"}}},                        {\"responsive\": true}                    ).then(function(){\n",
       "                            \n",
       "var gd = document.getElementById('68d4aa7c-802d-4f97-bc19-9104492251fd');\n",
       "var x = new MutationObserver(function (mutations, observer) {{\n",
       "        var display = window.getComputedStyle(gd).display;\n",
       "        if (!display || display === 'none') {{\n",
       "            console.log([gd, 'removed!']);\n",
       "            Plotly.purge(gd);\n",
       "            observer.disconnect();\n",
       "        }}\n",
       "}});\n",
       "\n",
       "// Listen for the removal of the full notebook cells\n",
       "var notebookContainer = gd.closest('#notebook-container');\n",
       "if (notebookContainer) {{\n",
       "    x.observe(notebookContainer, {childList: true});\n",
       "}}\n",
       "\n",
       "// Listen for the clearing of the current output cell\n",
       "var outputEl = gd.closest('.output');\n",
       "if (outputEl) {{\n",
       "    x.observe(outputEl, {childList: true});\n",
       "}}\n",
       "\n",
       "                        })                };                });            </script>        </div>"
      ]
     },
     "metadata": {},
     "output_type": "display_data"
    }
   ],
   "source": [
    "fig = px.violin(data, y=\"Women Entrepreneurship Index\", x=\"Currency\", color=\"Level of development\", box=True, points=\"all\",\n",
    "          hover_data=data.columns)\n",
    "fig.show()"
   ]
  },
  {
   "cell_type": "markdown",
   "metadata": {
    "papermill": {
     "duration": 0.044553,
     "end_time": "2021-01-07T14:44:42.936052",
     "exception": false,
     "start_time": "2021-01-07T14:44:42.891499",
     "status": "completed"
    },
    "tags": []
   },
   "source": [
    "Are European Union membership variable and development variable independent from each other?"
   ]
  },
  {
   "cell_type": "markdown",
   "metadata": {
    "papermill": {
     "duration": 0.041912,
     "end_time": "2021-01-07T14:44:43.021967",
     "exception": false,
     "start_time": "2021-01-07T14:44:42.980055",
     "status": "completed"
    },
    "tags": []
   },
   "source": [
    "Null Hypothesis-European Union membership variable and development variable are independent from each other.\n",
    "\n",
    "\n",
    "Alternate Hypothesis-European Union membership variable and development variable are not  independent from each other."
   ]
  },
  {
   "cell_type": "code",
   "execution_count": 22,
   "metadata": {
    "execution": {
     "iopub.execute_input": "2021-01-07T14:44:43.128694Z",
     "iopub.status.busy": "2021-01-07T14:44:43.127984Z",
     "iopub.status.idle": "2021-01-07T14:44:43.154128Z",
     "shell.execute_reply": "2021-01-07T14:44:43.154724Z"
    },
    "papermill": {
     "duration": 0.090464,
     "end_time": "2021-01-07T14:44:43.154879",
     "exception": false,
     "start_time": "2021-01-07T14:44:43.064415",
     "status": "completed"
    },
    "tags": []
   },
   "outputs": [
    {
     "data": {
      "text/html": [
       "<style  type=\"text/css\" >\n",
       "#T_e0f825b8_50f6_11eb_96b2_0242ac130202row0_col0,#T_e0f825b8_50f6_11eb_96b2_0242ac130202row1_col1{\n",
       "            background-color:  #081d58;\n",
       "            color:  #f1f1f1;\n",
       "        }#T_e0f825b8_50f6_11eb_96b2_0242ac130202row0_col1,#T_e0f825b8_50f6_11eb_96b2_0242ac130202row1_col0{\n",
       "            background-color:  #ffffd9;\n",
       "            color:  #000000;\n",
       "        }</style><table id=\"T_e0f825b8_50f6_11eb_96b2_0242ac130202\" ><thead>    <tr>        <th class=\"index_name level0\" >Level of development</th>        <th class=\"col_heading level0 col0\" >Developed</th>        <th class=\"col_heading level0 col1\" >Developing</th>    </tr>    <tr>        <th class=\"index_name level0\" >European Union Membership</th>        <th class=\"blank\" ></th>        <th class=\"blank\" ></th>    </tr></thead><tbody>\n",
       "                <tr>\n",
       "                        <th id=\"T_e0f825b8_50f6_11eb_96b2_0242ac130202level0_row0\" class=\"row_heading level0 row0\" >Member</th>\n",
       "                        <td id=\"T_e0f825b8_50f6_11eb_96b2_0242ac130202row0_col0\" class=\"data row0 col0\" >20</td>\n",
       "                        <td id=\"T_e0f825b8_50f6_11eb_96b2_0242ac130202row0_col1\" class=\"data row0 col1\" >0</td>\n",
       "            </tr>\n",
       "            <tr>\n",
       "                        <th id=\"T_e0f825b8_50f6_11eb_96b2_0242ac130202level0_row1\" class=\"row_heading level0 row1\" >Not Member</th>\n",
       "                        <td id=\"T_e0f825b8_50f6_11eb_96b2_0242ac130202row1_col0\" class=\"data row1 col0\" >7</td>\n",
       "                        <td id=\"T_e0f825b8_50f6_11eb_96b2_0242ac130202row1_col1\" class=\"data row1 col1\" >24</td>\n",
       "            </tr>\n",
       "    </tbody></table>"
      ],
      "text/plain": [
       "<pandas.io.formats.style.Styler at 0x7f680cc5f710>"
      ]
     },
     "execution_count": 22,
     "metadata": {},
     "output_type": "execute_result"
    }
   ],
   "source": [
    "crosstab = pd.crosstab(data['European Union Membership'], data['Level of development'])\n",
    "\n",
    "crosstab.style.background_gradient(cmap='YlGnBu', low=0, high=0, axis=0, subset=None)"
   ]
  },
  {
   "cell_type": "code",
   "execution_count": 23,
   "metadata": {
    "execution": {
     "iopub.execute_input": "2021-01-07T14:44:43.248244Z",
     "iopub.status.busy": "2021-01-07T14:44:43.247451Z",
     "iopub.status.idle": "2021-01-07T14:44:43.251657Z",
     "shell.execute_reply": "2021-01-07T14:44:43.252302Z"
    },
    "papermill": {
     "duration": 0.053339,
     "end_time": "2021-01-07T14:44:43.252458",
     "exception": false,
     "start_time": "2021-01-07T14:44:43.199119",
     "status": "completed"
    },
    "tags": []
   },
   "outputs": [],
   "source": [
    "from scipy import stats"
   ]
  },
  {
   "cell_type": "code",
   "execution_count": 24,
   "metadata": {
    "execution": {
     "iopub.execute_input": "2021-01-07T14:44:43.345403Z",
     "iopub.status.busy": "2021-01-07T14:44:43.344665Z",
     "iopub.status.idle": "2021-01-07T14:44:43.352605Z",
     "shell.execute_reply": "2021-01-07T14:44:43.351897Z"
    },
    "papermill": {
     "duration": 0.053024,
     "end_time": "2021-01-07T14:44:43.352733",
     "exception": false,
     "start_time": "2021-01-07T14:44:43.299709",
     "status": "completed"
    },
    "tags": []
   },
   "outputs": [
    {
     "data": {
      "text/plain": [
       "(26.222328629032262,\n",
       " 3.042837837948524e-07,\n",
       " 1,\n",
       " array([[10.58823529,  9.41176471],\n",
       "        [16.41176471, 14.58823529]]))"
      ]
     },
     "execution_count": 24,
     "metadata": {},
     "output_type": "execute_result"
    }
   ],
   "source": [
    "stats.chi2_contingency(crosstab)"
   ]
  },
  {
   "cell_type": "markdown",
   "metadata": {
    "papermill": {
     "duration": 0.042792,
     "end_time": "2021-01-07T14:44:43.440962",
     "exception": false,
     "start_time": "2021-01-07T14:44:43.398170",
     "status": "completed"
    },
    "tags": []
   },
   "source": [
    "The first value (26.222328629032262) is the Chi-square value, followed by the p-value (3.042837837948524e-07), then comes the degrees of freedom (1), and lastly it outputs the expected frequencies as an array."
   ]
  },
  {
   "cell_type": "markdown",
   "metadata": {
    "papermill": {
     "duration": 0.046746,
     "end_time": "2021-01-07T14:44:43.532529",
     "exception": false,
     "start_time": "2021-01-07T14:44:43.485783",
     "status": "completed"
    },
    "tags": []
   },
   "source": [
    "![](https://www.mun.ca/biology/scarr/IntroPopGen-Table-D-01-smc.jpg)"
   ]
  },
  {
   "cell_type": "markdown",
   "metadata": {
    "papermill": {
     "duration": 0.041825,
     "end_time": "2021-01-07T14:44:43.619419",
     "exception": false,
     "start_time": "2021-01-07T14:44:43.577594",
     "status": "completed"
    },
    "tags": []
   },
   "source": [
    "since for degree 1 and chi square value 26.222328629032262 we get probability less than 0.01 i.e less than alpha or level of significance(0.05) so we reject the null hypothesis.And Hence it is proved that\n",
    "European Union membership variable and development variable are not independent from each other."
   ]
  },
  {
   "cell_type": "markdown",
   "metadata": {
    "papermill": {
     "duration": 0.046123,
     "end_time": "2021-01-07T14:44:43.709334",
     "exception": false,
     "start_time": "2021-01-07T14:44:43.663211",
     "status": "completed"
    },
    "tags": []
   },
   "source": [
    "Do the Women Entrepreneurship Index and Global Entrepreneurship Index values show a statistically significant difference between the countries that are members of the European Union and not? (Method Mann-Whitney U)"
   ]
  },
  {
   "cell_type": "markdown",
   "metadata": {
    "papermill": {
     "duration": 0.045824,
     "end_time": "2021-01-07T14:44:43.802656",
     "exception": false,
     "start_time": "2021-01-07T14:44:43.756832",
     "status": "completed"
    },
    "tags": []
   },
   "source": [
    "H0-Women Entrepreneurship Index and Global Entrepreneurship Index values show a statistically significant difference between the countries that are members of the European Union and not.\n",
    "\n",
    "\n",
    "\n",
    "Ha-Women Entrepreneurship Index and Global Entrepreneurship Index values do not show a statistically significant difference between the countries that are members of the European Union and not."
   ]
  },
  {
   "cell_type": "code",
   "execution_count": 25,
   "metadata": {
    "execution": {
     "iopub.execute_input": "2021-01-07T14:44:43.901006Z",
     "iopub.status.busy": "2021-01-07T14:44:43.900260Z",
     "iopub.status.idle": "2021-01-07T14:44:43.905183Z",
     "shell.execute_reply": "2021-01-07T14:44:43.904319Z"
    },
    "papermill": {
     "duration": 0.058204,
     "end_time": "2021-01-07T14:44:43.905312",
     "exception": false,
     "start_time": "2021-01-07T14:44:43.847108",
     "status": "completed"
    },
    "tags": []
   },
   "outputs": [],
   "source": [
    "data_eu=data[data['European Union Membership']=='Member']\n",
    "data_not_eu=data[data['European Union Membership']=='Not Member']"
   ]
  },
  {
   "cell_type": "code",
   "execution_count": 26,
   "metadata": {
    "execution": {
     "iopub.execute_input": "2021-01-07T14:44:44.004166Z",
     "iopub.status.busy": "2021-01-07T14:44:44.003443Z",
     "iopub.status.idle": "2021-01-07T14:44:44.008843Z",
     "shell.execute_reply": "2021-01-07T14:44:44.008158Z"
    },
    "papermill": {
     "duration": 0.060498,
     "end_time": "2021-01-07T14:44:44.008962",
     "exception": false,
     "start_time": "2021-01-07T14:44:43.948464",
     "status": "completed"
    },
    "tags": []
   },
   "outputs": [
    {
     "data": {
      "text/plain": [
       "(84.0, 6.788175847129778e-06)"
      ]
     },
     "execution_count": 26,
     "metadata": {},
     "output_type": "execute_result"
    }
   ],
   "source": [
    "def mann_whitney_u_test(distribution_1, distribution_2):\n",
    "    \"\"\"\n",
    "    Perform the Mann-Whitney U Test, comparing two different distributions.\n",
    "    Args:\n",
    "       distribution_1: List. \n",
    "       distribution_2: List.\n",
    "    Outputs:\n",
    "        u_statistic: Float. U statisitic for the test.\n",
    "        p_value: Float.\n",
    "    \"\"\"\n",
    "    u_statistic, p_value = stats.mannwhitneyu(distribution_1, distribution_2)\n",
    "    return u_statistic, p_value\n",
    "\n",
    "\n",
    "#### MAIN FUNCTION ####\n",
    "#Perform the Mann-Whitney U Test on the two distributions\n",
    "mann_whitney_u_test(list(data_eu['Women Entrepreneurship Index']), list(data_not_eu['Women Entrepreneurship Index']))\n"
   ]
  },
  {
   "cell_type": "markdown",
   "metadata": {
    "papermill": {
     "duration": 0.052321,
     "end_time": "2021-01-07T14:44:44.106044",
     "exception": false,
     "start_time": "2021-01-07T14:44:44.053723",
     "status": "completed"
    },
    "tags": []
   },
   "source": [
    "since p-value<0.05 ,so H0 is rejected.Hence,it is proved that Women Entrepreneurship Index and Global Entrepreneurship Index values do not show a statistically significant difference between the countries that are members of the European Union and not"
   ]
  },
  {
   "cell_type": "code",
   "execution_count": 27,
   "metadata": {
    "execution": {
     "iopub.execute_input": "2021-01-07T14:44:44.211339Z",
     "iopub.status.busy": "2021-01-07T14:44:44.210645Z",
     "iopub.status.idle": "2021-01-07T14:44:44.214056Z",
     "shell.execute_reply": "2021-01-07T14:44:44.214956Z"
    },
    "papermill": {
     "duration": 0.058258,
     "end_time": "2021-01-07T14:44:44.215129",
     "exception": false,
     "start_time": "2021-01-07T14:44:44.156871",
     "status": "completed"
    },
    "tags": []
   },
   "outputs": [
    {
     "data": {
      "text/plain": [
       "(130.0, 0.00026689859185162853)"
      ]
     },
     "execution_count": 27,
     "metadata": {},
     "output_type": "execute_result"
    }
   ],
   "source": [
    "mann_whitney_u_test(list(data_eu['Entrepreneurship Index']), list(data_not_eu['Entrepreneurship Index']))"
   ]
  },
  {
   "cell_type": "markdown",
   "metadata": {
    "papermill": {
     "duration": 0.045783,
     "end_time": "2021-01-07T14:44:44.312608",
     "exception": false,
     "start_time": "2021-01-07T14:44:44.266825",
     "status": "completed"
    },
    "tags": []
   },
   "source": [
    "Is there a statistically significant relationship between Women's Entrepreneurship Index and Global Entrepreneurship Index values? "
   ]
  },
  {
   "cell_type": "code",
   "execution_count": 28,
   "metadata": {
    "execution": {
     "iopub.execute_input": "2021-01-07T14:44:44.411536Z",
     "iopub.status.busy": "2021-01-07T14:44:44.410385Z",
     "iopub.status.idle": "2021-01-07T14:44:44.418455Z",
     "shell.execute_reply": "2021-01-07T14:44:44.419056Z"
    },
    "papermill": {
     "duration": 0.059993,
     "end_time": "2021-01-07T14:44:44.419286",
     "exception": false,
     "start_time": "2021-01-07T14:44:44.359293",
     "status": "completed"
    },
    "tags": []
   },
   "outputs": [
    {
     "data": {
      "text/plain": [
       "0.9077539201816731"
      ]
     },
     "execution_count": 28,
     "metadata": {},
     "output_type": "execute_result"
    }
   ],
   "source": [
    "data[['Women Entrepreneurship Index','Entrepreneurship Index']].corr(method='spearman').iloc[0,1]"
   ]
  },
  {
   "cell_type": "markdown",
   "metadata": {
    "papermill": {
     "duration": 0.048886,
     "end_time": "2021-01-07T14:44:44.515217",
     "exception": false,
     "start_time": "2021-01-07T14:44:44.466331",
     "status": "completed"
    },
    "tags": []
   },
   "source": [
    "There  is a statistically significant relationship between Women's Entrepreneurship Index and Global Entrepreneurship Index values."
   ]
  },
  {
   "cell_type": "markdown",
   "metadata": {
    "papermill": {
     "duration": 0.05086,
     "end_time": "2021-01-07T14:44:44.613163",
     "exception": false,
     "start_time": "2021-01-07T14:44:44.562303",
     "status": "completed"
    },
    "tags": []
   },
   "source": [
    "# **If You Liked It Please Upvote!!**"
   ]
  },
  {
   "cell_type": "markdown",
   "metadata": {
    "papermill": {
     "duration": 0.047823,
     "end_time": "2021-01-07T14:44:44.708251",
     "exception": false,
     "start_time": "2021-01-07T14:44:44.660428",
     "status": "completed"
    },
    "tags": []
   },
   "source": [
    "<img src=\"https://media.tenor.com/images/716f637338be29904408274b45c6dabd/tenor.gif\">"
   ]
  }
 ],
 "metadata": {
  "kernelspec": {
   "display_name": "Python 3",
   "language": "python",
   "name": "python3"
  },
  "language_info": {
   "codemirror_mode": {
    "name": "ipython",
    "version": 3
   },
   "file_extension": ".py",
   "mimetype": "text/x-python",
   "name": "python",
   "nbconvert_exporter": "python",
   "pygments_lexer": "ipython3",
   "version": "3.7.6"
  },
  "papermill": {
   "duration": 15.421745,
   "end_time": "2021-01-07T14:44:44.861362",
   "environment_variables": {},
   "exception": null,
   "input_path": "__notebook__.ipynb",
   "output_path": "__notebook__.ipynb",
   "parameters": {},
   "start_time": "2021-01-07T14:44:29.439617",
   "version": "2.1.0"
  }
 },
 "nbformat": 4,
 "nbformat_minor": 4
}
